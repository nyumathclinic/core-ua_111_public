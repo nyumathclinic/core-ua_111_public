{
 "cells": [
  {
   "cell_type": "markdown",
   "metadata": {},
   "source": [
    "# Lesson 5 -  Solutions\n",
    "These exercises are to help you check your understanding during class. They will not be collected."
   ]
  },
  {
   "cell_type": "markdown",
   "metadata": {},
   "source": [
    "## Part 1 - Set up and Sort"
   ]
  },
  {
   "cell_type": "markdown",
   "metadata": {},
   "source": [
    "### Exercise 1 - Set up\n",
    "\n",
    "There is a CSV file called `NYC_Dog_Licensing.csv` in the `~/shared/data folder`. As the name indicates, this file contains information about New York City dog licences. This data comes from the [NYC OpenData project](https://opendata.cityofnewyork.us/).\n",
    "\n",
    "- Import the NYC Dog Licenses data using the `read.csv()` function and store it in an R data frame called `nyc_dogs`.\n",
    "- Load the dplyr package by excuting the ```library('dplyr')```command. You can ignore the warnings about masked opbjects.\n",
    "- Use ```mutate()``` to add a new column called `Age` to the data frame. This column should contain an approximation of each dog's age. "
   ]
  },
  {
   "cell_type": "code",
   "execution_count": 15,
   "metadata": {
    "scrolled": false
   },
   "outputs": [
    {
     "data": {
      "text/html": [
       "<table>\n",
       "<thead><tr><th scope=col>X</th><th scope=col>RowNumber</th><th scope=col>AnimalName</th><th scope=col>AnimalGender</th><th scope=col>AnimalBirthYear</th><th scope=col>BreedName</th><th scope=col>Borough</th><th scope=col>ZipCode</th><th scope=col>LicenseIssuedDate</th><th scope=col>LicenseExpiredDate</th><th scope=col>Extract.Year</th><th scope=col>Age</th></tr></thead>\n",
       "<tbody>\n",
       "\t<tr><td>1                       </td><td>34510                   </td><td>ESCO                    </td><td>F                       </td><td>2015                    </td><td>Pekingese               </td><td>NA                      </td><td>10012                   </td><td>12/15/2015              </td><td>2021-12-12              </td><td>2016                    </td><td> 6                      </td></tr>\n",
       "\t<tr><td>2                       </td><td>37953                   </td><td>FLAX                    </td><td>M                       </td><td>2011                    </td><td>Portuguese Water Dog    </td><td>NA                      </td><td>10012                   </td><td>01/13/2016              </td><td>2021-03-05              </td><td>2016                    </td><td>10                      </td></tr>\n",
       "\t<tr><td>3                       </td><td>43865                   </td><td>ZOE                     </td><td>F                       </td><td>2013                    </td><td>Maltese                 </td><td>NA                      </td><td>10014                   </td><td>02/15/2016              </td><td>2021-02-15              </td><td>2016                    </td><td> 8                      </td></tr>\n",
       "\t<tr><td>4                       </td><td>46519                   </td><td>CHESBAR                 </td><td>M                       </td><td>2006                    </td><td>Chesapeake Bay Retriever</td><td>NA                      </td><td>10012                   </td><td>02/29/2016              </td><td>2021-04-22              </td><td>2016                    </td><td>15                      </td></tr>\n",
       "\t<tr><td>5                       </td><td>47651                   </td><td>LEICA                   </td><td>F                       </td><td>2014                    </td><td>Old English Sheepdog    </td><td>NA                      </td><td>10012                   </td><td>03/05/2016              </td><td>2021-04-06              </td><td>2016                    </td><td> 7                      </td></tr>\n",
       "\t<tr><td>6                       </td><td>47720                   </td><td>TUCHA                   </td><td>M                       </td><td>2014                    </td><td>Rat Terrier             </td><td>NA                      </td><td>10013                   </td><td>03/05/2016              </td><td>2021-02-24              </td><td>2016                    </td><td> 7                      </td></tr>\n",
       "</tbody>\n",
       "</table>\n"
      ],
      "text/latex": [
       "\\begin{tabular}{r|llllllllllll}\n",
       " X & RowNumber & AnimalName & AnimalGender & AnimalBirthYear & BreedName & Borough & ZipCode & LicenseIssuedDate & LicenseExpiredDate & Extract.Year & Age\\\\\n",
       "\\hline\n",
       "\t 1                        & 34510                    & ESCO                     & F                        & 2015                     & Pekingese                & NA                       & 10012                    & 12/15/2015               & 2021-12-12               & 2016                     &  6                      \\\\\n",
       "\t 2                        & 37953                    & FLAX                     & M                        & 2011                     & Portuguese Water Dog     & NA                       & 10012                    & 01/13/2016               & 2021-03-05               & 2016                     & 10                      \\\\\n",
       "\t 3                        & 43865                    & ZOE                      & F                        & 2013                     & Maltese                  & NA                       & 10014                    & 02/15/2016               & 2021-02-15               & 2016                     &  8                      \\\\\n",
       "\t 4                        & 46519                    & CHESBAR                  & M                        & 2006                     & Chesapeake Bay Retriever & NA                       & 10012                    & 02/29/2016               & 2021-04-22               & 2016                     & 15                      \\\\\n",
       "\t 5                        & 47651                    & LEICA                    & F                        & 2014                     & Old English Sheepdog     & NA                       & 10012                    & 03/05/2016               & 2021-04-06               & 2016                     &  7                      \\\\\n",
       "\t 6                        & 47720                    & TUCHA                    & M                        & 2014                     & Rat Terrier              & NA                       & 10013                    & 03/05/2016               & 2021-02-24               & 2016                     &  7                      \\\\\n",
       "\\end{tabular}\n"
      ],
      "text/markdown": [
       "\n",
       "| X | RowNumber | AnimalName | AnimalGender | AnimalBirthYear | BreedName | Borough | ZipCode | LicenseIssuedDate | LicenseExpiredDate | Extract.Year | Age |\n",
       "|---|---|---|---|---|---|---|---|---|---|---|---|\n",
       "| 1                        | 34510                    | ESCO                     | F                        | 2015                     | Pekingese                | NA                       | 10012                    | 12/15/2015               | 2021-12-12               | 2016                     |  6                       |\n",
       "| 2                        | 37953                    | FLAX                     | M                        | 2011                     | Portuguese Water Dog     | NA                       | 10012                    | 01/13/2016               | 2021-03-05               | 2016                     | 10                       |\n",
       "| 3                        | 43865                    | ZOE                      | F                        | 2013                     | Maltese                  | NA                       | 10014                    | 02/15/2016               | 2021-02-15               | 2016                     |  8                       |\n",
       "| 4                        | 46519                    | CHESBAR                  | M                        | 2006                     | Chesapeake Bay Retriever | NA                       | 10012                    | 02/29/2016               | 2021-04-22               | 2016                     | 15                       |\n",
       "| 5                        | 47651                    | LEICA                    | F                        | 2014                     | Old English Sheepdog     | NA                       | 10012                    | 03/05/2016               | 2021-04-06               | 2016                     |  7                       |\n",
       "| 6                        | 47720                    | TUCHA                    | M                        | 2014                     | Rat Terrier              | NA                       | 10013                    | 03/05/2016               | 2021-02-24               | 2016                     |  7                       |\n",
       "\n"
      ],
      "text/plain": [
       "  X RowNumber AnimalName AnimalGender AnimalBirthYear BreedName               \n",
       "1 1 34510     ESCO       F            2015            Pekingese               \n",
       "2 2 37953     FLAX       M            2011            Portuguese Water Dog    \n",
       "3 3 43865     ZOE        F            2013            Maltese                 \n",
       "4 4 46519     CHESBAR    M            2006            Chesapeake Bay Retriever\n",
       "5 5 47651     LEICA      F            2014            Old English Sheepdog    \n",
       "6 6 47720     TUCHA      M            2014            Rat Terrier             \n",
       "  Borough ZipCode LicenseIssuedDate LicenseExpiredDate Extract.Year Age\n",
       "1 NA      10012   12/15/2015        2021-12-12         2016          6 \n",
       "2 NA      10012   01/13/2016        2021-03-05         2016         10 \n",
       "3 NA      10014   02/15/2016        2021-02-15         2016          8 \n",
       "4 NA      10012   02/29/2016        2021-04-22         2016         15 \n",
       "5 NA      10012   03/05/2016        2021-04-06         2016          7 \n",
       "6 NA      10013   03/05/2016        2021-02-24         2016          7 "
      ]
     },
     "metadata": {},
     "output_type": "display_data"
    }
   ],
   "source": [
    "nyc_dogs <- read.csv('~/shared/data/NYC_Dog_Licensing.csv')  # add the final name and path in quotes\n",
    "library('dplyr') # load the dplyr package\n",
    "\n",
    "nyc_dogs <- mutate(nyc_dogs, Age = 2021 - AnimalBirthYear) # age is approximately current_year - birth_year\n",
    "head(nyc_dogs) # view the results"
   ]
  },
  {
   "cell_type": "markdown",
   "metadata": {},
   "source": [
    "### Exercise 2 - Sort\n",
    "\n",
    "Use ```arrange()``` to sort entries in nyc_dogs in the three ways described below. In each case, check your work by using ```head()``` to view the first few rows of the result.\n",
    "\n",
    "- i) Sort by `AnimalName` column, from A to Z\n",
    "- ii) Sort by `AnimalName` from Z to A\n",
    "- iii) Sort the entries by `AnimalName` column from A to Z, then by the `AnimalBirthYear` column in descending order"
   ]
  },
  {
   "cell_type": "code",
   "execution_count": 18,
   "metadata": {},
   "outputs": [
    {
     "data": {
      "text/html": [
       "<table>\n",
       "<thead><tr><th scope=col>X</th><th scope=col>RowNumber</th><th scope=col>AnimalName</th><th scope=col>AnimalGender</th><th scope=col>AnimalBirthYear</th><th scope=col>BreedName</th><th scope=col>Borough</th><th scope=col>ZipCode</th><th scope=col>LicenseIssuedDate</th><th scope=col>LicenseExpiredDate</th><th scope=col>Extract.Year</th><th scope=col>Age</th></tr></thead>\n",
       "<tbody>\n",
       "\t<tr><td>200                          </td><td> 76458                       </td><td>ABBY                         </td><td>F                            </td><td>2016                         </td><td>Morkie                       </td><td>NA                           </td><td>10014                        </td><td>06/30/2017                   </td><td>2022-05-06                   </td><td>2017                         </td><td> 5                           </td></tr>\n",
       "\t<tr><td>357                          </td><td> 26111                       </td><td>ABBY                         </td><td>F                            </td><td>2016                         </td><td>Morkie                       </td><td>NA                           </td><td>10014                        </td><td>06/30/2017                   </td><td>2022-05-06                   </td><td>2018                         </td><td> 5                           </td></tr>\n",
       "\t<tr><td>418                          </td><td> 63866                       </td><td>AEON                         </td><td>F                            </td><td>2002                         </td><td>Labrador Retriever Crossbreed</td><td>NA                           </td><td>10012                        </td><td>04/03/2018                   </td><td>2021-04-03                   </td><td>2018                         </td><td>19                           </td></tr>\n",
       "\t<tr><td> 64                          </td><td>102636                       </td><td>ALPHA                        </td><td>F                            </td><td>2015                         </td><td>Pomeranian                   </td><td>NA                           </td><td>10014                        </td><td>11/01/2016                   </td><td>2021-11-01                   </td><td>2016                         </td><td> 6                           </td></tr>\n",
       "\t<tr><td>140                          </td><td> 36067                       </td><td>ALPHA                        </td><td>F                            </td><td>2015                         </td><td>Pomeranian                   </td><td>NA                           </td><td>10014                        </td><td>11/01/2016                   </td><td>2021-11-01                   </td><td>2017                         </td><td> 6                           </td></tr>\n",
       "\t<tr><td>299                          </td><td>  8383                       </td><td>ALPHA                        </td><td>F                            </td><td>2015                         </td><td>Pomeranian                   </td><td>NA                           </td><td>10014                        </td><td>11/01/2016                   </td><td>2021-11-01                   </td><td>2018                         </td><td> 6                           </td></tr>\n",
       "</tbody>\n",
       "</table>\n"
      ],
      "text/latex": [
       "\\begin{tabular}{r|llllllllllll}\n",
       " X & RowNumber & AnimalName & AnimalGender & AnimalBirthYear & BreedName & Borough & ZipCode & LicenseIssuedDate & LicenseExpiredDate & Extract.Year & Age\\\\\n",
       "\\hline\n",
       "\t 200                           &  76458                        & ABBY                          & F                             & 2016                          & Morkie                        & NA                            & 10014                         & 06/30/2017                    & 2022-05-06                    & 2017                          &  5                           \\\\\n",
       "\t 357                           &  26111                        & ABBY                          & F                             & 2016                          & Morkie                        & NA                            & 10014                         & 06/30/2017                    & 2022-05-06                    & 2018                          &  5                           \\\\\n",
       "\t 418                           &  63866                        & AEON                          & F                             & 2002                          & Labrador Retriever Crossbreed & NA                            & 10012                         & 04/03/2018                    & 2021-04-03                    & 2018                          & 19                           \\\\\n",
       "\t  64                           & 102636                        & ALPHA                         & F                             & 2015                          & Pomeranian                    & NA                            & 10014                         & 11/01/2016                    & 2021-11-01                    & 2016                          &  6                           \\\\\n",
       "\t 140                           &  36067                        & ALPHA                         & F                             & 2015                          & Pomeranian                    & NA                            & 10014                         & 11/01/2016                    & 2021-11-01                    & 2017                          &  6                           \\\\\n",
       "\t 299                           &   8383                        & ALPHA                         & F                             & 2015                          & Pomeranian                    & NA                            & 10014                         & 11/01/2016                    & 2021-11-01                    & 2018                          &  6                           \\\\\n",
       "\\end{tabular}\n"
      ],
      "text/markdown": [
       "\n",
       "| X | RowNumber | AnimalName | AnimalGender | AnimalBirthYear | BreedName | Borough | ZipCode | LicenseIssuedDate | LicenseExpiredDate | Extract.Year | Age |\n",
       "|---|---|---|---|---|---|---|---|---|---|---|---|\n",
       "| 200                           |  76458                        | ABBY                          | F                             | 2016                          | Morkie                        | NA                            | 10014                         | 06/30/2017                    | 2022-05-06                    | 2017                          |  5                            |\n",
       "| 357                           |  26111                        | ABBY                          | F                             | 2016                          | Morkie                        | NA                            | 10014                         | 06/30/2017                    | 2022-05-06                    | 2018                          |  5                            |\n",
       "| 418                           |  63866                        | AEON                          | F                             | 2002                          | Labrador Retriever Crossbreed | NA                            | 10012                         | 04/03/2018                    | 2021-04-03                    | 2018                          | 19                            |\n",
       "|  64                           | 102636                        | ALPHA                         | F                             | 2015                          | Pomeranian                    | NA                            | 10014                         | 11/01/2016                    | 2021-11-01                    | 2016                          |  6                            |\n",
       "| 140                           |  36067                        | ALPHA                         | F                             | 2015                          | Pomeranian                    | NA                            | 10014                         | 11/01/2016                    | 2021-11-01                    | 2017                          |  6                            |\n",
       "| 299                           |   8383                        | ALPHA                         | F                             | 2015                          | Pomeranian                    | NA                            | 10014                         | 11/01/2016                    | 2021-11-01                    | 2018                          |  6                            |\n",
       "\n"
      ],
      "text/plain": [
       "  X   RowNumber AnimalName AnimalGender AnimalBirthYear\n",
       "1 200  76458    ABBY       F            2016           \n",
       "2 357  26111    ABBY       F            2016           \n",
       "3 418  63866    AEON       F            2002           \n",
       "4  64 102636    ALPHA      F            2015           \n",
       "5 140  36067    ALPHA      F            2015           \n",
       "6 299   8383    ALPHA      F            2015           \n",
       "  BreedName                     Borough ZipCode LicenseIssuedDate\n",
       "1 Morkie                        NA      10014   06/30/2017       \n",
       "2 Morkie                        NA      10014   06/30/2017       \n",
       "3 Labrador Retriever Crossbreed NA      10012   04/03/2018       \n",
       "4 Pomeranian                    NA      10014   11/01/2016       \n",
       "5 Pomeranian                    NA      10014   11/01/2016       \n",
       "6 Pomeranian                    NA      10014   11/01/2016       \n",
       "  LicenseExpiredDate Extract.Year Age\n",
       "1 2022-05-06         2017          5 \n",
       "2 2022-05-06         2018          5 \n",
       "3 2021-04-03         2018         19 \n",
       "4 2021-11-01         2016          6 \n",
       "5 2021-11-01         2017          6 \n",
       "6 2021-11-01         2018          6 "
      ]
     },
     "metadata": {},
     "output_type": "display_data"
    }
   ],
   "source": [
    "nyc_dogs <- arrange(nyc_dogs, AnimalName)\n",
    "head(nyc_dogs)"
   ]
  },
  {
   "cell_type": "code",
   "execution_count": 4,
   "metadata": {
    "scrolled": true
   },
   "outputs": [
    {
     "data": {
      "text/html": [
       "<table>\n",
       "<thead><tr><th scope=col>X</th><th scope=col>RowNumber</th><th scope=col>AnimalName</th><th scope=col>AnimalGender</th><th scope=col>AnimalBirthYear</th><th scope=col>BreedName</th><th scope=col>Borough</th><th scope=col>ZipCode</th><th scope=col>LicenseIssuedDate</th><th scope=col>LicenseExpiredDate</th><th scope=col>Extract.Year</th><th scope=col>Age</th></tr></thead>\n",
       "<tbody>\n",
       "\t<tr><td>200                          </td><td> 76458                       </td><td>ABBY                         </td><td>F                            </td><td>2016                         </td><td>Morkie                       </td><td>NA                           </td><td>10014                        </td><td>06/30/2017                   </td><td>2022-05-06                   </td><td>2017                         </td><td> 4                           </td></tr>\n",
       "\t<tr><td>357                          </td><td> 26111                       </td><td>ABBY                         </td><td>F                            </td><td>2016                         </td><td>Morkie                       </td><td>NA                           </td><td>10014                        </td><td>06/30/2017                   </td><td>2022-05-06                   </td><td>2018                         </td><td> 4                           </td></tr>\n",
       "\t<tr><td>418                          </td><td> 63866                       </td><td>AEON                         </td><td>F                            </td><td>2002                         </td><td>Labrador Retriever Crossbreed</td><td>NA                           </td><td>10012                        </td><td>04/03/2018                   </td><td>2021-04-03                   </td><td>2018                         </td><td>18                           </td></tr>\n",
       "\t<tr><td> 64                          </td><td>102636                       </td><td>ALPHA                        </td><td>F                            </td><td>2015                         </td><td>Pomeranian                   </td><td>NA                           </td><td>10014                        </td><td>11/01/2016                   </td><td>2021-11-01                   </td><td>2016                         </td><td> 5                           </td></tr>\n",
       "\t<tr><td>140                          </td><td> 36067                       </td><td>ALPHA                        </td><td>F                            </td><td>2015                         </td><td>Pomeranian                   </td><td>NA                           </td><td>10014                        </td><td>11/01/2016                   </td><td>2021-11-01                   </td><td>2017                         </td><td> 5                           </td></tr>\n",
       "\t<tr><td>299                          </td><td>  8383                       </td><td>ALPHA                        </td><td>F                            </td><td>2015                         </td><td>Pomeranian                   </td><td>NA                           </td><td>10014                        </td><td>11/01/2016                   </td><td>2021-11-01                   </td><td>2018                         </td><td> 5                           </td></tr>\n",
       "</tbody>\n",
       "</table>\n"
      ],
      "text/latex": [
       "\\begin{tabular}{r|llllllllllll}\n",
       " X & RowNumber & AnimalName & AnimalGender & AnimalBirthYear & BreedName & Borough & ZipCode & LicenseIssuedDate & LicenseExpiredDate & Extract.Year & Age\\\\\n",
       "\\hline\n",
       "\t 200                           &  76458                        & ABBY                          & F                             & 2016                          & Morkie                        & NA                            & 10014                         & 06/30/2017                    & 2022-05-06                    & 2017                          &  4                           \\\\\n",
       "\t 357                           &  26111                        & ABBY                          & F                             & 2016                          & Morkie                        & NA                            & 10014                         & 06/30/2017                    & 2022-05-06                    & 2018                          &  4                           \\\\\n",
       "\t 418                           &  63866                        & AEON                          & F                             & 2002                          & Labrador Retriever Crossbreed & NA                            & 10012                         & 04/03/2018                    & 2021-04-03                    & 2018                          & 18                           \\\\\n",
       "\t  64                           & 102636                        & ALPHA                         & F                             & 2015                          & Pomeranian                    & NA                            & 10014                         & 11/01/2016                    & 2021-11-01                    & 2016                          &  5                           \\\\\n",
       "\t 140                           &  36067                        & ALPHA                         & F                             & 2015                          & Pomeranian                    & NA                            & 10014                         & 11/01/2016                    & 2021-11-01                    & 2017                          &  5                           \\\\\n",
       "\t 299                           &   8383                        & ALPHA                         & F                             & 2015                          & Pomeranian                    & NA                            & 10014                         & 11/01/2016                    & 2021-11-01                    & 2018                          &  5                           \\\\\n",
       "\\end{tabular}\n"
      ],
      "text/markdown": [
       "\n",
       "| X | RowNumber | AnimalName | AnimalGender | AnimalBirthYear | BreedName | Borough | ZipCode | LicenseIssuedDate | LicenseExpiredDate | Extract.Year | Age |\n",
       "|---|---|---|---|---|---|---|---|---|---|---|---|\n",
       "| 200                           |  76458                        | ABBY                          | F                             | 2016                          | Morkie                        | NA                            | 10014                         | 06/30/2017                    | 2022-05-06                    | 2017                          |  4                            |\n",
       "| 357                           |  26111                        | ABBY                          | F                             | 2016                          | Morkie                        | NA                            | 10014                         | 06/30/2017                    | 2022-05-06                    | 2018                          |  4                            |\n",
       "| 418                           |  63866                        | AEON                          | F                             | 2002                          | Labrador Retriever Crossbreed | NA                            | 10012                         | 04/03/2018                    | 2021-04-03                    | 2018                          | 18                            |\n",
       "|  64                           | 102636                        | ALPHA                         | F                             | 2015                          | Pomeranian                    | NA                            | 10014                         | 11/01/2016                    | 2021-11-01                    | 2016                          |  5                            |\n",
       "| 140                           |  36067                        | ALPHA                         | F                             | 2015                          | Pomeranian                    | NA                            | 10014                         | 11/01/2016                    | 2021-11-01                    | 2017                          |  5                            |\n",
       "| 299                           |   8383                        | ALPHA                         | F                             | 2015                          | Pomeranian                    | NA                            | 10014                         | 11/01/2016                    | 2021-11-01                    | 2018                          |  5                            |\n",
       "\n"
      ],
      "text/plain": [
       "  X   RowNumber AnimalName AnimalGender AnimalBirthYear\n",
       "1 200  76458    ABBY       F            2016           \n",
       "2 357  26111    ABBY       F            2016           \n",
       "3 418  63866    AEON       F            2002           \n",
       "4  64 102636    ALPHA      F            2015           \n",
       "5 140  36067    ALPHA      F            2015           \n",
       "6 299   8383    ALPHA      F            2015           \n",
       "  BreedName                     Borough ZipCode LicenseIssuedDate\n",
       "1 Morkie                        NA      10014   06/30/2017       \n",
       "2 Morkie                        NA      10014   06/30/2017       \n",
       "3 Labrador Retriever Crossbreed NA      10012   04/03/2018       \n",
       "4 Pomeranian                    NA      10014   11/01/2016       \n",
       "5 Pomeranian                    NA      10014   11/01/2016       \n",
       "6 Pomeranian                    NA      10014   11/01/2016       \n",
       "  LicenseExpiredDate Extract.Year Age\n",
       "1 2022-05-06         2017          4 \n",
       "2 2022-05-06         2018          4 \n",
       "3 2021-04-03         2018         18 \n",
       "4 2021-11-01         2016          5 \n",
       "5 2021-11-01         2017          5 \n",
       "6 2021-11-01         2018          5 "
      ]
     },
     "metadata": {},
     "output_type": "display_data"
    }
   ],
   "source": [
    "# i) Sort Animal Name from A to Z\n",
    "head(arrange(nyc_dogs, AnimalName))"
   ]
  },
  {
   "cell_type": "code",
   "execution_count": 5,
   "metadata": {},
   "outputs": [
    {
     "data": {
      "text/html": [
       "<table>\n",
       "<thead><tr><th scope=col>X</th><th scope=col>RowNumber</th><th scope=col>AnimalName</th><th scope=col>AnimalGender</th><th scope=col>AnimalBirthYear</th><th scope=col>BreedName</th><th scope=col>Borough</th><th scope=col>ZipCode</th><th scope=col>LicenseIssuedDate</th><th scope=col>LicenseExpiredDate</th><th scope=col>Extract.Year</th><th scope=col>Age</th></tr></thead>\n",
       "<tbody>\n",
       "\t<tr><td>184             </td><td>63576           </td><td>ZOEY            </td><td>F               </td><td>2014            </td><td>Labradoodle     </td><td>NA              </td><td>10014           </td><td>05/03/2017      </td><td>2022-03-27      </td><td>2017            </td><td>6               </td></tr>\n",
       "\t<tr><td>343             </td><td>20071           </td><td>ZOEY            </td><td>F               </td><td>2014            </td><td>Labradoodle     </td><td>NA              </td><td>10014           </td><td>05/03/2017      </td><td>2022-03-27      </td><td>2018            </td><td>6               </td></tr>\n",
       "\t<tr><td>  3             </td><td>43865           </td><td>ZOE             </td><td>F               </td><td>2013            </td><td>Maltese         </td><td>NA              </td><td>10014           </td><td>02/15/2016      </td><td>2021-02-15      </td><td>2016            </td><td>7               </td></tr>\n",
       "\t<tr><td> 79             </td><td> 9038           </td><td>ZOE             </td><td>F               </td><td>2013            </td><td>Maltese         </td><td>NA              </td><td>10014           </td><td>02/15/2016      </td><td>2021-02-15      </td><td>2017            </td><td>7               </td></tr>\n",
       "\t<tr><td>238             </td><td> 3449           </td><td>ZOE             </td><td>F               </td><td>2013            </td><td>Maltese         </td><td>NA              </td><td>10014           </td><td>02/15/2016      </td><td>2021-02-15      </td><td>2018            </td><td>7               </td></tr>\n",
       "\t<tr><td>436             </td><td>75071           </td><td>ZIRA            </td><td>F               </td><td>2017            </td><td>Brussels Griffon</td><td>NA              </td><td>10014           </td><td>05/26/2018      </td><td>2023-05-17      </td><td>2018            </td><td>3               </td></tr>\n",
       "</tbody>\n",
       "</table>\n"
      ],
      "text/latex": [
       "\\begin{tabular}{r|llllllllllll}\n",
       " X & RowNumber & AnimalName & AnimalGender & AnimalBirthYear & BreedName & Borough & ZipCode & LicenseIssuedDate & LicenseExpiredDate & Extract.Year & Age\\\\\n",
       "\\hline\n",
       "\t 184              & 63576            & ZOEY             & F                & 2014             & Labradoodle      & NA               & 10014            & 05/03/2017       & 2022-03-27       & 2017             & 6               \\\\\n",
       "\t 343              & 20071            & ZOEY             & F                & 2014             & Labradoodle      & NA               & 10014            & 05/03/2017       & 2022-03-27       & 2018             & 6               \\\\\n",
       "\t   3              & 43865            & ZOE              & F                & 2013             & Maltese          & NA               & 10014            & 02/15/2016       & 2021-02-15       & 2016             & 7               \\\\\n",
       "\t  79              &  9038            & ZOE              & F                & 2013             & Maltese          & NA               & 10014            & 02/15/2016       & 2021-02-15       & 2017             & 7               \\\\\n",
       "\t 238              &  3449            & ZOE              & F                & 2013             & Maltese          & NA               & 10014            & 02/15/2016       & 2021-02-15       & 2018             & 7               \\\\\n",
       "\t 436              & 75071            & ZIRA             & F                & 2017             & Brussels Griffon & NA               & 10014            & 05/26/2018       & 2023-05-17       & 2018             & 3               \\\\\n",
       "\\end{tabular}\n"
      ],
      "text/markdown": [
       "\n",
       "| X | RowNumber | AnimalName | AnimalGender | AnimalBirthYear | BreedName | Borough | ZipCode | LicenseIssuedDate | LicenseExpiredDate | Extract.Year | Age |\n",
       "|---|---|---|---|---|---|---|---|---|---|---|---|\n",
       "| 184              | 63576            | ZOEY             | F                | 2014             | Labradoodle      | NA               | 10014            | 05/03/2017       | 2022-03-27       | 2017             | 6                |\n",
       "| 343              | 20071            | ZOEY             | F                | 2014             | Labradoodle      | NA               | 10014            | 05/03/2017       | 2022-03-27       | 2018             | 6                |\n",
       "|   3              | 43865            | ZOE              | F                | 2013             | Maltese          | NA               | 10014            | 02/15/2016       | 2021-02-15       | 2016             | 7                |\n",
       "|  79              |  9038            | ZOE              | F                | 2013             | Maltese          | NA               | 10014            | 02/15/2016       | 2021-02-15       | 2017             | 7                |\n",
       "| 238              |  3449            | ZOE              | F                | 2013             | Maltese          | NA               | 10014            | 02/15/2016       | 2021-02-15       | 2018             | 7                |\n",
       "| 436              | 75071            | ZIRA             | F                | 2017             | Brussels Griffon | NA               | 10014            | 05/26/2018       | 2023-05-17       | 2018             | 3                |\n",
       "\n"
      ],
      "text/plain": [
       "  X   RowNumber AnimalName AnimalGender AnimalBirthYear BreedName       \n",
       "1 184 63576     ZOEY       F            2014            Labradoodle     \n",
       "2 343 20071     ZOEY       F            2014            Labradoodle     \n",
       "3   3 43865     ZOE        F            2013            Maltese         \n",
       "4  79  9038     ZOE        F            2013            Maltese         \n",
       "5 238  3449     ZOE        F            2013            Maltese         \n",
       "6 436 75071     ZIRA       F            2017            Brussels Griffon\n",
       "  Borough ZipCode LicenseIssuedDate LicenseExpiredDate Extract.Year Age\n",
       "1 NA      10014   05/03/2017        2022-03-27         2017         6  \n",
       "2 NA      10014   05/03/2017        2022-03-27         2018         6  \n",
       "3 NA      10014   02/15/2016        2021-02-15         2016         7  \n",
       "4 NA      10014   02/15/2016        2021-02-15         2017         7  \n",
       "5 NA      10014   02/15/2016        2021-02-15         2018         7  \n",
       "6 NA      10014   05/26/2018        2023-05-17         2018         3  "
      ]
     },
     "metadata": {},
     "output_type": "display_data"
    }
   ],
   "source": [
    "# ii) Sort Animal Name from Z to A\n",
    "head(arrange(nyc_dogs, desc(AnimalName)))"
   ]
  },
  {
   "cell_type": "code",
   "execution_count": 21,
   "metadata": {
    "collapsed": true
   },
   "outputs": [
    {
     "data": {
      "text/html": [
       "<table>\n",
       "<thead><tr><th scope=col>X</th><th scope=col>RowNumber</th><th scope=col>AnimalName</th><th scope=col>AnimalGender</th><th scope=col>AnimalBirthYear</th><th scope=col>BreedName</th><th scope=col>Borough</th><th scope=col>ZipCode</th><th scope=col>LicenseIssuedDate</th><th scope=col>LicenseExpiredDate</th><th scope=col>Extract.Year</th><th scope=col>Age</th></tr></thead>\n",
       "<tbody>\n",
       "\t<tr><td>200                          </td><td> 76458                       </td><td>ABBY                         </td><td>F                            </td><td>2016                         </td><td>Morkie                       </td><td>NA                           </td><td>10014                        </td><td>06/30/2017                   </td><td>2022-05-06                   </td><td>2017                         </td><td> 5                           </td></tr>\n",
       "\t<tr><td>357                          </td><td> 26111                       </td><td>ABBY                         </td><td>F                            </td><td>2016                         </td><td>Morkie                       </td><td>NA                           </td><td>10014                        </td><td>06/30/2017                   </td><td>2022-05-06                   </td><td>2018                         </td><td> 5                           </td></tr>\n",
       "\t<tr><td>418                          </td><td> 63866                       </td><td>AEON                         </td><td>F                            </td><td>2002                         </td><td>Labrador Retriever Crossbreed</td><td>NA                           </td><td>10012                        </td><td>04/03/2018                   </td><td>2021-04-03                   </td><td>2018                         </td><td>19                           </td></tr>\n",
       "\t<tr><td> 64                          </td><td>102636                       </td><td>ALPHA                        </td><td>F                            </td><td>2015                         </td><td>Pomeranian                   </td><td>NA                           </td><td>10014                        </td><td>11/01/2016                   </td><td>2021-11-01                   </td><td>2016                         </td><td> 6                           </td></tr>\n",
       "\t<tr><td>140                          </td><td> 36067                       </td><td>ALPHA                        </td><td>F                            </td><td>2015                         </td><td>Pomeranian                   </td><td>NA                           </td><td>10014                        </td><td>11/01/2016                   </td><td>2021-11-01                   </td><td>2017                         </td><td> 6                           </td></tr>\n",
       "\t<tr><td>299                          </td><td>  8383                       </td><td>ALPHA                        </td><td>F                            </td><td>2015                         </td><td>Pomeranian                   </td><td>NA                           </td><td>10014                        </td><td>11/01/2016                   </td><td>2021-11-01                   </td><td>2018                         </td><td> 6                           </td></tr>\n",
       "\t<tr><td>219                          </td><td> 99313                       </td><td>ALVIE                        </td><td>F                            </td><td>2012                         </td><td>Italian Greyhound            </td><td>NA                           </td><td>10012                        </td><td>09/30/2017                   </td><td>2022-09-18                   </td><td>2017                         </td><td> 9                           </td></tr>\n",
       "\t<tr><td>377                          </td><td> 37287                       </td><td>ALVIE                        </td><td>F                            </td><td>2012                         </td><td>Italian Greyhound            </td><td>NA                           </td><td>10012                        </td><td>09/30/2017                   </td><td>2022-09-18                   </td><td>2018                         </td><td> 9                           </td></tr>\n",
       "\t<tr><td> 21                          </td><td> 62842                       </td><td>ARCHIE                       </td><td>M                            </td><td>2012                         </td><td>Puggle                       </td><td>NA                           </td><td>10014                        </td><td>05/12/2016                   </td><td>2021-05-12                   </td><td>2016                         </td><td> 9                           </td></tr>\n",
       "\t<tr><td> 97                          </td><td> 17743                       </td><td>ARCHIE                       </td><td>M                            </td><td>2012                         </td><td>Puggle                       </td><td>NA                           </td><td>10014                        </td><td>05/12/2016                   </td><td>2021-05-12                   </td><td>2017                         </td><td> 9                           </td></tr>\n",
       "\t<tr><td>256                          </td><td>  4844                       </td><td>ARCHIE                       </td><td>M                            </td><td>2012                         </td><td>Puggle                       </td><td>NA                           </td><td>10014                        </td><td>05/12/2016                   </td><td>2021-05-12                   </td><td>2018                         </td><td> 9                           </td></tr>\n",
       "\t<tr><td>497                          </td><td>106382                       </td><td>ARIELLA                      </td><td>F                            </td><td>2013                         </td><td>German Shepherd Dog          </td><td>NA                           </td><td>10014                        </td><td>10/30/2018                   </td><td>2021-10-30                   </td><td>2018                         </td><td> 8                           </td></tr>\n",
       "\t<tr><td> 35                          </td><td> 78104                       </td><td>ARTHUR                       </td><td>M                            </td><td>2014                         </td><td>Vizsla                       </td><td>NA                           </td><td>10012                        </td><td>07/13/2016                   </td><td>2021-07-13                   </td><td>2016                         </td><td> 7                           </td></tr>\n",
       "\t<tr><td>111                          </td><td> 23956                       </td><td>ARTHUR                       </td><td>M                            </td><td>2014                         </td><td>Vizsla                       </td><td>NA                           </td><td>10012                        </td><td>07/13/2016                   </td><td>2021-07-13                   </td><td>2017                         </td><td> 7                           </td></tr>\n",
       "\t<tr><td>270                          </td><td>  5834                       </td><td>ARTHUR                       </td><td>M                            </td><td>2014                         </td><td>Vizsla                       </td><td>NA                           </td><td>10012                        </td><td>07/13/2016                   </td><td>2021-07-13                   </td><td>2018                         </td><td> 7                           </td></tr>\n",
       "\t<tr><td>478                          </td><td> 98031                       </td><td>ATHENA                       </td><td>F                            </td><td>2011                         </td><td>Staffordshire Bull Terrier   </td><td>NA                           </td><td>10013                        </td><td>09/16/2018                   </td><td>2021-05-28                   </td><td>2018                         </td><td>10                           </td></tr>\n",
       "\t<tr><td>419                          </td><td> 64389                       </td><td>BABA                         </td><td>M                            </td><td>2016                         </td><td>Poodle, Miniature            </td><td>NA                           </td><td>10013                        </td><td>04/05/2018                   </td><td>2023-04-05                   </td><td>2018                         </td><td> 5                           </td></tr>\n",
       "\t<tr><td> 25                          </td><td> 68465                       </td><td>BAGEL                        </td><td>M                            </td><td>2015                         </td><td>Poodle Crossbreed            </td><td>NA                           </td><td>10014                        </td><td>06/05/2016                   </td><td>2021-06-05                   </td><td>2016                         </td><td> 6                           </td></tr>\n",
       "\t<tr><td>101                          </td><td> 19968                       </td><td>BAGEL                        </td><td>M                            </td><td>2015                         </td><td>Poodle Crossbreed            </td><td>NA                           </td><td>10014                        </td><td>06/05/2016                   </td><td>2021-06-05                   </td><td>2017                         </td><td> 6                           </td></tr>\n",
       "\t<tr><td>260                          </td><td>  5204                       </td><td>BAGEL                        </td><td>M                            </td><td>2015                         </td><td>Poodle Crossbreed            </td><td>NA                           </td><td>10014                        </td><td>06/05/2016                   </td><td>2021-06-05                   </td><td>2018                         </td><td> 6                           </td></tr>\n",
       "\t<tr><td>207                          </td><td> 80567                       </td><td>BAILEY                       </td><td>M                            </td><td>2005                         </td><td>Chihuahua                    </td><td>NA                           </td><td>10013                        </td><td>07/18/2017                   </td><td>2022-08-30                   </td><td>2017                         </td><td>16                           </td></tr>\n",
       "\t<tr><td>364                          </td><td> 28136                       </td><td>BAILEY                       </td><td>M                            </td><td>2005                         </td><td>Chihuahua                    </td><td>NA                           </td><td>10013                        </td><td>07/18/2017                   </td><td>2022-08-30                   </td><td>2018                         </td><td>16                           </td></tr>\n",
       "\t<tr><td>164                          </td><td> 48117                       </td><td>BANDIT                       </td><td>M                            </td><td>2015                         </td><td>Havanese                     </td><td>NA                           </td><td>10014                        </td><td>02/12/2017                   </td><td>2022-02-12                   </td><td>2017                         </td><td> 6                           </td></tr>\n",
       "\t<tr><td>324                          </td><td> 12521                       </td><td>BANDIT                       </td><td>M                            </td><td>2015                         </td><td>Havanese                     </td><td>NA                           </td><td>10014                        </td><td>02/12/2017                   </td><td>2022-02-12                   </td><td>2018                         </td><td> 6                           </td></tr>\n",
       "\t<tr><td> 57                          </td><td> 93663                       </td><td>BANDIT                       </td><td>M                            </td><td>2012                         </td><td>Mudi                         </td><td>NA                           </td><td>10013                        </td><td>09/18/2016                   </td><td>2021-09-18                   </td><td>2016                         </td><td> 9                           </td></tr>\n",
       "\t<tr><td>132                          </td><td> 31572                       </td><td>BANDIT                       </td><td>M                            </td><td>2012                         </td><td>Mudi                         </td><td>NA                           </td><td>10013                        </td><td>09/18/2016                   </td><td>2021-09-18                   </td><td>2017                         </td><td> 9                           </td></tr>\n",
       "\t<tr><td>291                          </td><td>  7654                       </td><td>BANDIT                       </td><td>M                            </td><td>2012                         </td><td>Mudi                         </td><td>NA                           </td><td>10013                        </td><td>09/18/2016                   </td><td>2021-09-18                   </td><td>2018                         </td><td> 9                           </td></tr>\n",
       "\t<tr><td>  8                          </td><td> 49585                       </td><td>BANDIT                       </td><td>M                            </td><td>2007                         </td><td>Collie Crossbreed            </td><td>NA                           </td><td>10013                        </td><td>03/15/2016                   </td><td>2021-02-26                   </td><td>2016                         </td><td>14                           </td></tr>\n",
       "\t<tr><td> 84                          </td><td> 11608                       </td><td>BANDIT                       </td><td>M                            </td><td>2007                         </td><td>Collie Crossbreed            </td><td>NA                           </td><td>10013                        </td><td>03/15/2016                   </td><td>2021-02-26                   </td><td>2017                         </td><td>14                           </td></tr>\n",
       "\t<tr><td>243                          </td><td>  3814                       </td><td>BANDIT                       </td><td>M                            </td><td>2007                         </td><td>Collie Crossbreed            </td><td>NA                           </td><td>10013                        </td><td>03/15/2016                   </td><td>2021-02-26                   </td><td>2018                         </td><td>14                           </td></tr>\n",
       "\t<tr><td>...</td><td>...</td><td>...</td><td>...</td><td>...</td><td>...</td><td>...</td><td>...</td><td>...</td><td>...</td><td>...</td><td>...</td></tr>\n",
       "\t<tr><td>353                          </td><td> 22976                       </td><td>TUCKER                       </td><td>M                            </td><td>2016                         </td><td>Australian Shepherd          </td><td>NA                           </td><td>10014                        </td><td>05/31/2017                   </td><td>2022-04-24                   </td><td>2018                         </td><td> 5                           </td></tr>\n",
       "\t<tr><td>425                          </td><td> 66545                       </td><td>URSO                         </td><td>M                            </td><td>2011                         </td><td>Beagle                       </td><td>NA                           </td><td>10013                        </td><td>04/15/2018                   </td><td>2023-07-20                   </td><td>2018                         </td><td>10                           </td></tr>\n",
       "\t<tr><td> 60                          </td><td> 97912                       </td><td>VACHETTE                     </td><td>F                            </td><td>2014                         </td><td>Poodle                       </td><td>NA                           </td><td>10013                        </td><td>10/07/2016                   </td><td>2021-10-07                   </td><td>2016                         </td><td> 7                           </td></tr>\n",
       "\t<tr><td>136                          </td><td> 33557                       </td><td>VACHETTE                     </td><td>F                            </td><td>2014                         </td><td>Poodle                       </td><td>NA                           </td><td>10013                        </td><td>10/07/2016                   </td><td>2021-10-07                   </td><td>2017                         </td><td> 7                           </td></tr>\n",
       "\t<tr><td>295                          </td><td>  8001                       </td><td>VACHETTE                     </td><td>F                            </td><td>2014                         </td><td>Poodle                       </td><td>NA                           </td><td>10013                        </td><td>10/07/2016                   </td><td>2021-10-07                   </td><td>2018                         </td><td> 7                           </td></tr>\n",
       "\t<tr><td> 39                          </td><td> 83339                       </td><td>VIOLET                       </td><td>F                            </td><td>2015                         </td><td>Lowchen                      </td><td>NA                           </td><td>10013                        </td><td>08/04/2016                   </td><td>2021-09-24                   </td><td>2016                         </td><td> 6                           </td></tr>\n",
       "\t<tr><td>115                          </td><td> 26433                       </td><td>VIOLET                       </td><td>F                            </td><td>2015                         </td><td>Lowchen                      </td><td>NA                           </td><td>10013                        </td><td>08/04/2016                   </td><td>2021-09-24                   </td><td>2017                         </td><td> 6                           </td></tr>\n",
       "\t<tr><td>274                          </td><td>  6382                       </td><td>VIOLET                       </td><td>F                            </td><td>2015                         </td><td>Lowchen                      </td><td>NA                           </td><td>10013                        </td><td>08/04/2016                   </td><td>2021-09-24                   </td><td>2018                         </td><td> 6                           </td></tr>\n",
       "\t<tr><td> 58                          </td><td> 95393                       </td><td>WALLACE                      </td><td>M                            </td><td>2012                         </td><td>Scottish Terrier             </td><td>NA                           </td><td>10014                        </td><td>09/26/2016                   </td><td>2021-11-13                   </td><td>2016                         </td><td> 9                           </td></tr>\n",
       "\t<tr><td>135                          </td><td> 32451                       </td><td>WALLACE                      </td><td>M                            </td><td>2012                         </td><td>Scottish Terrier             </td><td>NA                           </td><td>10014                        </td><td>09/26/2016                   </td><td>2021-11-13                   </td><td>2017                         </td><td> 9                           </td></tr>\n",
       "\t<tr><td>293                          </td><td>  7804                       </td><td>WALLACE                      </td><td>M                            </td><td>2012                         </td><td>Scottish Terrier             </td><td>NA                           </td><td>10014                        </td><td>09/26/2016                   </td><td>2021-11-13                   </td><td>2018                         </td><td> 9                           </td></tr>\n",
       "\t<tr><td>477                          </td><td> 96911                       </td><td>WATSON                       </td><td>M                            </td><td>2018                         </td><td>Shepard Crossbreed           </td><td>NA                           </td><td>10013                        </td><td>09/11/2018                   </td><td>2023-09-11                   </td><td>2018                         </td><td> 3                           </td></tr>\n",
       "\t<tr><td>409                          </td><td> 56494                       </td><td>WHEATON                      </td><td>F                            </td><td>2016                         </td><td>Wheaton Terrier              </td><td>NA                           </td><td>10012                        </td><td>02/26/2018                   </td><td>2023-04-11                   </td><td>2018                         </td><td> 5                           </td></tr>\n",
       "\t<tr><td> 63                          </td><td>102013                       </td><td>WINNIE                       </td><td>F                            </td><td>2015                         </td><td>Vizsla                       </td><td>NA                           </td><td>10013                        </td><td>10/28/2016                   </td><td>2021-10-28                   </td><td>2016                         </td><td> 6                           </td></tr>\n",
       "\t<tr><td>139                          </td><td> 35623                       </td><td>WINNIE                       </td><td>F                            </td><td>2015                         </td><td>Vizsla                       </td><td>NA                           </td><td>10013                        </td><td>10/28/2016                   </td><td>2021-10-28                   </td><td>2017                         </td><td> 6                           </td></tr>\n",
       "\t<tr><td>298                          </td><td>  8323                       </td><td>WINNIE                       </td><td>F                            </td><td>2015                         </td><td>Vizsla                       </td><td>NA                           </td><td>10013                        </td><td>10/28/2016                   </td><td>2021-10-28                   </td><td>2018                         </td><td> 6                           </td></tr>\n",
       "\t<tr><td> 49                          </td><td> 91392                       </td><td>YODA                         </td><td>M                            </td><td>2009                         </td><td>Bull Dog, French             </td><td>NA                           </td><td>10014                        </td><td>09/09/2016                   </td><td>2021-10-14                   </td><td>2016                         </td><td>12                           </td></tr>\n",
       "\t<tr><td>125                          </td><td> 30482                       </td><td>YODA                         </td><td>M                            </td><td>2009                         </td><td>Bull Dog, French             </td><td>NA                           </td><td>10014                        </td><td>09/09/2016                   </td><td>2021-10-14                   </td><td>2017                         </td><td>12                           </td></tr>\n",
       "\t<tr><td>284                          </td><td>  7427                       </td><td>YODA                         </td><td>M                            </td><td>2009                         </td><td>Bull Dog, French             </td><td>NA                           </td><td>10014                        </td><td>09/09/2016                   </td><td>2021-10-14                   </td><td>2018                         </td><td>12                           </td></tr>\n",
       "\t<tr><td>167                          </td><td> 48617                       </td><td>ZENA                         </td><td>F                            </td><td>2016                         </td><td>Labrador Retriever Crossbreed</td><td>NA                           </td><td>10014                        </td><td>02/15/2017                   </td><td>2022-05-23                   </td><td>2017                         </td><td> 5                           </td></tr>\n",
       "\t<tr><td>326                          </td><td> 12678                       </td><td>ZENA                         </td><td>F                            </td><td>2016                         </td><td>Labrador Retriever Crossbreed</td><td>NA                           </td><td>10014                        </td><td>02/15/2017                   </td><td>2022-05-23                   </td><td>2018                         </td><td> 5                           </td></tr>\n",
       "\t<tr><td>459                          </td><td> 84178                       </td><td>ZEUS                         </td><td>M                            </td><td>2017                         </td><td>Rhodesian Ridgeback          </td><td>NA                           </td><td>10014                        </td><td>07/11/2018                   </td><td>2024-08-03                   </td><td>2018                         </td><td> 4                           </td></tr>\n",
       "\t<tr><td>427                          </td><td> 67415                       </td><td>ZIGGY                        </td><td>M                            </td><td>2017                         </td><td>Boston Terrier               </td><td>NA                           </td><td>10013                        </td><td>04/19/2018                   </td><td>2023-04-19                   </td><td>2018                         </td><td> 4                           </td></tr>\n",
       "\t<tr><td>487                          </td><td>102912                       </td><td>ZIGGY                        </td><td>F                            </td><td>2016                         </td><td>German Shepherd Dog          </td><td>NA                           </td><td>10013                        </td><td>10/12/2018                   </td><td>2023-10-12                   </td><td>2018                         </td><td> 5                           </td></tr>\n",
       "\t<tr><td>436                          </td><td> 75071                       </td><td>ZIRA                         </td><td>F                            </td><td>2017                         </td><td>Brussels Griffon             </td><td>NA                           </td><td>10014                        </td><td>05/26/2018                   </td><td>2023-05-17                   </td><td>2018                         </td><td> 4                           </td></tr>\n",
       "\t<tr><td>  3                          </td><td> 43865                       </td><td>ZOE                          </td><td>F                            </td><td>2013                         </td><td>Maltese                      </td><td>NA                           </td><td>10014                        </td><td>02/15/2016                   </td><td>2021-02-15                   </td><td>2016                         </td><td> 8                           </td></tr>\n",
       "\t<tr><td> 79                          </td><td>  9038                       </td><td>ZOE                          </td><td>F                            </td><td>2013                         </td><td>Maltese                      </td><td>NA                           </td><td>10014                        </td><td>02/15/2016                   </td><td>2021-02-15                   </td><td>2017                         </td><td> 8                           </td></tr>\n",
       "\t<tr><td>238                          </td><td>  3449                       </td><td>ZOE                          </td><td>F                            </td><td>2013                         </td><td>Maltese                      </td><td>NA                           </td><td>10014                        </td><td>02/15/2016                   </td><td>2021-02-15                   </td><td>2018                         </td><td> 8                           </td></tr>\n",
       "\t<tr><td>184                          </td><td> 63576                       </td><td>ZOEY                         </td><td>F                            </td><td>2014                         </td><td>Labradoodle                  </td><td>NA                           </td><td>10014                        </td><td>05/03/2017                   </td><td>2022-03-27                   </td><td>2017                         </td><td> 7                           </td></tr>\n",
       "\t<tr><td>343                          </td><td> 20071                       </td><td>ZOEY                         </td><td>F                            </td><td>2014                         </td><td>Labradoodle                  </td><td>NA                           </td><td>10014                        </td><td>05/03/2017                   </td><td>2022-03-27                   </td><td>2018                         </td><td> 7                           </td></tr>\n",
       "</tbody>\n",
       "</table>\n"
      ],
      "text/latex": [
       "\\begin{tabular}{r|llllllllllll}\n",
       " X & RowNumber & AnimalName & AnimalGender & AnimalBirthYear & BreedName & Borough & ZipCode & LicenseIssuedDate & LicenseExpiredDate & Extract.Year & Age\\\\\n",
       "\\hline\n",
       "\t 200                           &  76458                        & ABBY                          & F                             & 2016                          & Morkie                        & NA                            & 10014                         & 06/30/2017                    & 2022-05-06                    & 2017                          &  5                           \\\\\n",
       "\t 357                           &  26111                        & ABBY                          & F                             & 2016                          & Morkie                        & NA                            & 10014                         & 06/30/2017                    & 2022-05-06                    & 2018                          &  5                           \\\\\n",
       "\t 418                           &  63866                        & AEON                          & F                             & 2002                          & Labrador Retriever Crossbreed & NA                            & 10012                         & 04/03/2018                    & 2021-04-03                    & 2018                          & 19                           \\\\\n",
       "\t  64                           & 102636                        & ALPHA                         & F                             & 2015                          & Pomeranian                    & NA                            & 10014                         & 11/01/2016                    & 2021-11-01                    & 2016                          &  6                           \\\\\n",
       "\t 140                           &  36067                        & ALPHA                         & F                             & 2015                          & Pomeranian                    & NA                            & 10014                         & 11/01/2016                    & 2021-11-01                    & 2017                          &  6                           \\\\\n",
       "\t 299                           &   8383                        & ALPHA                         & F                             & 2015                          & Pomeranian                    & NA                            & 10014                         & 11/01/2016                    & 2021-11-01                    & 2018                          &  6                           \\\\\n",
       "\t 219                           &  99313                        & ALVIE                         & F                             & 2012                          & Italian Greyhound             & NA                            & 10012                         & 09/30/2017                    & 2022-09-18                    & 2017                          &  9                           \\\\\n",
       "\t 377                           &  37287                        & ALVIE                         & F                             & 2012                          & Italian Greyhound             & NA                            & 10012                         & 09/30/2017                    & 2022-09-18                    & 2018                          &  9                           \\\\\n",
       "\t  21                           &  62842                        & ARCHIE                        & M                             & 2012                          & Puggle                        & NA                            & 10014                         & 05/12/2016                    & 2021-05-12                    & 2016                          &  9                           \\\\\n",
       "\t  97                           &  17743                        & ARCHIE                        & M                             & 2012                          & Puggle                        & NA                            & 10014                         & 05/12/2016                    & 2021-05-12                    & 2017                          &  9                           \\\\\n",
       "\t 256                           &   4844                        & ARCHIE                        & M                             & 2012                          & Puggle                        & NA                            & 10014                         & 05/12/2016                    & 2021-05-12                    & 2018                          &  9                           \\\\\n",
       "\t 497                           & 106382                        & ARIELLA                       & F                             & 2013                          & German Shepherd Dog           & NA                            & 10014                         & 10/30/2018                    & 2021-10-30                    & 2018                          &  8                           \\\\\n",
       "\t  35                           &  78104                        & ARTHUR                        & M                             & 2014                          & Vizsla                        & NA                            & 10012                         & 07/13/2016                    & 2021-07-13                    & 2016                          &  7                           \\\\\n",
       "\t 111                           &  23956                        & ARTHUR                        & M                             & 2014                          & Vizsla                        & NA                            & 10012                         & 07/13/2016                    & 2021-07-13                    & 2017                          &  7                           \\\\\n",
       "\t 270                           &   5834                        & ARTHUR                        & M                             & 2014                          & Vizsla                        & NA                            & 10012                         & 07/13/2016                    & 2021-07-13                    & 2018                          &  7                           \\\\\n",
       "\t 478                           &  98031                        & ATHENA                        & F                             & 2011                          & Staffordshire Bull Terrier    & NA                            & 10013                         & 09/16/2018                    & 2021-05-28                    & 2018                          & 10                           \\\\\n",
       "\t 419                           &  64389                        & BABA                          & M                             & 2016                          & Poodle, Miniature             & NA                            & 10013                         & 04/05/2018                    & 2023-04-05                    & 2018                          &  5                           \\\\\n",
       "\t  25                           &  68465                        & BAGEL                         & M                             & 2015                          & Poodle Crossbreed             & NA                            & 10014                         & 06/05/2016                    & 2021-06-05                    & 2016                          &  6                           \\\\\n",
       "\t 101                           &  19968                        & BAGEL                         & M                             & 2015                          & Poodle Crossbreed             & NA                            & 10014                         & 06/05/2016                    & 2021-06-05                    & 2017                          &  6                           \\\\\n",
       "\t 260                           &   5204                        & BAGEL                         & M                             & 2015                          & Poodle Crossbreed             & NA                            & 10014                         & 06/05/2016                    & 2021-06-05                    & 2018                          &  6                           \\\\\n",
       "\t 207                           &  80567                        & BAILEY                        & M                             & 2005                          & Chihuahua                     & NA                            & 10013                         & 07/18/2017                    & 2022-08-30                    & 2017                          & 16                           \\\\\n",
       "\t 364                           &  28136                        & BAILEY                        & M                             & 2005                          & Chihuahua                     & NA                            & 10013                         & 07/18/2017                    & 2022-08-30                    & 2018                          & 16                           \\\\\n",
       "\t 164                           &  48117                        & BANDIT                        & M                             & 2015                          & Havanese                      & NA                            & 10014                         & 02/12/2017                    & 2022-02-12                    & 2017                          &  6                           \\\\\n",
       "\t 324                           &  12521                        & BANDIT                        & M                             & 2015                          & Havanese                      & NA                            & 10014                         & 02/12/2017                    & 2022-02-12                    & 2018                          &  6                           \\\\\n",
       "\t  57                           &  93663                        & BANDIT                        & M                             & 2012                          & Mudi                          & NA                            & 10013                         & 09/18/2016                    & 2021-09-18                    & 2016                          &  9                           \\\\\n",
       "\t 132                           &  31572                        & BANDIT                        & M                             & 2012                          & Mudi                          & NA                            & 10013                         & 09/18/2016                    & 2021-09-18                    & 2017                          &  9                           \\\\\n",
       "\t 291                           &   7654                        & BANDIT                        & M                             & 2012                          & Mudi                          & NA                            & 10013                         & 09/18/2016                    & 2021-09-18                    & 2018                          &  9                           \\\\\n",
       "\t   8                           &  49585                        & BANDIT                        & M                             & 2007                          & Collie Crossbreed             & NA                            & 10013                         & 03/15/2016                    & 2021-02-26                    & 2016                          & 14                           \\\\\n",
       "\t  84                           &  11608                        & BANDIT                        & M                             & 2007                          & Collie Crossbreed             & NA                            & 10013                         & 03/15/2016                    & 2021-02-26                    & 2017                          & 14                           \\\\\n",
       "\t 243                           &   3814                        & BANDIT                        & M                             & 2007                          & Collie Crossbreed             & NA                            & 10013                         & 03/15/2016                    & 2021-02-26                    & 2018                          & 14                           \\\\\n",
       "\t ... & ... & ... & ... & ... & ... & ... & ... & ... & ... & ... & ...\\\\\n",
       "\t 353                           &  22976                        & TUCKER                        & M                             & 2016                          & Australian Shepherd           & NA                            & 10014                         & 05/31/2017                    & 2022-04-24                    & 2018                          &  5                           \\\\\n",
       "\t 425                           &  66545                        & URSO                          & M                             & 2011                          & Beagle                        & NA                            & 10013                         & 04/15/2018                    & 2023-07-20                    & 2018                          & 10                           \\\\\n",
       "\t  60                           &  97912                        & VACHETTE                      & F                             & 2014                          & Poodle                        & NA                            & 10013                         & 10/07/2016                    & 2021-10-07                    & 2016                          &  7                           \\\\\n",
       "\t 136                           &  33557                        & VACHETTE                      & F                             & 2014                          & Poodle                        & NA                            & 10013                         & 10/07/2016                    & 2021-10-07                    & 2017                          &  7                           \\\\\n",
       "\t 295                           &   8001                        & VACHETTE                      & F                             & 2014                          & Poodle                        & NA                            & 10013                         & 10/07/2016                    & 2021-10-07                    & 2018                          &  7                           \\\\\n",
       "\t  39                           &  83339                        & VIOLET                        & F                             & 2015                          & Lowchen                       & NA                            & 10013                         & 08/04/2016                    & 2021-09-24                    & 2016                          &  6                           \\\\\n",
       "\t 115                           &  26433                        & VIOLET                        & F                             & 2015                          & Lowchen                       & NA                            & 10013                         & 08/04/2016                    & 2021-09-24                    & 2017                          &  6                           \\\\\n",
       "\t 274                           &   6382                        & VIOLET                        & F                             & 2015                          & Lowchen                       & NA                            & 10013                         & 08/04/2016                    & 2021-09-24                    & 2018                          &  6                           \\\\\n",
       "\t  58                           &  95393                        & WALLACE                       & M                             & 2012                          & Scottish Terrier              & NA                            & 10014                         & 09/26/2016                    & 2021-11-13                    & 2016                          &  9                           \\\\\n",
       "\t 135                           &  32451                        & WALLACE                       & M                             & 2012                          & Scottish Terrier              & NA                            & 10014                         & 09/26/2016                    & 2021-11-13                    & 2017                          &  9                           \\\\\n",
       "\t 293                           &   7804                        & WALLACE                       & M                             & 2012                          & Scottish Terrier              & NA                            & 10014                         & 09/26/2016                    & 2021-11-13                    & 2018                          &  9                           \\\\\n",
       "\t 477                           &  96911                        & WATSON                        & M                             & 2018                          & Shepard Crossbreed            & NA                            & 10013                         & 09/11/2018                    & 2023-09-11                    & 2018                          &  3                           \\\\\n",
       "\t 409                           &  56494                        & WHEATON                       & F                             & 2016                          & Wheaton Terrier               & NA                            & 10012                         & 02/26/2018                    & 2023-04-11                    & 2018                          &  5                           \\\\\n",
       "\t  63                           & 102013                        & WINNIE                        & F                             & 2015                          & Vizsla                        & NA                            & 10013                         & 10/28/2016                    & 2021-10-28                    & 2016                          &  6                           \\\\\n",
       "\t 139                           &  35623                        & WINNIE                        & F                             & 2015                          & Vizsla                        & NA                            & 10013                         & 10/28/2016                    & 2021-10-28                    & 2017                          &  6                           \\\\\n",
       "\t 298                           &   8323                        & WINNIE                        & F                             & 2015                          & Vizsla                        & NA                            & 10013                         & 10/28/2016                    & 2021-10-28                    & 2018                          &  6                           \\\\\n",
       "\t  49                           &  91392                        & YODA                          & M                             & 2009                          & Bull Dog, French              & NA                            & 10014                         & 09/09/2016                    & 2021-10-14                    & 2016                          & 12                           \\\\\n",
       "\t 125                           &  30482                        & YODA                          & M                             & 2009                          & Bull Dog, French              & NA                            & 10014                         & 09/09/2016                    & 2021-10-14                    & 2017                          & 12                           \\\\\n",
       "\t 284                           &   7427                        & YODA                          & M                             & 2009                          & Bull Dog, French              & NA                            & 10014                         & 09/09/2016                    & 2021-10-14                    & 2018                          & 12                           \\\\\n",
       "\t 167                           &  48617                        & ZENA                          & F                             & 2016                          & Labrador Retriever Crossbreed & NA                            & 10014                         & 02/15/2017                    & 2022-05-23                    & 2017                          &  5                           \\\\\n",
       "\t 326                           &  12678                        & ZENA                          & F                             & 2016                          & Labrador Retriever Crossbreed & NA                            & 10014                         & 02/15/2017                    & 2022-05-23                    & 2018                          &  5                           \\\\\n",
       "\t 459                           &  84178                        & ZEUS                          & M                             & 2017                          & Rhodesian Ridgeback           & NA                            & 10014                         & 07/11/2018                    & 2024-08-03                    & 2018                          &  4                           \\\\\n",
       "\t 427                           &  67415                        & ZIGGY                         & M                             & 2017                          & Boston Terrier                & NA                            & 10013                         & 04/19/2018                    & 2023-04-19                    & 2018                          &  4                           \\\\\n",
       "\t 487                           & 102912                        & ZIGGY                         & F                             & 2016                          & German Shepherd Dog           & NA                            & 10013                         & 10/12/2018                    & 2023-10-12                    & 2018                          &  5                           \\\\\n",
       "\t 436                           &  75071                        & ZIRA                          & F                             & 2017                          & Brussels Griffon              & NA                            & 10014                         & 05/26/2018                    & 2023-05-17                    & 2018                          &  4                           \\\\\n",
       "\t   3                           &  43865                        & ZOE                           & F                             & 2013                          & Maltese                       & NA                            & 10014                         & 02/15/2016                    & 2021-02-15                    & 2016                          &  8                           \\\\\n",
       "\t  79                           &   9038                        & ZOE                           & F                             & 2013                          & Maltese                       & NA                            & 10014                         & 02/15/2016                    & 2021-02-15                    & 2017                          &  8                           \\\\\n",
       "\t 238                           &   3449                        & ZOE                           & F                             & 2013                          & Maltese                       & NA                            & 10014                         & 02/15/2016                    & 2021-02-15                    & 2018                          &  8                           \\\\\n",
       "\t 184                           &  63576                        & ZOEY                          & F                             & 2014                          & Labradoodle                   & NA                            & 10014                         & 05/03/2017                    & 2022-03-27                    & 2017                          &  7                           \\\\\n",
       "\t 343                           &  20071                        & ZOEY                          & F                             & 2014                          & Labradoodle                   & NA                            & 10014                         & 05/03/2017                    & 2022-03-27                    & 2018                          &  7                           \\\\\n",
       "\\end{tabular}\n"
      ],
      "text/markdown": [
       "\n",
       "| X | RowNumber | AnimalName | AnimalGender | AnimalBirthYear | BreedName | Borough | ZipCode | LicenseIssuedDate | LicenseExpiredDate | Extract.Year | Age |\n",
       "|---|---|---|---|---|---|---|---|---|---|---|---|\n",
       "| 200                           |  76458                        | ABBY                          | F                             | 2016                          | Morkie                        | NA                            | 10014                         | 06/30/2017                    | 2022-05-06                    | 2017                          |  5                            |\n",
       "| 357                           |  26111                        | ABBY                          | F                             | 2016                          | Morkie                        | NA                            | 10014                         | 06/30/2017                    | 2022-05-06                    | 2018                          |  5                            |\n",
       "| 418                           |  63866                        | AEON                          | F                             | 2002                          | Labrador Retriever Crossbreed | NA                            | 10012                         | 04/03/2018                    | 2021-04-03                    | 2018                          | 19                            |\n",
       "|  64                           | 102636                        | ALPHA                         | F                             | 2015                          | Pomeranian                    | NA                            | 10014                         | 11/01/2016                    | 2021-11-01                    | 2016                          |  6                            |\n",
       "| 140                           |  36067                        | ALPHA                         | F                             | 2015                          | Pomeranian                    | NA                            | 10014                         | 11/01/2016                    | 2021-11-01                    | 2017                          |  6                            |\n",
       "| 299                           |   8383                        | ALPHA                         | F                             | 2015                          | Pomeranian                    | NA                            | 10014                         | 11/01/2016                    | 2021-11-01                    | 2018                          |  6                            |\n",
       "| 219                           |  99313                        | ALVIE                         | F                             | 2012                          | Italian Greyhound             | NA                            | 10012                         | 09/30/2017                    | 2022-09-18                    | 2017                          |  9                            |\n",
       "| 377                           |  37287                        | ALVIE                         | F                             | 2012                          | Italian Greyhound             | NA                            | 10012                         | 09/30/2017                    | 2022-09-18                    | 2018                          |  9                            |\n",
       "|  21                           |  62842                        | ARCHIE                        | M                             | 2012                          | Puggle                        | NA                            | 10014                         | 05/12/2016                    | 2021-05-12                    | 2016                          |  9                            |\n",
       "|  97                           |  17743                        | ARCHIE                        | M                             | 2012                          | Puggle                        | NA                            | 10014                         | 05/12/2016                    | 2021-05-12                    | 2017                          |  9                            |\n",
       "| 256                           |   4844                        | ARCHIE                        | M                             | 2012                          | Puggle                        | NA                            | 10014                         | 05/12/2016                    | 2021-05-12                    | 2018                          |  9                            |\n",
       "| 497                           | 106382                        | ARIELLA                       | F                             | 2013                          | German Shepherd Dog           | NA                            | 10014                         | 10/30/2018                    | 2021-10-30                    | 2018                          |  8                            |\n",
       "|  35                           |  78104                        | ARTHUR                        | M                             | 2014                          | Vizsla                        | NA                            | 10012                         | 07/13/2016                    | 2021-07-13                    | 2016                          |  7                            |\n",
       "| 111                           |  23956                        | ARTHUR                        | M                             | 2014                          | Vizsla                        | NA                            | 10012                         | 07/13/2016                    | 2021-07-13                    | 2017                          |  7                            |\n",
       "| 270                           |   5834                        | ARTHUR                        | M                             | 2014                          | Vizsla                        | NA                            | 10012                         | 07/13/2016                    | 2021-07-13                    | 2018                          |  7                            |\n",
       "| 478                           |  98031                        | ATHENA                        | F                             | 2011                          | Staffordshire Bull Terrier    | NA                            | 10013                         | 09/16/2018                    | 2021-05-28                    | 2018                          | 10                            |\n",
       "| 419                           |  64389                        | BABA                          | M                             | 2016                          | Poodle, Miniature             | NA                            | 10013                         | 04/05/2018                    | 2023-04-05                    | 2018                          |  5                            |\n",
       "|  25                           |  68465                        | BAGEL                         | M                             | 2015                          | Poodle Crossbreed             | NA                            | 10014                         | 06/05/2016                    | 2021-06-05                    | 2016                          |  6                            |\n",
       "| 101                           |  19968                        | BAGEL                         | M                             | 2015                          | Poodle Crossbreed             | NA                            | 10014                         | 06/05/2016                    | 2021-06-05                    | 2017                          |  6                            |\n",
       "| 260                           |   5204                        | BAGEL                         | M                             | 2015                          | Poodle Crossbreed             | NA                            | 10014                         | 06/05/2016                    | 2021-06-05                    | 2018                          |  6                            |\n",
       "| 207                           |  80567                        | BAILEY                        | M                             | 2005                          | Chihuahua                     | NA                            | 10013                         | 07/18/2017                    | 2022-08-30                    | 2017                          | 16                            |\n",
       "| 364                           |  28136                        | BAILEY                        | M                             | 2005                          | Chihuahua                     | NA                            | 10013                         | 07/18/2017                    | 2022-08-30                    | 2018                          | 16                            |\n",
       "| 164                           |  48117                        | BANDIT                        | M                             | 2015                          | Havanese                      | NA                            | 10014                         | 02/12/2017                    | 2022-02-12                    | 2017                          |  6                            |\n",
       "| 324                           |  12521                        | BANDIT                        | M                             | 2015                          | Havanese                      | NA                            | 10014                         | 02/12/2017                    | 2022-02-12                    | 2018                          |  6                            |\n",
       "|  57                           |  93663                        | BANDIT                        | M                             | 2012                          | Mudi                          | NA                            | 10013                         | 09/18/2016                    | 2021-09-18                    | 2016                          |  9                            |\n",
       "| 132                           |  31572                        | BANDIT                        | M                             | 2012                          | Mudi                          | NA                            | 10013                         | 09/18/2016                    | 2021-09-18                    | 2017                          |  9                            |\n",
       "| 291                           |   7654                        | BANDIT                        | M                             | 2012                          | Mudi                          | NA                            | 10013                         | 09/18/2016                    | 2021-09-18                    | 2018                          |  9                            |\n",
       "|   8                           |  49585                        | BANDIT                        | M                             | 2007                          | Collie Crossbreed             | NA                            | 10013                         | 03/15/2016                    | 2021-02-26                    | 2016                          | 14                            |\n",
       "|  84                           |  11608                        | BANDIT                        | M                             | 2007                          | Collie Crossbreed             | NA                            | 10013                         | 03/15/2016                    | 2021-02-26                    | 2017                          | 14                            |\n",
       "| 243                           |   3814                        | BANDIT                        | M                             | 2007                          | Collie Crossbreed             | NA                            | 10013                         | 03/15/2016                    | 2021-02-26                    | 2018                          | 14                            |\n",
       "| ... | ... | ... | ... | ... | ... | ... | ... | ... | ... | ... | ... |\n",
       "| 353                           |  22976                        | TUCKER                        | M                             | 2016                          | Australian Shepherd           | NA                            | 10014                         | 05/31/2017                    | 2022-04-24                    | 2018                          |  5                            |\n",
       "| 425                           |  66545                        | URSO                          | M                             | 2011                          | Beagle                        | NA                            | 10013                         | 04/15/2018                    | 2023-07-20                    | 2018                          | 10                            |\n",
       "|  60                           |  97912                        | VACHETTE                      | F                             | 2014                          | Poodle                        | NA                            | 10013                         | 10/07/2016                    | 2021-10-07                    | 2016                          |  7                            |\n",
       "| 136                           |  33557                        | VACHETTE                      | F                             | 2014                          | Poodle                        | NA                            | 10013                         | 10/07/2016                    | 2021-10-07                    | 2017                          |  7                            |\n",
       "| 295                           |   8001                        | VACHETTE                      | F                             | 2014                          | Poodle                        | NA                            | 10013                         | 10/07/2016                    | 2021-10-07                    | 2018                          |  7                            |\n",
       "|  39                           |  83339                        | VIOLET                        | F                             | 2015                          | Lowchen                       | NA                            | 10013                         | 08/04/2016                    | 2021-09-24                    | 2016                          |  6                            |\n",
       "| 115                           |  26433                        | VIOLET                        | F                             | 2015                          | Lowchen                       | NA                            | 10013                         | 08/04/2016                    | 2021-09-24                    | 2017                          |  6                            |\n",
       "| 274                           |   6382                        | VIOLET                        | F                             | 2015                          | Lowchen                       | NA                            | 10013                         | 08/04/2016                    | 2021-09-24                    | 2018                          |  6                            |\n",
       "|  58                           |  95393                        | WALLACE                       | M                             | 2012                          | Scottish Terrier              | NA                            | 10014                         | 09/26/2016                    | 2021-11-13                    | 2016                          |  9                            |\n",
       "| 135                           |  32451                        | WALLACE                       | M                             | 2012                          | Scottish Terrier              | NA                            | 10014                         | 09/26/2016                    | 2021-11-13                    | 2017                          |  9                            |\n",
       "| 293                           |   7804                        | WALLACE                       | M                             | 2012                          | Scottish Terrier              | NA                            | 10014                         | 09/26/2016                    | 2021-11-13                    | 2018                          |  9                            |\n",
       "| 477                           |  96911                        | WATSON                        | M                             | 2018                          | Shepard Crossbreed            | NA                            | 10013                         | 09/11/2018                    | 2023-09-11                    | 2018                          |  3                            |\n",
       "| 409                           |  56494                        | WHEATON                       | F                             | 2016                          | Wheaton Terrier               | NA                            | 10012                         | 02/26/2018                    | 2023-04-11                    | 2018                          |  5                            |\n",
       "|  63                           | 102013                        | WINNIE                        | F                             | 2015                          | Vizsla                        | NA                            | 10013                         | 10/28/2016                    | 2021-10-28                    | 2016                          |  6                            |\n",
       "| 139                           |  35623                        | WINNIE                        | F                             | 2015                          | Vizsla                        | NA                            | 10013                         | 10/28/2016                    | 2021-10-28                    | 2017                          |  6                            |\n",
       "| 298                           |   8323                        | WINNIE                        | F                             | 2015                          | Vizsla                        | NA                            | 10013                         | 10/28/2016                    | 2021-10-28                    | 2018                          |  6                            |\n",
       "|  49                           |  91392                        | YODA                          | M                             | 2009                          | Bull Dog, French              | NA                            | 10014                         | 09/09/2016                    | 2021-10-14                    | 2016                          | 12                            |\n",
       "| 125                           |  30482                        | YODA                          | M                             | 2009                          | Bull Dog, French              | NA                            | 10014                         | 09/09/2016                    | 2021-10-14                    | 2017                          | 12                            |\n",
       "| 284                           |   7427                        | YODA                          | M                             | 2009                          | Bull Dog, French              | NA                            | 10014                         | 09/09/2016                    | 2021-10-14                    | 2018                          | 12                            |\n",
       "| 167                           |  48617                        | ZENA                          | F                             | 2016                          | Labrador Retriever Crossbreed | NA                            | 10014                         | 02/15/2017                    | 2022-05-23                    | 2017                          |  5                            |\n",
       "| 326                           |  12678                        | ZENA                          | F                             | 2016                          | Labrador Retriever Crossbreed | NA                            | 10014                         | 02/15/2017                    | 2022-05-23                    | 2018                          |  5                            |\n",
       "| 459                           |  84178                        | ZEUS                          | M                             | 2017                          | Rhodesian Ridgeback           | NA                            | 10014                         | 07/11/2018                    | 2024-08-03                    | 2018                          |  4                            |\n",
       "| 427                           |  67415                        | ZIGGY                         | M                             | 2017                          | Boston Terrier                | NA                            | 10013                         | 04/19/2018                    | 2023-04-19                    | 2018                          |  4                            |\n",
       "| 487                           | 102912                        | ZIGGY                         | F                             | 2016                          | German Shepherd Dog           | NA                            | 10013                         | 10/12/2018                    | 2023-10-12                    | 2018                          |  5                            |\n",
       "| 436                           |  75071                        | ZIRA                          | F                             | 2017                          | Brussels Griffon              | NA                            | 10014                         | 05/26/2018                    | 2023-05-17                    | 2018                          |  4                            |\n",
       "|   3                           |  43865                        | ZOE                           | F                             | 2013                          | Maltese                       | NA                            | 10014                         | 02/15/2016                    | 2021-02-15                    | 2016                          |  8                            |\n",
       "|  79                           |   9038                        | ZOE                           | F                             | 2013                          | Maltese                       | NA                            | 10014                         | 02/15/2016                    | 2021-02-15                    | 2017                          |  8                            |\n",
       "| 238                           |   3449                        | ZOE                           | F                             | 2013                          | Maltese                       | NA                            | 10014                         | 02/15/2016                    | 2021-02-15                    | 2018                          |  8                            |\n",
       "| 184                           |  63576                        | ZOEY                          | F                             | 2014                          | Labradoodle                   | NA                            | 10014                         | 05/03/2017                    | 2022-03-27                    | 2017                          |  7                            |\n",
       "| 343                           |  20071                        | ZOEY                          | F                             | 2014                          | Labradoodle                   | NA                            | 10014                         | 05/03/2017                    | 2022-03-27                    | 2018                          |  7                            |\n",
       "\n"
      ],
      "text/plain": [
       "    X   RowNumber AnimalName AnimalGender AnimalBirthYear\n",
       "1   200  76458    ABBY       F            2016           \n",
       "2   357  26111    ABBY       F            2016           \n",
       "3   418  63866    AEON       F            2002           \n",
       "4    64 102636    ALPHA      F            2015           \n",
       "5   140  36067    ALPHA      F            2015           \n",
       "6   299   8383    ALPHA      F            2015           \n",
       "7   219  99313    ALVIE      F            2012           \n",
       "8   377  37287    ALVIE      F            2012           \n",
       "9    21  62842    ARCHIE     M            2012           \n",
       "10   97  17743    ARCHIE     M            2012           \n",
       "11  256   4844    ARCHIE     M            2012           \n",
       "12  497 106382    ARIELLA    F            2013           \n",
       "13   35  78104    ARTHUR     M            2014           \n",
       "14  111  23956    ARTHUR     M            2014           \n",
       "15  270   5834    ARTHUR     M            2014           \n",
       "16  478  98031    ATHENA     F            2011           \n",
       "17  419  64389    BABA       M            2016           \n",
       "18   25  68465    BAGEL      M            2015           \n",
       "19  101  19968    BAGEL      M            2015           \n",
       "20  260   5204    BAGEL      M            2015           \n",
       "21  207  80567    BAILEY     M            2005           \n",
       "22  364  28136    BAILEY     M            2005           \n",
       "23  164  48117    BANDIT     M            2015           \n",
       "24  324  12521    BANDIT     M            2015           \n",
       "25   57  93663    BANDIT     M            2012           \n",
       "26  132  31572    BANDIT     M            2012           \n",
       "27  291   7654    BANDIT     M            2012           \n",
       "28    8  49585    BANDIT     M            2007           \n",
       "29   84  11608    BANDIT     M            2007           \n",
       "30  243   3814    BANDIT     M            2007           \n",
       "... ... ...       ...        ...          ...            \n",
       "486 353  22976    TUCKER     M            2016           \n",
       "487 425  66545    URSO       M            2011           \n",
       "488  60  97912    VACHETTE   F            2014           \n",
       "489 136  33557    VACHETTE   F            2014           \n",
       "490 295   8001    VACHETTE   F            2014           \n",
       "491  39  83339    VIOLET     F            2015           \n",
       "492 115  26433    VIOLET     F            2015           \n",
       "493 274   6382    VIOLET     F            2015           \n",
       "494  58  95393    WALLACE    M            2012           \n",
       "495 135  32451    WALLACE    M            2012           \n",
       "496 293   7804    WALLACE    M            2012           \n",
       "497 477  96911    WATSON     M            2018           \n",
       "498 409  56494    WHEATON    F            2016           \n",
       "499  63 102013    WINNIE     F            2015           \n",
       "500 139  35623    WINNIE     F            2015           \n",
       "501 298   8323    WINNIE     F            2015           \n",
       "502  49  91392    YODA       M            2009           \n",
       "503 125  30482    YODA       M            2009           \n",
       "504 284   7427    YODA       M            2009           \n",
       "505 167  48617    ZENA       F            2016           \n",
       "506 326  12678    ZENA       F            2016           \n",
       "507 459  84178    ZEUS       M            2017           \n",
       "508 427  67415    ZIGGY      M            2017           \n",
       "509 487 102912    ZIGGY      F            2016           \n",
       "510 436  75071    ZIRA       F            2017           \n",
       "511   3  43865    ZOE        F            2013           \n",
       "512  79   9038    ZOE        F            2013           \n",
       "513 238   3449    ZOE        F            2013           \n",
       "514 184  63576    ZOEY       F            2014           \n",
       "515 343  20071    ZOEY       F            2014           \n",
       "    BreedName                     Borough ZipCode LicenseIssuedDate\n",
       "1   Morkie                        NA      10014   06/30/2017       \n",
       "2   Morkie                        NA      10014   06/30/2017       \n",
       "3   Labrador Retriever Crossbreed NA      10012   04/03/2018       \n",
       "4   Pomeranian                    NA      10014   11/01/2016       \n",
       "5   Pomeranian                    NA      10014   11/01/2016       \n",
       "6   Pomeranian                    NA      10014   11/01/2016       \n",
       "7   Italian Greyhound             NA      10012   09/30/2017       \n",
       "8   Italian Greyhound             NA      10012   09/30/2017       \n",
       "9   Puggle                        NA      10014   05/12/2016       \n",
       "10  Puggle                        NA      10014   05/12/2016       \n",
       "11  Puggle                        NA      10014   05/12/2016       \n",
       "12  German Shepherd Dog           NA      10014   10/30/2018       \n",
       "13  Vizsla                        NA      10012   07/13/2016       \n",
       "14  Vizsla                        NA      10012   07/13/2016       \n",
       "15  Vizsla                        NA      10012   07/13/2016       \n",
       "16  Staffordshire Bull Terrier    NA      10013   09/16/2018       \n",
       "17  Poodle, Miniature             NA      10013   04/05/2018       \n",
       "18  Poodle Crossbreed             NA      10014   06/05/2016       \n",
       "19  Poodle Crossbreed             NA      10014   06/05/2016       \n",
       "20  Poodle Crossbreed             NA      10014   06/05/2016       \n",
       "21  Chihuahua                     NA      10013   07/18/2017       \n",
       "22  Chihuahua                     NA      10013   07/18/2017       \n",
       "23  Havanese                      NA      10014   02/12/2017       \n",
       "24  Havanese                      NA      10014   02/12/2017       \n",
       "25  Mudi                          NA      10013   09/18/2016       \n",
       "26  Mudi                          NA      10013   09/18/2016       \n",
       "27  Mudi                          NA      10013   09/18/2016       \n",
       "28  Collie Crossbreed             NA      10013   03/15/2016       \n",
       "29  Collie Crossbreed             NA      10013   03/15/2016       \n",
       "30  Collie Crossbreed             NA      10013   03/15/2016       \n",
       "... ...                           ...     ...     ...              \n",
       "486 Australian Shepherd           NA      10014   05/31/2017       \n",
       "487 Beagle                        NA      10013   04/15/2018       \n",
       "488 Poodle                        NA      10013   10/07/2016       \n",
       "489 Poodle                        NA      10013   10/07/2016       \n",
       "490 Poodle                        NA      10013   10/07/2016       \n",
       "491 Lowchen                       NA      10013   08/04/2016       \n",
       "492 Lowchen                       NA      10013   08/04/2016       \n",
       "493 Lowchen                       NA      10013   08/04/2016       \n",
       "494 Scottish Terrier              NA      10014   09/26/2016       \n",
       "495 Scottish Terrier              NA      10014   09/26/2016       \n",
       "496 Scottish Terrier              NA      10014   09/26/2016       \n",
       "497 Shepard Crossbreed            NA      10013   09/11/2018       \n",
       "498 Wheaton Terrier               NA      10012   02/26/2018       \n",
       "499 Vizsla                        NA      10013   10/28/2016       \n",
       "500 Vizsla                        NA      10013   10/28/2016       \n",
       "501 Vizsla                        NA      10013   10/28/2016       \n",
       "502 Bull Dog, French              NA      10014   09/09/2016       \n",
       "503 Bull Dog, French              NA      10014   09/09/2016       \n",
       "504 Bull Dog, French              NA      10014   09/09/2016       \n",
       "505 Labrador Retriever Crossbreed NA      10014   02/15/2017       \n",
       "506 Labrador Retriever Crossbreed NA      10014   02/15/2017       \n",
       "507 Rhodesian Ridgeback           NA      10014   07/11/2018       \n",
       "508 Boston Terrier                NA      10013   04/19/2018       \n",
       "509 German Shepherd Dog           NA      10013   10/12/2018       \n",
       "510 Brussels Griffon              NA      10014   05/26/2018       \n",
       "511 Maltese                       NA      10014   02/15/2016       \n",
       "512 Maltese                       NA      10014   02/15/2016       \n",
       "513 Maltese                       NA      10014   02/15/2016       \n",
       "514 Labradoodle                   NA      10014   05/03/2017       \n",
       "515 Labradoodle                   NA      10014   05/03/2017       \n",
       "    LicenseExpiredDate Extract.Year Age\n",
       "1   2022-05-06         2017          5 \n",
       "2   2022-05-06         2018          5 \n",
       "3   2021-04-03         2018         19 \n",
       "4   2021-11-01         2016          6 \n",
       "5   2021-11-01         2017          6 \n",
       "6   2021-11-01         2018          6 \n",
       "7   2022-09-18         2017          9 \n",
       "8   2022-09-18         2018          9 \n",
       "9   2021-05-12         2016          9 \n",
       "10  2021-05-12         2017          9 \n",
       "11  2021-05-12         2018          9 \n",
       "12  2021-10-30         2018          8 \n",
       "13  2021-07-13         2016          7 \n",
       "14  2021-07-13         2017          7 \n",
       "15  2021-07-13         2018          7 \n",
       "16  2021-05-28         2018         10 \n",
       "17  2023-04-05         2018          5 \n",
       "18  2021-06-05         2016          6 \n",
       "19  2021-06-05         2017          6 \n",
       "20  2021-06-05         2018          6 \n",
       "21  2022-08-30         2017         16 \n",
       "22  2022-08-30         2018         16 \n",
       "23  2022-02-12         2017          6 \n",
       "24  2022-02-12         2018          6 \n",
       "25  2021-09-18         2016          9 \n",
       "26  2021-09-18         2017          9 \n",
       "27  2021-09-18         2018          9 \n",
       "28  2021-02-26         2016         14 \n",
       "29  2021-02-26         2017         14 \n",
       "30  2021-02-26         2018         14 \n",
       "... ...                ...          ...\n",
       "486 2022-04-24         2018          5 \n",
       "487 2023-07-20         2018         10 \n",
       "488 2021-10-07         2016          7 \n",
       "489 2021-10-07         2017          7 \n",
       "490 2021-10-07         2018          7 \n",
       "491 2021-09-24         2016          6 \n",
       "492 2021-09-24         2017          6 \n",
       "493 2021-09-24         2018          6 \n",
       "494 2021-11-13         2016          9 \n",
       "495 2021-11-13         2017          9 \n",
       "496 2021-11-13         2018          9 \n",
       "497 2023-09-11         2018          3 \n",
       "498 2023-04-11         2018          5 \n",
       "499 2021-10-28         2016          6 \n",
       "500 2021-10-28         2017          6 \n",
       "501 2021-10-28         2018          6 \n",
       "502 2021-10-14         2016         12 \n",
       "503 2021-10-14         2017         12 \n",
       "504 2021-10-14         2018         12 \n",
       "505 2022-05-23         2017          5 \n",
       "506 2022-05-23         2018          5 \n",
       "507 2024-08-03         2018          4 \n",
       "508 2023-04-19         2018          4 \n",
       "509 2023-10-12         2018          5 \n",
       "510 2023-05-17         2018          4 \n",
       "511 2021-02-15         2016          8 \n",
       "512 2021-02-15         2017          8 \n",
       "513 2021-02-15         2018          8 \n",
       "514 2022-03-27         2017          7 \n",
       "515 2022-03-27         2018          7 "
      ]
     },
     "metadata": {},
     "output_type": "display_data"
    }
   ],
   "source": [
    "# iii) Sort Animal Name from A to Z, then short by Animal Birth Year in decending order\n",
    "# Strategy 1\n",
    "# display without storing the information\n",
    "arrange(nyc_dogs, AnimalName, desc(AnimalBirthYear))"
   ]
  },
  {
   "cell_type": "code",
   "execution_count": 100,
   "metadata": {
    "collapsed": true
   },
   "outputs": [
    {
     "data": {
      "text/html": [
       "<table>\n",
       "<caption>A data.frame: 6 × 12</caption>\n",
       "<thead>\n",
       "\t<tr><th></th><th scope=col>X</th><th scope=col>RowNumber</th><th scope=col>AnimalName</th><th scope=col>AnimalGender</th><th scope=col>AnimalBirthYear</th><th scope=col>BreedName</th><th scope=col>Borough</th><th scope=col>ZipCode</th><th scope=col>LicenseIssuedDate</th><th scope=col>LicenseExpiredDate</th><th scope=col>Extract.Year</th><th scope=col>Age</th></tr>\n",
       "\t<tr><th></th><th scope=col>&lt;int&gt;</th><th scope=col>&lt;int&gt;</th><th scope=col>&lt;fct&gt;</th><th scope=col>&lt;fct&gt;</th><th scope=col>&lt;int&gt;</th><th scope=col>&lt;fct&gt;</th><th scope=col>&lt;lgl&gt;</th><th scope=col>&lt;int&gt;</th><th scope=col>&lt;fct&gt;</th><th scope=col>&lt;fct&gt;</th><th scope=col>&lt;int&gt;</th><th scope=col>&lt;dbl&gt;</th></tr>\n",
       "</thead>\n",
       "<tbody>\n",
       "\t<tr><th scope=row>1</th><td>200</td><td> 76458</td><td>ABBY </td><td>F</td><td>2016</td><td>Morkie                       </td><td>NA</td><td>10014</td><td>06/30/2017</td><td>2022-05-06</td><td>2017</td><td> 4</td></tr>\n",
       "\t<tr><th scope=row>2</th><td>357</td><td> 26111</td><td>ABBY </td><td>F</td><td>2016</td><td>Morkie                       </td><td>NA</td><td>10014</td><td>06/30/2017</td><td>2022-05-06</td><td>2018</td><td> 4</td></tr>\n",
       "\t<tr><th scope=row>3</th><td>418</td><td> 63866</td><td>AEON </td><td>F</td><td>2002</td><td>Labrador Retriever Crossbreed</td><td>NA</td><td>10012</td><td>04/03/2018</td><td>2021-04-03</td><td>2018</td><td>18</td></tr>\n",
       "\t<tr><th scope=row>4</th><td> 64</td><td>102636</td><td>ALPHA</td><td>F</td><td>2015</td><td>Pomeranian                   </td><td>NA</td><td>10014</td><td>11/01/2016</td><td>2021-11-01</td><td>2016</td><td> 5</td></tr>\n",
       "\t<tr><th scope=row>5</th><td>140</td><td> 36067</td><td>ALPHA</td><td>F</td><td>2015</td><td>Pomeranian                   </td><td>NA</td><td>10014</td><td>11/01/2016</td><td>2021-11-01</td><td>2017</td><td> 5</td></tr>\n",
       "\t<tr><th scope=row>6</th><td>299</td><td>  8383</td><td>ALPHA</td><td>F</td><td>2015</td><td>Pomeranian                   </td><td>NA</td><td>10014</td><td>11/01/2016</td><td>2021-11-01</td><td>2018</td><td> 5</td></tr>\n",
       "</tbody>\n",
       "</table>\n"
      ],
      "text/latex": [
       "A data.frame: 6 × 12\n",
       "\\begin{tabular}{r|llllllllllll}\n",
       "  & X & RowNumber & AnimalName & AnimalGender & AnimalBirthYear & BreedName & Borough & ZipCode & LicenseIssuedDate & LicenseExpiredDate & Extract.Year & Age\\\\\n",
       "  & <int> & <int> & <fct> & <fct> & <int> & <fct> & <lgl> & <int> & <fct> & <fct> & <int> & <dbl>\\\\\n",
       "\\hline\n",
       "\t1 & 200 &  76458 & ABBY  & F & 2016 & Morkie                        & NA & 10014 & 06/30/2017 & 2022-05-06 & 2017 &  4\\\\\n",
       "\t2 & 357 &  26111 & ABBY  & F & 2016 & Morkie                        & NA & 10014 & 06/30/2017 & 2022-05-06 & 2018 &  4\\\\\n",
       "\t3 & 418 &  63866 & AEON  & F & 2002 & Labrador Retriever Crossbreed & NA & 10012 & 04/03/2018 & 2021-04-03 & 2018 & 18\\\\\n",
       "\t4 &  64 & 102636 & ALPHA & F & 2015 & Pomeranian                    & NA & 10014 & 11/01/2016 & 2021-11-01 & 2016 &  5\\\\\n",
       "\t5 & 140 &  36067 & ALPHA & F & 2015 & Pomeranian                    & NA & 10014 & 11/01/2016 & 2021-11-01 & 2017 &  5\\\\\n",
       "\t6 & 299 &   8383 & ALPHA & F & 2015 & Pomeranian                    & NA & 10014 & 11/01/2016 & 2021-11-01 & 2018 &  5\\\\\n",
       "\\end{tabular}\n"
      ],
      "text/markdown": [
       "\n",
       "A data.frame: 6 × 12\n",
       "\n",
       "| <!--/--> | X &lt;int&gt; | RowNumber &lt;int&gt; | AnimalName &lt;fct&gt; | AnimalGender &lt;fct&gt; | AnimalBirthYear &lt;int&gt; | BreedName &lt;fct&gt; | Borough &lt;lgl&gt; | ZipCode &lt;int&gt; | LicenseIssuedDate &lt;fct&gt; | LicenseExpiredDate &lt;fct&gt; | Extract.Year &lt;int&gt; | Age &lt;dbl&gt; |\n",
       "|---|---|---|---|---|---|---|---|---|---|---|---|---|\n",
       "| 1 | 200 |  76458 | ABBY  | F | 2016 | Morkie                        | NA | 10014 | 06/30/2017 | 2022-05-06 | 2017 |  4 |\n",
       "| 2 | 357 |  26111 | ABBY  | F | 2016 | Morkie                        | NA | 10014 | 06/30/2017 | 2022-05-06 | 2018 |  4 |\n",
       "| 3 | 418 |  63866 | AEON  | F | 2002 | Labrador Retriever Crossbreed | NA | 10012 | 04/03/2018 | 2021-04-03 | 2018 | 18 |\n",
       "| 4 |  64 | 102636 | ALPHA | F | 2015 | Pomeranian                    | NA | 10014 | 11/01/2016 | 2021-11-01 | 2016 |  5 |\n",
       "| 5 | 140 |  36067 | ALPHA | F | 2015 | Pomeranian                    | NA | 10014 | 11/01/2016 | 2021-11-01 | 2017 |  5 |\n",
       "| 6 | 299 |   8383 | ALPHA | F | 2015 | Pomeranian                    | NA | 10014 | 11/01/2016 | 2021-11-01 | 2018 |  5 |\n",
       "\n"
      ],
      "text/plain": [
       "  X   RowNumber AnimalName AnimalGender AnimalBirthYear\n",
       "1 200  76458    ABBY       F            2016           \n",
       "2 357  26111    ABBY       F            2016           \n",
       "3 418  63866    AEON       F            2002           \n",
       "4  64 102636    ALPHA      F            2015           \n",
       "5 140  36067    ALPHA      F            2015           \n",
       "6 299   8383    ALPHA      F            2015           \n",
       "  BreedName                     Borough ZipCode LicenseIssuedDate\n",
       "1 Morkie                        NA      10014   06/30/2017       \n",
       "2 Morkie                        NA      10014   06/30/2017       \n",
       "3 Labrador Retriever Crossbreed NA      10012   04/03/2018       \n",
       "4 Pomeranian                    NA      10014   11/01/2016       \n",
       "5 Pomeranian                    NA      10014   11/01/2016       \n",
       "6 Pomeranian                    NA      10014   11/01/2016       \n",
       "  LicenseExpiredDate Extract.Year Age\n",
       "1 2022-05-06         2017          4 \n",
       "2 2022-05-06         2018          4 \n",
       "3 2021-04-03         2018         18 \n",
       "4 2021-11-01         2016          5 \n",
       "5 2021-11-01         2017          5 \n",
       "6 2021-11-01         2018          5 "
      ]
     },
     "metadata": {},
     "output_type": "display_data"
    }
   ],
   "source": [
    "# iii) Sort Animal Name from A to Z, then short by Animal Birth Year in decending order\n",
    "# Strategy 2\n",
    "# store in variable and then display\n",
    "nyc_dogs <- arrange(nyc_dogs, desc(AnimalBirthYear))\n",
    "head(arrange(nyc_dogs, AnimalName))"
   ]
  },
  {
   "cell_type": "markdown",
   "metadata": {},
   "source": [
    "## Part 2 - Filter"
   ]
  },
  {
   "cell_type": "markdown",
   "metadata": {},
   "source": [
    "### Exercise 3 - Old Chihuahuas\n",
    "\n",
    "- i) Filter the nyc_dogs data frame to consist only of dogs are at least 10 years old and whose breed is 'Chihuahua'. Store the filtered data in a new dataframe called old_chihuahuas.\n",
    "- ii) How many chihuahuas are there in the data set that are at least 10 years old? \n",
    "- iii) What assumptions are underlying your answer? Is your number likely larger than, equal to, or smaller than the actual number."
   ]
  },
  {
   "cell_type": "code",
   "execution_count": 22,
   "metadata": {},
   "outputs": [],
   "source": [
    "# Strategy 1\n",
    "old_chihuahuas <- filter(nyc_dogs, Age >=10 & BreedName == 'Chihuahua')"
   ]
  },
  {
   "cell_type": "code",
   "execution_count": 25,
   "metadata": {},
   "outputs": [
    {
     "data": {
      "text/html": [
       "<table>\n",
       "<thead><tr><th scope=col>X</th><th scope=col>RowNumber</th><th scope=col>AnimalName</th><th scope=col>AnimalGender</th><th scope=col>AnimalBirthYear</th><th scope=col>BreedName</th><th scope=col>Borough</th><th scope=col>ZipCode</th><th scope=col>LicenseIssuedDate</th><th scope=col>LicenseExpiredDate</th><th scope=col>Extract.Year</th><th scope=col>Age</th></tr></thead>\n",
       "<tbody>\n",
       "\t<tr><td>207       </td><td>80567     </td><td>BAILEY    </td><td>M         </td><td>2005      </td><td>Chihuahua </td><td>NA        </td><td>10013     </td><td>07/18/2017</td><td>2022-08-30</td><td>2017      </td><td>16        </td></tr>\n",
       "\t<tr><td>364       </td><td>28136     </td><td>BAILEY    </td><td>M         </td><td>2005      </td><td>Chihuahua </td><td>NA        </td><td>10013     </td><td>07/18/2017</td><td>2022-08-30</td><td>2018      </td><td>16        </td></tr>\n",
       "</tbody>\n",
       "</table>\n"
      ],
      "text/latex": [
       "\\begin{tabular}{r|llllllllllll}\n",
       " X & RowNumber & AnimalName & AnimalGender & AnimalBirthYear & BreedName & Borough & ZipCode & LicenseIssuedDate & LicenseExpiredDate & Extract.Year & Age\\\\\n",
       "\\hline\n",
       "\t 207        & 80567      & BAILEY     & M          & 2005       & Chihuahua  & NA         & 10013      & 07/18/2017 & 2022-08-30 & 2017       & 16        \\\\\n",
       "\t 364        & 28136      & BAILEY     & M          & 2005       & Chihuahua  & NA         & 10013      & 07/18/2017 & 2022-08-30 & 2018       & 16        \\\\\n",
       "\\end{tabular}\n"
      ],
      "text/markdown": [
       "\n",
       "| X | RowNumber | AnimalName | AnimalGender | AnimalBirthYear | BreedName | Borough | ZipCode | LicenseIssuedDate | LicenseExpiredDate | Extract.Year | Age |\n",
       "|---|---|---|---|---|---|---|---|---|---|---|---|\n",
       "| 207        | 80567      | BAILEY     | M          | 2005       | Chihuahua  | NA         | 10013      | 07/18/2017 | 2022-08-30 | 2017       | 16         |\n",
       "| 364        | 28136      | BAILEY     | M          | 2005       | Chihuahua  | NA         | 10013      | 07/18/2017 | 2022-08-30 | 2018       | 16         |\n",
       "\n"
      ],
      "text/plain": [
       "  X   RowNumber AnimalName AnimalGender AnimalBirthYear BreedName Borough\n",
       "1 207 80567     BAILEY     M            2005            Chihuahua NA     \n",
       "2 364 28136     BAILEY     M            2005            Chihuahua NA     \n",
       "  ZipCode LicenseIssuedDate LicenseExpiredDate Extract.Year Age\n",
       "1 10013   07/18/2017        2022-08-30         2017         16 \n",
       "2 10013   07/18/2017        2022-08-30         2018         16 "
      ]
     },
     "metadata": {},
     "output_type": "display_data"
    }
   ],
   "source": [
    "# Strategy 2\n",
    "old_chihuahuas <- filter(nyc_dogs, BreedName == 'Chihuahua')\n",
    "old_chihuahuas <- filter(old_chihuahuas, Age >=10)\n",
    "head(old_chihuahuas,2)"
   ]
  },
  {
   "cell_type": "code",
   "execution_count": 26,
   "metadata": {
    "scrolled": true
   },
   "outputs": [
    {
     "name": "stdout",
     "output_type": "stream",
     "text": [
      "'data.frame':\t7 obs. of  12 variables:\n",
      " $ X                 : int  207 364 467 446 231 389 430\n",
      " $ RowNumber         : int  80567 28136 86817 80223 106922 41276 68946\n",
      " $ AnimalName        : Factor w/ 250 levels \"ABBY\",\"AEON\",..: 11 11 37 40 204 204 229\n",
      " $ AnimalGender      : Factor w/ 2 levels \"F\",\"M\": 2 2 2 2 2 2 2\n",
      " $ AnimalBirthYear   : int  2005 2005 2006 2005 2009 2009 2011\n",
      " $ BreedName         : Factor w/ 110 levels \"Airedale Terrier\",..: 26 26 26 26 26 26 26\n",
      " $ Borough           : logi  NA NA NA NA NA NA ...\n",
      " $ ZipCode           : int  10013 10013 10014 10014 10014 10014 10012\n",
      " $ LicenseIssuedDate : Factor w/ 237 levels \"01/01/2018\",\"01/03/2017\",..: 138 138 143 112 218 218 75\n",
      " $ LicenseExpiredDate: Factor w/ 234 levels \"2021-02-12\",\"2021-02-15\",..: 149 149 114 144 158 158 185\n",
      " $ Extract.Year      : int  2017 2018 2018 2018 2017 2018 2018\n",
      " $ Age               : num  16 16 15 16 12 12 10\n"
     ]
    }
   ],
   "source": [
    "# ii) How many chihuahuas are there in the data set that are at least 10 years old?\n",
    "# Strategy 1\n",
    "str(old_chihuahuas)"
   ]
  },
  {
   "cell_type": "code",
   "execution_count": 27,
   "metadata": {},
   "outputs": [
    {
     "data": {
      "text/html": [
       "7"
      ],
      "text/latex": [
       "7"
      ],
      "text/markdown": [
       "7"
      ],
      "text/plain": [
       "[1] 7"
      ]
     },
     "metadata": {},
     "output_type": "display_data"
    }
   ],
   "source": [
    "# Strategy 2 \n",
    "dim(old_chihuahuas)[1] # [1] after dim() pulls out the first entry in the result, the number of rows."
   ]
  },
  {
   "cell_type": "code",
   "execution_count": 28,
   "metadata": {},
   "outputs": [
    {
     "data": {
      "text/html": [
       "7"
      ],
      "text/latex": [
       "7"
      ],
      "text/markdown": [
       "7"
      ],
      "text/plain": [
       "[1] 7"
      ]
     },
     "metadata": {},
     "output_type": "display_data"
    }
   ],
   "source": [
    "# Strategy 3\n",
    "length(old_chihuahuas$Age)"
   ]
  },
  {
   "cell_type": "code",
   "execution_count": 29,
   "metadata": {},
   "outputs": [
    {
     "data": {
      "text/html": [
       "7"
      ],
      "text/latex": [
       "7"
      ],
      "text/markdown": [
       "7"
      ],
      "text/plain": [
       "[1] 7"
      ]
     },
     "metadata": {},
     "output_type": "display_data"
    }
   ],
   "source": [
    "# Strategy 4\n",
    "nrow(old_chihuahuas) # nrow give the number of rows in the dataframe"
   ]
  },
  {
   "cell_type": "markdown",
   "metadata": {},
   "source": [
    "There are 7 chihuahuas in the data set that are at least 10 years old."
   ]
  },
  {
   "cell_type": "markdown",
   "metadata": {},
   "source": [
    "This is assuming that all of the dogs in the data set are alive today. It is also assuming that all dogs born in 2021 are 10 years old. Both of these assumption will lead to an output that is **larger** than the actual number. "
   ]
  },
  {
   "cell_type": "markdown",
   "metadata": {},
   "source": [
    "## Part 3 - Group and Summarize"
   ]
  },
  {
   "cell_type": "markdown",
   "metadata": {},
   "source": [
    "### Exercise 4 - Where do the dogs live?\n",
    "\n",
    "Use the ```group_by()``` and ```summarize()``` functions to answer the following questions. You can ignore the warning message about `summarise()` ungrouping output.\n",
    "- How many of dogs in the nyc_dogs data set live in each zip code?"
   ]
  },
  {
   "cell_type": "code",
   "execution_count": 11,
   "metadata": {},
   "outputs": [
    {
     "data": {
      "text/html": [
       "<table>\n",
       "<thead><tr><th scope=col>ZipCode</th><th scope=col>Count</th></tr></thead>\n",
       "<tbody>\n",
       "\t<tr><td>10012</td><td>149  </td></tr>\n",
       "\t<tr><td>10013</td><td>149  </td></tr>\n",
       "\t<tr><td>10014</td><td>217  </td></tr>\n",
       "</tbody>\n",
       "</table>\n"
      ],
      "text/latex": [
       "\\begin{tabular}{r|ll}\n",
       " ZipCode & Count\\\\\n",
       "\\hline\n",
       "\t 10012 & 149  \\\\\n",
       "\t 10013 & 149  \\\\\n",
       "\t 10014 & 217  \\\\\n",
       "\\end{tabular}\n"
      ],
      "text/markdown": [
       "\n",
       "| ZipCode | Count |\n",
       "|---|---|\n",
       "| 10012 | 149   |\n",
       "| 10013 | 149   |\n",
       "| 10014 | 217   |\n",
       "\n"
      ],
      "text/plain": [
       "  ZipCode Count\n",
       "1 10012   149  \n",
       "2 10013   149  \n",
       "3 10014   217  "
      ]
     },
     "metadata": {},
     "output_type": "display_data"
    }
   ],
   "source": [
    "### Dogs per zipcode\n",
    "nyc_dogs <- ungroup(nyc_dogs) # Execute this command to remove any grouping that was applied in previous exercises.\n",
    "nyc_dogs <- group_by(nyc_dogs, ZipCode)\n",
    "head(summarize(nyc_dogs, Count=n())) # n() says count"
   ]
  },
  {
   "cell_type": "markdown",
   "metadata": {},
   "source": [
    "### Excercise 5 - Average age\n",
    "- Use the code in the cell below to remove all groupings from nyc_dogs\n",
    "- Find the average of both the female dogs and the male dogs in the nyc_dogs data frame. "
   ]
  },
  {
   "cell_type": "code",
   "execution_count": 12,
   "metadata": {},
   "outputs": [],
   "source": [
    "nyc_dogs <- ungroup(nyc_dogs) # Execute this command to remove any grouping that was applied in previous exercises."
   ]
  },
  {
   "cell_type": "code",
   "execution_count": 13,
   "metadata": {
    "scrolled": true
   },
   "outputs": [
    {
     "data": {
      "text/html": [
       "<table>\n",
       "<thead><tr><th scope=col>AnimalGender</th><th scope=col>AvgAge</th></tr></thead>\n",
       "<tbody>\n",
       "\t<tr><td>F       </td><td>6.473077</td></tr>\n",
       "\t<tr><td>M       </td><td>7.270588</td></tr>\n",
       "</tbody>\n",
       "</table>\n"
      ],
      "text/latex": [
       "\\begin{tabular}{r|ll}\n",
       " AnimalGender & AvgAge\\\\\n",
       "\\hline\n",
       "\t F        & 6.473077\\\\\n",
       "\t M        & 7.270588\\\\\n",
       "\\end{tabular}\n"
      ],
      "text/markdown": [
       "\n",
       "| AnimalGender | AvgAge |\n",
       "|---|---|\n",
       "| F        | 6.473077 |\n",
       "| M        | 7.270588 |\n",
       "\n"
      ],
      "text/plain": [
       "  AnimalGender AvgAge  \n",
       "1 F            6.473077\n",
       "2 M            7.270588"
      ]
     },
     "metadata": {},
     "output_type": "display_data"
    }
   ],
   "source": [
    "nyc_dogs <- group_by(nyc_dogs, AnimalGender)\n",
    "summarize(nyc_dogs, AvgAge = mean(Age))"
   ]
  },
  {
   "cell_type": "markdown",
   "metadata": {},
   "source": [
    "### Exercise 6 - Popular name\n",
    "- Find the most popular male dog name and the most popular female dog name in the nyc_dogs dataset."
   ]
  },
  {
   "cell_type": "code",
   "execution_count": 14,
   "metadata": {
    "scrolled": true
   },
   "outputs": [
    {
     "data": {
      "text/html": [
       "<table>\n",
       "<thead><tr><th scope=col>AnimalName</th><th scope=col>AnimalGender</th><th scope=col>Count</th></tr></thead>\n",
       "<tbody>\n",
       "\t<tr><td>BANDIT</td><td>M     </td><td>8     </td></tr>\n",
       "\t<tr><td>RUBY  </td><td>F     </td><td>7     </td></tr>\n",
       "\t<tr><td>STELLA</td><td>F     </td><td>7     </td></tr>\n",
       "\t<tr><td>GRETA </td><td>F     </td><td>6     </td></tr>\n",
       "\t<tr><td>LOLA  </td><td>F     </td><td>6     </td></tr>\n",
       "\t<tr><td>DAISY </td><td>F     </td><td>5     </td></tr>\n",
       "</tbody>\n",
       "</table>\n"
      ],
      "text/latex": [
       "\\begin{tabular}{r|lll}\n",
       " AnimalName & AnimalGender & Count\\\\\n",
       "\\hline\n",
       "\t BANDIT & M      & 8     \\\\\n",
       "\t RUBY   & F      & 7     \\\\\n",
       "\t STELLA & F      & 7     \\\\\n",
       "\t GRETA  & F      & 6     \\\\\n",
       "\t LOLA   & F      & 6     \\\\\n",
       "\t DAISY  & F      & 5     \\\\\n",
       "\\end{tabular}\n"
      ],
      "text/markdown": [
       "\n",
       "| AnimalName | AnimalGender | Count |\n",
       "|---|---|---|\n",
       "| BANDIT | M      | 8      |\n",
       "| RUBY   | F      | 7      |\n",
       "| STELLA | F      | 7      |\n",
       "| GRETA  | F      | 6      |\n",
       "| LOLA   | F      | 6      |\n",
       "| DAISY  | F      | 5      |\n",
       "\n"
      ],
      "text/plain": [
       "  AnimalName AnimalGender Count\n",
       "1 BANDIT     M            8    \n",
       "2 RUBY       F            7    \n",
       "3 STELLA     F            7    \n",
       "4 GRETA      F            6    \n",
       "5 LOLA       F            6    \n",
       "6 DAISY      F            5    "
      ]
     },
     "metadata": {},
     "output_type": "display_data"
    }
   ],
   "source": [
    "nyc_dogs <- ungroup(nyc_dogs) # Execute this command to remove any grouping that was applied in previous exercises.\n",
    "nyc_dogs <- group_by(nyc_dogs, AnimalName, AnimalGender)\n",
    "name_counts <- summarize(nyc_dogs, Count = n())\n",
    "name_counts <- arrange(name_counts, desc(Count))\n",
    "head(name_counts)"
   ]
  },
  {
   "cell_type": "markdown",
   "metadata": {},
   "source": [
    "The most popular male dog name is Bandit and the most popular female dog name is Ruby. "
   ]
  },
  {
   "cell_type": "markdown",
   "metadata": {},
   "source": [
    "## Examples"
   ]
  },
  {
   "cell_type": "markdown",
   "metadata": {},
   "source": [
    "### Example 1 - sort berkeley data"
   ]
  },
  {
   "cell_type": "code",
   "execution_count": 1,
   "metadata": {},
   "outputs": [
    {
     "ename": "ERROR",
     "evalue": "Error in arrange(berkeley, desc(Women_Admitted)): could not find function \"arrange\"\n",
     "output_type": "error",
     "traceback": [
      "Error in arrange(berkeley, desc(Women_Admitted)): could not find function \"arrange\"\nTraceback:\n"
     ]
    }
   ],
   "source": [
    "berkeley <- read.csv('~/shared/data/berkeley73.csv')\n",
    "arrange(berkeley, desc(Women_Admitted))\n",
    "rm(berkeley) # remove the variable so that it does just sit in memory."
   ]
  },
  {
   "cell_type": "markdown",
   "metadata": {},
   "source": [
    "### Example 2 - sort weather data"
   ]
  },
  {
   "cell_type": "code",
   "execution_count": null,
   "metadata": {},
   "outputs": [],
   "source": [
    "NYCaugust <- read.csv('~/shared/data/NYC_Weather_August_2020.csv')\n",
    "NYCaugust <- arrange(NYCaugust, desc(Temp_Max),Humidity_.Max)\n",
    "head(NYCaugust)\n",
    "rm(NYCaugust)  # remove the variable so that it does just sit in memory."
   ]
  },
  {
   "cell_type": "markdown",
   "metadata": {},
   "source": [
    "### Example 3 - group and summarize weather data"
   ]
  },
  {
   "cell_type": "code",
   "execution_count": null,
   "metadata": {},
   "outputs": [],
   "source": [
    "library('dplyr')\n",
    "NYCaugust <- read.csv('~/shared/data/NYC_Weather_August_2020.csv')\n",
    "NYCaugust <- group_by(NYCaugust, Wind_Min)\n",
    "head(summarize(NYCaugust, Avg_Wind_Max = mean(Wind_Max)))\n",
    "#rm(NYCaugust)  # remove the variable so that it does just sit in memory."
   ]
  },
  {
   "cell_type": "markdown",
   "metadata": {},
   "source": [
    "### Example 4 - Longest lived breed\n",
    "\n",
    "Based on the data in nyc_dogs determine what breed has the longest lifespan. "
   ]
  },
  {
   "cell_type": "code",
   "execution_count": 113,
   "metadata": {},
   "outputs": [
    {
     "data": {
      "text/html": [
       "<table>\n",
       "<caption>A grouped_df: 6 × 12</caption>\n",
       "<thead>\n",
       "\t<tr><th scope=col>X</th><th scope=col>RowNumber</th><th scope=col>AnimalName</th><th scope=col>AnimalGender</th><th scope=col>AnimalBirthYear</th><th scope=col>BreedName</th><th scope=col>Borough</th><th scope=col>ZipCode</th><th scope=col>LicenseIssuedDate</th><th scope=col>LicenseExpiredDate</th><th scope=col>Extract.Year</th><th scope=col>Age</th></tr>\n",
       "\t<tr><th scope=col>&lt;int&gt;</th><th scope=col>&lt;int&gt;</th><th scope=col>&lt;fct&gt;</th><th scope=col>&lt;fct&gt;</th><th scope=col>&lt;int&gt;</th><th scope=col>&lt;fct&gt;</th><th scope=col>&lt;lgl&gt;</th><th scope=col>&lt;int&gt;</th><th scope=col>&lt;fct&gt;</th><th scope=col>&lt;fct&gt;</th><th scope=col>&lt;int&gt;</th><th scope=col>&lt;dbl&gt;</th></tr>\n",
       "</thead>\n",
       "<tbody>\n",
       "\t<tr><td>418</td><td>63866</td><td>AEON </td><td>F</td><td>2002</td><td>Labrador Retriever Crossbreed</td><td>NA</td><td>10012</td><td>04/03/2018</td><td>2021-04-03</td><td>2018</td><td>18</td></tr>\n",
       "\t<tr><td>422</td><td>65005</td><td>SCOUT</td><td>M</td><td>2003</td><td>Cavalier King Charles Spaniel</td><td>NA</td><td>10013</td><td>04/09/2018</td><td>2023-04-09</td><td>2018</td><td>17</td></tr>\n",
       "\t<tr><td> 23</td><td>64970</td><td>BOZ  </td><td>M</td><td>2004</td><td>Labradoodle                  </td><td>NA</td><td>10014</td><td>05/19/2016</td><td>2021-05-19</td><td>2016</td><td>16</td></tr>\n",
       "\t<tr><td> 29</td><td>72188</td><td>LOLA </td><td>F</td><td>2004</td><td>Labrador Retriever           </td><td>NA</td><td>10013</td><td>06/19/2016</td><td>2021-06-19</td><td>2016</td><td>16</td></tr>\n",
       "\t<tr><td> 99</td><td>18491</td><td>BOZ  </td><td>M</td><td>2004</td><td>Labradoodle                  </td><td>NA</td><td>10014</td><td>05/19/2016</td><td>2021-05-19</td><td>2017</td><td>16</td></tr>\n",
       "\t<tr><td>105</td><td>21371</td><td>LOLA </td><td>F</td><td>2004</td><td>Labrador Retriever           </td><td>NA</td><td>10013</td><td>06/19/2016</td><td>2021-06-19</td><td>2017</td><td>16</td></tr>\n",
       "</tbody>\n",
       "</table>\n"
      ],
      "text/latex": [
       "A grouped\\_df: 6 × 12\n",
       "\\begin{tabular}{llllllllllll}\n",
       " X & RowNumber & AnimalName & AnimalGender & AnimalBirthYear & BreedName & Borough & ZipCode & LicenseIssuedDate & LicenseExpiredDate & Extract.Year & Age\\\\\n",
       " <int> & <int> & <fct> & <fct> & <int> & <fct> & <lgl> & <int> & <fct> & <fct> & <int> & <dbl>\\\\\n",
       "\\hline\n",
       "\t 418 & 63866 & AEON  & F & 2002 & Labrador Retriever Crossbreed & NA & 10012 & 04/03/2018 & 2021-04-03 & 2018 & 18\\\\\n",
       "\t 422 & 65005 & SCOUT & M & 2003 & Cavalier King Charles Spaniel & NA & 10013 & 04/09/2018 & 2023-04-09 & 2018 & 17\\\\\n",
       "\t  23 & 64970 & BOZ   & M & 2004 & Labradoodle                   & NA & 10014 & 05/19/2016 & 2021-05-19 & 2016 & 16\\\\\n",
       "\t  29 & 72188 & LOLA  & F & 2004 & Labrador Retriever            & NA & 10013 & 06/19/2016 & 2021-06-19 & 2016 & 16\\\\\n",
       "\t  99 & 18491 & BOZ   & M & 2004 & Labradoodle                   & NA & 10014 & 05/19/2016 & 2021-05-19 & 2017 & 16\\\\\n",
       "\t 105 & 21371 & LOLA  & F & 2004 & Labrador Retriever            & NA & 10013 & 06/19/2016 & 2021-06-19 & 2017 & 16\\\\\n",
       "\\end{tabular}\n"
      ],
      "text/markdown": [
       "\n",
       "A grouped_df: 6 × 12\n",
       "\n",
       "| X &lt;int&gt; | RowNumber &lt;int&gt; | AnimalName &lt;fct&gt; | AnimalGender &lt;fct&gt; | AnimalBirthYear &lt;int&gt; | BreedName &lt;fct&gt; | Borough &lt;lgl&gt; | ZipCode &lt;int&gt; | LicenseIssuedDate &lt;fct&gt; | LicenseExpiredDate &lt;fct&gt; | Extract.Year &lt;int&gt; | Age &lt;dbl&gt; |\n",
       "|---|---|---|---|---|---|---|---|---|---|---|---|\n",
       "| 418 | 63866 | AEON  | F | 2002 | Labrador Retriever Crossbreed | NA | 10012 | 04/03/2018 | 2021-04-03 | 2018 | 18 |\n",
       "| 422 | 65005 | SCOUT | M | 2003 | Cavalier King Charles Spaniel | NA | 10013 | 04/09/2018 | 2023-04-09 | 2018 | 17 |\n",
       "|  23 | 64970 | BOZ   | M | 2004 | Labradoodle                   | NA | 10014 | 05/19/2016 | 2021-05-19 | 2016 | 16 |\n",
       "|  29 | 72188 | LOLA  | F | 2004 | Labrador Retriever            | NA | 10013 | 06/19/2016 | 2021-06-19 | 2016 | 16 |\n",
       "|  99 | 18491 | BOZ   | M | 2004 | Labradoodle                   | NA | 10014 | 05/19/2016 | 2021-05-19 | 2017 | 16 |\n",
       "| 105 | 21371 | LOLA  | F | 2004 | Labrador Retriever            | NA | 10013 | 06/19/2016 | 2021-06-19 | 2017 | 16 |\n",
       "\n"
      ],
      "text/plain": [
       "  X   RowNumber AnimalName AnimalGender AnimalBirthYear\n",
       "1 418 63866     AEON       F            2002           \n",
       "2 422 65005     SCOUT      M            2003           \n",
       "3  23 64970     BOZ        M            2004           \n",
       "4  29 72188     LOLA       F            2004           \n",
       "5  99 18491     BOZ        M            2004           \n",
       "6 105 21371     LOLA       F            2004           \n",
       "  BreedName                     Borough ZipCode LicenseIssuedDate\n",
       "1 Labrador Retriever Crossbreed NA      10012   04/03/2018       \n",
       "2 Cavalier King Charles Spaniel NA      10013   04/09/2018       \n",
       "3 Labradoodle                   NA      10014   05/19/2016       \n",
       "4 Labrador Retriever            NA      10013   06/19/2016       \n",
       "5 Labradoodle                   NA      10014   05/19/2016       \n",
       "6 Labrador Retriever            NA      10013   06/19/2016       \n",
       "  LicenseExpiredDate Extract.Year Age\n",
       "1 2021-04-03         2018         18 \n",
       "2 2023-04-09         2018         17 \n",
       "3 2021-05-19         2016         16 \n",
       "4 2021-06-19         2016         16 \n",
       "5 2021-05-19         2017         16 \n",
       "6 2021-06-19         2017         16 "
      ]
     },
     "metadata": {},
     "output_type": "display_data"
    }
   ],
   "source": [
    "head(arrange(nyc_dogs, desc(Age))) # Look at the data so that we know what to expect"
   ]
  },
  {
   "cell_type": "code",
   "execution_count": 114,
   "metadata": {},
   "outputs": [],
   "source": [
    "nyc_dogs <- ungroup(nyc_dogs) # Execute this command to remove any grouping that was applied in previous exercises."
   ]
  },
  {
   "cell_type": "code",
   "execution_count": 117,
   "metadata": {},
   "outputs": [
    {
     "name": "stderr",
     "output_type": "stream",
     "text": [
      "`summarise()` ungrouping output (override with `.groups` argument)\n",
      "\n"
     ]
    },
    {
     "data": {
      "text/html": [
       "<table>\n",
       "<caption>A tibble: 6 × 2</caption>\n",
       "<thead>\n",
       "\t<tr><th scope=col>BreedName</th><th scope=col>Max_Age</th></tr>\n",
       "\t<tr><th scope=col>&lt;fct&gt;</th><th scope=col>&lt;dbl&gt;</th></tr>\n",
       "</thead>\n",
       "<tbody>\n",
       "\t<tr><td>Labrador Retriever Crossbreed</td><td>18</td></tr>\n",
       "\t<tr><td>Cavalier King Charles Spaniel</td><td>17</td></tr>\n",
       "\t<tr><td>Beagle Crossbreed            </td><td>16</td></tr>\n",
       "\t<tr><td>Labradoodle                  </td><td>16</td></tr>\n",
       "\t<tr><td>Labrador Retriever           </td><td>16</td></tr>\n",
       "\t<tr><td>Chihuahua                    </td><td>15</td></tr>\n",
       "</tbody>\n",
       "</table>\n"
      ],
      "text/latex": [
       "A tibble: 6 × 2\n",
       "\\begin{tabular}{ll}\n",
       " BreedName & Max\\_Age\\\\\n",
       " <fct> & <dbl>\\\\\n",
       "\\hline\n",
       "\t Labrador Retriever Crossbreed & 18\\\\\n",
       "\t Cavalier King Charles Spaniel & 17\\\\\n",
       "\t Beagle Crossbreed             & 16\\\\\n",
       "\t Labradoodle                   & 16\\\\\n",
       "\t Labrador Retriever            & 16\\\\\n",
       "\t Chihuahua                     & 15\\\\\n",
       "\\end{tabular}\n"
      ],
      "text/markdown": [
       "\n",
       "A tibble: 6 × 2\n",
       "\n",
       "| BreedName &lt;fct&gt; | Max_Age &lt;dbl&gt; |\n",
       "|---|---|\n",
       "| Labrador Retriever Crossbreed | 18 |\n",
       "| Cavalier King Charles Spaniel | 17 |\n",
       "| Beagle Crossbreed             | 16 |\n",
       "| Labradoodle                   | 16 |\n",
       "| Labrador Retriever            | 16 |\n",
       "| Chihuahua                     | 15 |\n",
       "\n"
      ],
      "text/plain": [
       "  BreedName                     Max_Age\n",
       "1 Labrador Retriever Crossbreed 18     \n",
       "2 Cavalier King Charles Spaniel 17     \n",
       "3 Beagle Crossbreed             16     \n",
       "4 Labradoodle                   16     \n",
       "5 Labrador Retriever            16     \n",
       "6 Chihuahua                     15     "
      ]
     },
     "metadata": {},
     "output_type": "display_data"
    }
   ],
   "source": [
    "# Strategy 1: summarize and sort\n",
    "nyc_dogs <- group_by(nyc_dogs, BreedName)\n",
    "breed_age <- summarize(nyc_dogs, Max_Age = max(Age))\n",
    "breed_age <- arrange(breed_age, desc(Max_Age))\n",
    "head(breed_age)"
   ]
  },
  {
   "cell_type": "markdown",
   "metadata": {},
   "source": [
    "We conclude that Labrador Retriever Crossbreed\tis the longest lived of the breeds, because they can reach the maximum age of 18 years old. "
   ]
  },
  {
   "cell_type": "code",
   "execution_count": 120,
   "metadata": {
    "scrolled": true
   },
   "outputs": [
    {
     "data": {
      "text/html": [
       "18"
      ],
      "text/latex": [
       "18"
      ],
      "text/markdown": [
       "18"
      ],
      "text/plain": [
       "[1] 18"
      ]
     },
     "metadata": {},
     "output_type": "display_data"
    },
    {
     "name": "stderr",
     "output_type": "stream",
     "text": [
      "`summarise()` ungrouping output (override with `.groups` argument)\n",
      "\n"
     ]
    },
    {
     "data": {
      "text/html": [
       "<table>\n",
       "<caption>A tibble: 1 × 2</caption>\n",
       "<thead>\n",
       "\t<tr><th scope=col>BreedName</th><th scope=col>Count</th></tr>\n",
       "\t<tr><th scope=col>&lt;fct&gt;</th><th scope=col>&lt;int&gt;</th></tr>\n",
       "</thead>\n",
       "<tbody>\n",
       "\t<tr><td>Labrador Retriever Crossbreed</td><td>1</td></tr>\n",
       "</tbody>\n",
       "</table>\n"
      ],
      "text/latex": [
       "A tibble: 1 × 2\n",
       "\\begin{tabular}{ll}\n",
       " BreedName & Count\\\\\n",
       " <fct> & <int>\\\\\n",
       "\\hline\n",
       "\t Labrador Retriever Crossbreed & 1\\\\\n",
       "\\end{tabular}\n"
      ],
      "text/markdown": [
       "\n",
       "A tibble: 1 × 2\n",
       "\n",
       "| BreedName &lt;fct&gt; | Count &lt;int&gt; |\n",
       "|---|---|\n",
       "| Labrador Retriever Crossbreed | 1 |\n",
       "\n"
      ],
      "text/plain": [
       "  BreedName                     Count\n",
       "1 Labrador Retriever Crossbreed 1    "
      ]
     },
     "metadata": {},
     "output_type": "display_data"
    }
   ],
   "source": [
    "# Strategy 2: Find max age then filster, summarize and sort\n",
    "max_age <- max(nyc_dogs$Age)\n",
    "max_age\n",
    "\n",
    "old_dogs <- filter(nyc_dogs, Age == max_age)\n",
    "old_dogs <- group_by(old_dogs, BreedName)\n",
    "old_breeds <- summarize(old_dogs, Count = n())\n",
    "old_breeds <- arrange(old_breeds, desc(Count))\n",
    "old_breeds"
   ]
  },
  {
   "cell_type": "markdown",
   "metadata": {},
   "source": [
    "We conclude that Labrador Retriever Crossbreed\tis the longest lived of the breeds, because they can reach the maximum age of 18 years old. "
   ]
  },
  {
   "cell_type": "markdown",
   "metadata": {},
   "source": [
    "It would be more accurage to look at the dogs who get old (say at least 10 years) rather than just those that reach the max age. "
   ]
  },
  {
   "cell_type": "code",
   "execution_count": 121,
   "metadata": {},
   "outputs": [],
   "source": [
    "nyc_dogs <- ungroup(nyc_dogs) # Execute this command to remove any grouping that was applied in previous exercises."
   ]
  },
  {
   "cell_type": "code",
   "execution_count": 128,
   "metadata": {},
   "outputs": [
    {
     "name": "stderr",
     "output_type": "stream",
     "text": [
      "`summarise()` ungrouping output (override with `.groups` argument)\n",
      "\n"
     ]
    },
    {
     "data": {
      "text/html": [
       "<table>\n",
       "<caption>A tibble: 12 × 4</caption>\n",
       "<thead>\n",
       "\t<tr><th scope=col>BreedName</th><th scope=col>Num_Old</th><th scope=col>Total</th><th scope=col>Perc_Old</th></tr>\n",
       "\t<tr><th scope=col>&lt;fct&gt;</th><th scope=col>&lt;int&gt;</th><th scope=col>&lt;int&gt;</th><th scope=col>&lt;dbl&gt;</th></tr>\n",
       "</thead>\n",
       "<tbody>\n",
       "\t<tr><td>Labrador Retriever           </td><td>17</td><td>34</td><td>50.000000</td></tr>\n",
       "\t<tr><td>Shih Tzu                     </td><td> 2</td><td>20</td><td>10.000000</td></tr>\n",
       "\t<tr><td>Labrador Retriever Crossbreed</td><td> 4</td><td>18</td><td>22.222222</td></tr>\n",
       "\t<tr><td>Labradoodle                  </td><td> 3</td><td>18</td><td>16.666667</td></tr>\n",
       "\t<tr><td>Chihuahua                    </td><td> 6</td><td>16</td><td>37.500000</td></tr>\n",
       "\t<tr><td>Yorkshire Terrier            </td><td> 6</td><td>14</td><td>42.857143</td></tr>\n",
       "\t<tr><td>French Bulldog               </td><td> 0</td><td>14</td><td> 0.000000</td></tr>\n",
       "\t<tr><td>Poodle Crossbreed            </td><td> 0</td><td>14</td><td> 0.000000</td></tr>\n",
       "\t<tr><td>Havanese                     </td><td> 2</td><td>13</td><td>15.384615</td></tr>\n",
       "\t<tr><td>Goldendoodle                 </td><td> 0</td><td>13</td><td> 0.000000</td></tr>\n",
       "\t<tr><td>Maltese                      </td><td> 1</td><td>12</td><td> 8.333333</td></tr>\n",
       "\t<tr><td>Shih Tzu Crossbreed          </td><td> 2</td><td>11</td><td>18.181818</td></tr>\n",
       "</tbody>\n",
       "</table>\n"
      ],
      "text/latex": [
       "A tibble: 12 × 4\n",
       "\\begin{tabular}{llll}\n",
       " BreedName & Num\\_Old & Total & Perc\\_Old\\\\\n",
       " <fct> & <int> & <int> & <dbl>\\\\\n",
       "\\hline\n",
       "\t Labrador Retriever            & 17 & 34 & 50.000000\\\\\n",
       "\t Shih Tzu                      &  2 & 20 & 10.000000\\\\\n",
       "\t Labrador Retriever Crossbreed &  4 & 18 & 22.222222\\\\\n",
       "\t Labradoodle                   &  3 & 18 & 16.666667\\\\\n",
       "\t Chihuahua                     &  6 & 16 & 37.500000\\\\\n",
       "\t Yorkshire Terrier             &  6 & 14 & 42.857143\\\\\n",
       "\t French Bulldog                &  0 & 14 &  0.000000\\\\\n",
       "\t Poodle Crossbreed             &  0 & 14 &  0.000000\\\\\n",
       "\t Havanese                      &  2 & 13 & 15.384615\\\\\n",
       "\t Goldendoodle                  &  0 & 13 &  0.000000\\\\\n",
       "\t Maltese                       &  1 & 12 &  8.333333\\\\\n",
       "\t Shih Tzu Crossbreed           &  2 & 11 & 18.181818\\\\\n",
       "\\end{tabular}\n"
      ],
      "text/markdown": [
       "\n",
       "A tibble: 12 × 4\n",
       "\n",
       "| BreedName &lt;fct&gt; | Num_Old &lt;int&gt; | Total &lt;int&gt; | Perc_Old &lt;dbl&gt; |\n",
       "|---|---|---|---|\n",
       "| Labrador Retriever            | 17 | 34 | 50.000000 |\n",
       "| Shih Tzu                      |  2 | 20 | 10.000000 |\n",
       "| Labrador Retriever Crossbreed |  4 | 18 | 22.222222 |\n",
       "| Labradoodle                   |  3 | 18 | 16.666667 |\n",
       "| Chihuahua                     |  6 | 16 | 37.500000 |\n",
       "| Yorkshire Terrier             |  6 | 14 | 42.857143 |\n",
       "| French Bulldog                |  0 | 14 |  0.000000 |\n",
       "| Poodle Crossbreed             |  0 | 14 |  0.000000 |\n",
       "| Havanese                      |  2 | 13 | 15.384615 |\n",
       "| Goldendoodle                  |  0 | 13 |  0.000000 |\n",
       "| Maltese                       |  1 | 12 |  8.333333 |\n",
       "| Shih Tzu Crossbreed           |  2 | 11 | 18.181818 |\n",
       "\n"
      ],
      "text/plain": [
       "   BreedName                     Num_Old Total Perc_Old \n",
       "1  Labrador Retriever            17      34    50.000000\n",
       "2  Shih Tzu                       2      20    10.000000\n",
       "3  Labrador Retriever Crossbreed  4      18    22.222222\n",
       "4  Labradoodle                    3      18    16.666667\n",
       "5  Chihuahua                      6      16    37.500000\n",
       "6  Yorkshire Terrier              6      14    42.857143\n",
       "7  French Bulldog                 0      14     0.000000\n",
       "8  Poodle Crossbreed              0      14     0.000000\n",
       "9  Havanese                       2      13    15.384615\n",
       "10 Goldendoodle                   0      13     0.000000\n",
       "11 Maltese                        1      12     8.333333\n",
       "12 Shih Tzu Crossbreed            2      11    18.181818"
      ]
     },
     "metadata": {},
     "output_type": "display_data"
    }
   ],
   "source": [
    "# Strategy 3 Highest percentage of old dogs, in knowns breeds with at least 100 representatives\n",
    "nyc_dogs <- mutate(nyc_dogs, is_old = Age >=10)\n",
    "nyc_dogs <- group_by(nyc_dogs, BreedName)\n",
    "breed_counts <- summarize(nyc_dogs, Num_Old = sum(is_old), Total = n())\n",
    "breed_counts <- mutate(breed_counts, Perc_Old = Num_Old / Total * 100)\n",
    "breed_counts <- arrange(breed_counts,desc(Total), desc(Perc_Old))\n",
    "head(breed_counts,12)"
   ]
  },
  {
   "cell_type": "markdown",
   "metadata": {},
   "source": [
    "We conclude that Labrador Retriever is most likely to live at least ten years. "
   ]
  }
 ],
 "metadata": {
  "kernelspec": {
   "display_name": "R",
   "language": "R",
   "name": "ir"
  },
  "language_info": {
   "codemirror_mode": "r",
   "file_extension": ".r",
   "mimetype": "text/x-r-source",
   "name": "R",
   "pygments_lexer": "r",
   "version": "3.6.3"
  }
 },
 "nbformat": 4,
 "nbformat_minor": 4
}
