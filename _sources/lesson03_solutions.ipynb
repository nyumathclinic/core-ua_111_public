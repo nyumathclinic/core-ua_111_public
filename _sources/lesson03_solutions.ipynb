{
 "cells": [
  {
   "cell_type": "markdown",
   "metadata": {},
   "source": [
    "# Lesson 3 Working with Data\n",
    "\n",
    "These exercises are to help you check your understanding during class. They will not be collected."
   ]
  },
  {
   "cell_type": "markdown",
   "metadata": {},
   "source": [
    "## Useful links\n",
    "### Class notes\n",
    "Link on NYU Classes or<br>\n",
    "Tiny URL: \n",
    "\n",
    "### Poll Everywhere\n",
    "The following links are also on NYU Classes<br>\n",
    "Login: https://www.polleverywhere.com/auth/saml/nyu_main<br>\n",
    "Respond: https://pollev.com/clarkson<br>"
   ]
  },
  {
   "cell_type": "markdown",
   "metadata": {},
   "source": [
    "## Part 1: Lists"
   ]
  },
  {
   "cell_type": "markdown",
   "metadata": {},
   "source": [
    "### Exercise 0 - Access notebook and copy it\n",
    "* Login to the JupyterHub: [https://coreua-111001-spring.rcnyu.org/](https://coreua-111001-fall.rcnyu.org/)\n",
    "* Nacigate to **/shared/class_notebooks** and open lesson03.jpynb\n",
    "* Save your own copy of this notebook by using the menu opetion File > Save As. In the name field, write lesson03 and then press Save. \n",
    "* Now, **refresh the page**. The red icon in the upper right should no longer be visible. "
   ]
  },
  {
   "cell_type": "markdown",
   "metadata": {},
   "source": [
    "### Exercise 1 - Review of lists\n",
    "\n",
    "Last class, we learned to make lists using both c() and number : number. We also learned to do perform arithemtic with lists.\n",
    "\n",
    "Without using Copy & Paste create a list whose entries are the following numbers:\n",
    "10 15 20 25 30 35 40 45 50 55."
   ]
  },
  {
   "cell_type": "code",
   "execution_count": 2,
   "metadata": {},
   "outputs": [
    {
     "data": {
      "text/html": [
       "<ol class=list-inline>\n",
       "\t<li>2</li>\n",
       "\t<li>3</li>\n",
       "\t<li>4</li>\n",
       "\t<li>5</li>\n",
       "\t<li>6</li>\n",
       "\t<li>7</li>\n",
       "\t<li>8</li>\n",
       "\t<li>9</li>\n",
       "\t<li>10</li>\n",
       "\t<li>11</li>\n",
       "</ol>\n"
      ],
      "text/latex": [
       "\\begin{enumerate*}\n",
       "\\item 2\n",
       "\\item 3\n",
       "\\item 4\n",
       "\\item 5\n",
       "\\item 6\n",
       "\\item 7\n",
       "\\item 8\n",
       "\\item 9\n",
       "\\item 10\n",
       "\\item 11\n",
       "\\end{enumerate*}\n"
      ],
      "text/markdown": [
       "1. 2\n",
       "2. 3\n",
       "3. 4\n",
       "4. 5\n",
       "5. 6\n",
       "6. 7\n",
       "7. 8\n",
       "8. 9\n",
       "9. 10\n",
       "10. 11\n",
       "\n",
       "\n"
      ],
      "text/plain": [
       " [1]  2  3  4  5  6  7  8  9 10 11"
      ]
     },
     "metadata": {},
     "output_type": "display_data"
    }
   ],
   "source": [
    "2:11"
   ]
  },
  {
   "cell_type": "code",
   "execution_count": 1,
   "metadata": {},
   "outputs": [
    {
     "data": {
      "text/html": [
       "<ol class=list-inline>\n",
       "\t<li>10</li>\n",
       "\t<li>15</li>\n",
       "\t<li>20</li>\n",
       "\t<li>25</li>\n",
       "\t<li>30</li>\n",
       "\t<li>35</li>\n",
       "\t<li>40</li>\n",
       "\t<li>45</li>\n",
       "\t<li>50</li>\n",
       "\t<li>55</li>\n",
       "</ol>\n"
      ],
      "text/latex": [
       "\\begin{enumerate*}\n",
       "\\item 10\n",
       "\\item 15\n",
       "\\item 20\n",
       "\\item 25\n",
       "\\item 30\n",
       "\\item 35\n",
       "\\item 40\n",
       "\\item 45\n",
       "\\item 50\n",
       "\\item 55\n",
       "\\end{enumerate*}\n"
      ],
      "text/markdown": [
       "1. 10\n",
       "2. 15\n",
       "3. 20\n",
       "4. 25\n",
       "5. 30\n",
       "6. 35\n",
       "7. 40\n",
       "8. 45\n",
       "9. 50\n",
       "10. 55\n",
       "\n",
       "\n"
      ],
      "text/plain": [
       " [1] 10 15 20 25 30 35 40 45 50 55"
      ]
     },
     "metadata": {},
     "output_type": "display_data"
    }
   ],
   "source": [
    "2:11*5"
   ]
  },
  {
   "cell_type": "markdown",
   "metadata": {
    "slideshow": {
     "slide_type": "slide"
    }
   },
   "source": [
    "### Exercise 2 - Ice cream sale!!!\n",
    "\n",
    "An icecream truck sells many different types of ice cream. The prices of each type of ice cream are stored in a list called `ice_cream_prices`in the code cell below. Today the icecream is on sale! The amount that each item is discounted is stored in the list called `discounts`. The order of the discounts corresponds to the order of the prices. \n",
    "\n",
    "Create a new list with the sale prices of each item and store the list in a variable called `sale_prices`."
   ]
  },
  {
   "cell_type": "code",
   "execution_count": 3,
   "metadata": {},
   "outputs": [],
   "source": [
    "ice_cream_prices <- c(1.25, 3, 5.99, 1.75, 6.75, 4.99, 7.09, 3.55, 2)\n",
    "discounts <- c(0.25, 1, 0.50, 0.5, 1, 0, 1, 0.25, 0)"
   ]
  },
  {
   "cell_type": "code",
   "execution_count": 4,
   "metadata": {},
   "outputs": [
    {
     "ename": "ERROR",
     "evalue": "Error in eval(expr, envir, enclos): object 'my_vect' not found\n",
     "output_type": "error",
     "traceback": [
      "Error in eval(expr, envir, enclos): object 'my_vect' not found\nTraceback:\n"
     ]
    }
   ],
   "source": [
    "my_vect # undefined variable"
   ]
  },
  {
   "cell_type": "code",
   "execution_count": 7,
   "metadata": {},
   "outputs": [
    {
     "data": {
      "text/html": [
       "<ol class=list-inline>\n",
       "\t<li>1</li>\n",
       "\t<li>2</li>\n",
       "\t<li>5.49</li>\n",
       "\t<li>1.25</li>\n",
       "\t<li>5.75</li>\n",
       "\t<li>4.99</li>\n",
       "\t<li>6.09</li>\n",
       "\t<li>3.3</li>\n",
       "\t<li>2</li>\n",
       "</ol>\n"
      ],
      "text/latex": [
       "\\begin{enumerate*}\n",
       "\\item 1\n",
       "\\item 2\n",
       "\\item 5.49\n",
       "\\item 1.25\n",
       "\\item 5.75\n",
       "\\item 4.99\n",
       "\\item 6.09\n",
       "\\item 3.3\n",
       "\\item 2\n",
       "\\end{enumerate*}\n"
      ],
      "text/markdown": [
       "1. 1\n",
       "2. 2\n",
       "3. 5.49\n",
       "4. 1.25\n",
       "5. 5.75\n",
       "6. 4.99\n",
       "7. 6.09\n",
       "8. 3.3\n",
       "9. 2\n",
       "\n",
       "\n"
      ],
      "text/plain": [
       "[1] 1.00 2.00 5.49 1.25 5.75 4.99 6.09 3.30 2.00"
      ]
     },
     "metadata": {},
     "output_type": "display_data"
    }
   ],
   "source": [
    "# Recall that the pound sign is used for comments\n",
    "\n",
    "sale_prices <- ice_cream_prices - discounts # This line creates the list and stores it.\n",
    "sale_prices # This line is what causes R to output the list."
   ]
  },
  {
   "cell_type": "markdown",
   "metadata": {},
   "source": [
    "### Exercises 3- More ice cream \n",
    "Use `sale_prices` from excercise 2 and R functions to determine the ansers to the following questions:\n",
    "* How many types of ice cream does the truck sell?\n",
    "* What is the cost of the most exspensive frozen treat?\n",
    "* What is the cost of the cheapest ice cream option?\n",
    "* What is the average cost of an item from the truck rounded to the nearest cent?"
   ]
  },
  {
   "cell_type": "code",
   "execution_count": null,
   "metadata": {},
   "outputs": [],
   "source": []
  },
  {
   "cell_type": "code",
   "execution_count": 11,
   "metadata": {
    "scrolled": true
   },
   "outputs": [
    {
     "data": {
      "text/html": [
       "9"
      ],
      "text/latex": [
       "9"
      ],
      "text/markdown": [
       "9"
      ],
      "text/plain": [
       "[1] 9"
      ]
     },
     "metadata": {},
     "output_type": "display_data"
    }
   ],
   "source": [
    "length(sale_prices)"
   ]
  },
  {
   "cell_type": "markdown",
   "metadata": {},
   "source": [
    "There are 9 types of ice cream."
   ]
  },
  {
   "cell_type": "code",
   "execution_count": 17,
   "metadata": {},
   "outputs": [
    {
     "data": {
      "text/html": [
       "6.09"
      ],
      "text/latex": [
       "6.09"
      ],
      "text/markdown": [
       "6.09"
      ],
      "text/plain": [
       "[1] 6.09"
      ]
     },
     "metadata": {},
     "output_type": "display_data"
    }
   ],
   "source": [
    "max(sale_prices)"
   ]
  },
  {
   "cell_type": "markdown",
   "metadata": {},
   "source": [
    "The cost of the most exspensive treat is $6.09."
   ]
  },
  {
   "cell_type": "code",
   "execution_count": 18,
   "metadata": {},
   "outputs": [
    {
     "data": {
      "text/html": [
       "1"
      ],
      "text/latex": [
       "1"
      ],
      "text/markdown": [
       "1"
      ],
      "text/plain": [
       "[1] 1"
      ]
     },
     "metadata": {},
     "output_type": "display_data"
    }
   ],
   "source": [
    "min(sale_prices)"
   ]
  },
  {
   "cell_type": "markdown",
   "metadata": {},
   "source": [
    "The cost of the least exspensive treat is $1."
   ]
  },
  {
   "cell_type": "code",
   "execution_count": 9,
   "metadata": {},
   "outputs": [
    {
     "data": {
      "text/html": [
       "3.54111111111111"
      ],
      "text/latex": [
       "3.54111111111111"
      ],
      "text/markdown": [
       "3.54111111111111"
      ],
      "text/plain": [
       "[1] 3.541111"
      ]
     },
     "metadata": {},
     "output_type": "display_data"
    }
   ],
   "source": [
    "mean(sale_prices) # average price"
   ]
  },
  {
   "cell_type": "code",
   "execution_count": 19,
   "metadata": {},
   "outputs": [
    {
     "data": {
      "text/html": [
       "3.54"
      ],
      "text/latex": [
       "3.54"
      ],
      "text/markdown": [
       "3.54"
      ],
      "text/plain": [
       "[1] 3.54"
      ]
     },
     "metadata": {},
     "output_type": "display_data"
    }
   ],
   "source": [
    "round(mean(sale_prices),2) # two decimal places"
   ]
  },
  {
   "cell_type": "markdown",
   "metadata": {},
   "source": [
    "The average cost of ice cream is $3.54."
   ]
  },
  {
   "cell_type": "markdown",
   "metadata": {},
   "source": [
    "## Part 2: Old faithful"
   ]
  },
  {
   "cell_type": "markdown",
   "metadata": {},
   "source": [
    "### Exercise 4 - Old Failthful\n",
    "\n",
    "One of the data sets in the datasets package is called `faithful`. Use the documentation on this dataset to answer the following question. Wrtie your answer in the markdown cell below. \n",
    "\n",
    "Why is there reason to believe that this data includes errors introduced by humans?"
   ]
  },
  {
   "cell_type": "code",
   "execution_count": null,
   "metadata": {},
   "outputs": [],
   "source": []
  },
  {
   "cell_type": "code",
   "execution_count": 15,
   "metadata": {},
   "outputs": [],
   "source": [
    "?faithful # question mark for documentation"
   ]
  },
  {
   "cell_type": "markdown",
   "metadata": {},
   "source": [
    "Eruption times are very often multiples of five. "
   ]
  },
  {
   "cell_type": "markdown",
   "metadata": {},
   "source": [
    "### Exercise 5 - The last observation\n",
    "\n",
    "How long was the last erruption recorded in the fialthful data set? Write you answer in the markdown cell below. Don't forget units!"
   ]
  },
  {
   "cell_type": "code",
   "execution_count": 20,
   "metadata": {},
   "outputs": [
    {
     "data": {
      "text/html": [
       "<table>\n",
       "<thead><tr><th scope=col>eruptions</th><th scope=col>waiting</th></tr></thead>\n",
       "<tbody>\n",
       "\t<tr><td>3.600</td><td>79   </td></tr>\n",
       "\t<tr><td>1.800</td><td>54   </td></tr>\n",
       "\t<tr><td>3.333</td><td>74   </td></tr>\n",
       "\t<tr><td>2.283</td><td>62   </td></tr>\n",
       "\t<tr><td>4.533</td><td>85   </td></tr>\n",
       "\t<tr><td>2.883</td><td>55   </td></tr>\n",
       "\t<tr><td>4.700</td><td>88   </td></tr>\n",
       "\t<tr><td>3.600</td><td>85   </td></tr>\n",
       "\t<tr><td>1.950</td><td>51   </td></tr>\n",
       "\t<tr><td>4.350</td><td>85   </td></tr>\n",
       "\t<tr><td>1.833</td><td>54   </td></tr>\n",
       "\t<tr><td>3.917</td><td>84   </td></tr>\n",
       "\t<tr><td>4.200</td><td>78   </td></tr>\n",
       "\t<tr><td>1.750</td><td>47   </td></tr>\n",
       "\t<tr><td>4.700</td><td>83   </td></tr>\n",
       "\t<tr><td>2.167</td><td>52   </td></tr>\n",
       "\t<tr><td>1.750</td><td>62   </td></tr>\n",
       "\t<tr><td>4.800</td><td>84   </td></tr>\n",
       "\t<tr><td>1.600</td><td>52   </td></tr>\n",
       "\t<tr><td>4.250</td><td>79   </td></tr>\n",
       "\t<tr><td>1.800</td><td>51   </td></tr>\n",
       "\t<tr><td>1.750</td><td>47   </td></tr>\n",
       "\t<tr><td>3.450</td><td>78   </td></tr>\n",
       "\t<tr><td>3.067</td><td>69   </td></tr>\n",
       "\t<tr><td>4.533</td><td>74   </td></tr>\n",
       "\t<tr><td>3.600</td><td>83   </td></tr>\n",
       "\t<tr><td>1.967</td><td>55   </td></tr>\n",
       "\t<tr><td>4.083</td><td>76   </td></tr>\n",
       "\t<tr><td>3.850</td><td>78   </td></tr>\n",
       "\t<tr><td>4.433</td><td>79   </td></tr>\n",
       "\t<tr><td>...</td><td>...</td></tr>\n",
       "\t<tr><td>4.933</td><td>86   </td></tr>\n",
       "\t<tr><td>2.900</td><td>63   </td></tr>\n",
       "\t<tr><td>4.583</td><td>85   </td></tr>\n",
       "\t<tr><td>3.833</td><td>82   </td></tr>\n",
       "\t<tr><td>2.083</td><td>57   </td></tr>\n",
       "\t<tr><td>4.367</td><td>82   </td></tr>\n",
       "\t<tr><td>2.133</td><td>67   </td></tr>\n",
       "\t<tr><td>4.350</td><td>74   </td></tr>\n",
       "\t<tr><td>2.200</td><td>54   </td></tr>\n",
       "\t<tr><td>4.450</td><td>83   </td></tr>\n",
       "\t<tr><td>3.567</td><td>73   </td></tr>\n",
       "\t<tr><td>4.500</td><td>73   </td></tr>\n",
       "\t<tr><td>4.150</td><td>88   </td></tr>\n",
       "\t<tr><td>3.817</td><td>80   </td></tr>\n",
       "\t<tr><td>3.917</td><td>71   </td></tr>\n",
       "\t<tr><td>4.450</td><td>83   </td></tr>\n",
       "\t<tr><td>2.000</td><td>56   </td></tr>\n",
       "\t<tr><td>4.283</td><td>79   </td></tr>\n",
       "\t<tr><td>4.767</td><td>78   </td></tr>\n",
       "\t<tr><td>4.533</td><td>84   </td></tr>\n",
       "\t<tr><td>1.850</td><td>58   </td></tr>\n",
       "\t<tr><td>4.250</td><td>83   </td></tr>\n",
       "\t<tr><td>1.983</td><td>43   </td></tr>\n",
       "\t<tr><td>2.250</td><td>60   </td></tr>\n",
       "\t<tr><td>4.750</td><td>75   </td></tr>\n",
       "\t<tr><td>4.117</td><td>81   </td></tr>\n",
       "\t<tr><td>2.150</td><td>46   </td></tr>\n",
       "\t<tr><td>4.417</td><td>90   </td></tr>\n",
       "\t<tr><td>1.817</td><td>46   </td></tr>\n",
       "\t<tr><td>4.467</td><td>74   </td></tr>\n",
       "</tbody>\n",
       "</table>\n"
      ],
      "text/latex": [
       "\\begin{tabular}{r|ll}\n",
       " eruptions & waiting\\\\\n",
       "\\hline\n",
       "\t 3.600 & 79   \\\\\n",
       "\t 1.800 & 54   \\\\\n",
       "\t 3.333 & 74   \\\\\n",
       "\t 2.283 & 62   \\\\\n",
       "\t 4.533 & 85   \\\\\n",
       "\t 2.883 & 55   \\\\\n",
       "\t 4.700 & 88   \\\\\n",
       "\t 3.600 & 85   \\\\\n",
       "\t 1.950 & 51   \\\\\n",
       "\t 4.350 & 85   \\\\\n",
       "\t 1.833 & 54   \\\\\n",
       "\t 3.917 & 84   \\\\\n",
       "\t 4.200 & 78   \\\\\n",
       "\t 1.750 & 47   \\\\\n",
       "\t 4.700 & 83   \\\\\n",
       "\t 2.167 & 52   \\\\\n",
       "\t 1.750 & 62   \\\\\n",
       "\t 4.800 & 84   \\\\\n",
       "\t 1.600 & 52   \\\\\n",
       "\t 4.250 & 79   \\\\\n",
       "\t 1.800 & 51   \\\\\n",
       "\t 1.750 & 47   \\\\\n",
       "\t 3.450 & 78   \\\\\n",
       "\t 3.067 & 69   \\\\\n",
       "\t 4.533 & 74   \\\\\n",
       "\t 3.600 & 83   \\\\\n",
       "\t 1.967 & 55   \\\\\n",
       "\t 4.083 & 76   \\\\\n",
       "\t 3.850 & 78   \\\\\n",
       "\t 4.433 & 79   \\\\\n",
       "\t ... & ...\\\\\n",
       "\t 4.933 & 86   \\\\\n",
       "\t 2.900 & 63   \\\\\n",
       "\t 4.583 & 85   \\\\\n",
       "\t 3.833 & 82   \\\\\n",
       "\t 2.083 & 57   \\\\\n",
       "\t 4.367 & 82   \\\\\n",
       "\t 2.133 & 67   \\\\\n",
       "\t 4.350 & 74   \\\\\n",
       "\t 2.200 & 54   \\\\\n",
       "\t 4.450 & 83   \\\\\n",
       "\t 3.567 & 73   \\\\\n",
       "\t 4.500 & 73   \\\\\n",
       "\t 4.150 & 88   \\\\\n",
       "\t 3.817 & 80   \\\\\n",
       "\t 3.917 & 71   \\\\\n",
       "\t 4.450 & 83   \\\\\n",
       "\t 2.000 & 56   \\\\\n",
       "\t 4.283 & 79   \\\\\n",
       "\t 4.767 & 78   \\\\\n",
       "\t 4.533 & 84   \\\\\n",
       "\t 1.850 & 58   \\\\\n",
       "\t 4.250 & 83   \\\\\n",
       "\t 1.983 & 43   \\\\\n",
       "\t 2.250 & 60   \\\\\n",
       "\t 4.750 & 75   \\\\\n",
       "\t 4.117 & 81   \\\\\n",
       "\t 2.150 & 46   \\\\\n",
       "\t 4.417 & 90   \\\\\n",
       "\t 1.817 & 46   \\\\\n",
       "\t 4.467 & 74   \\\\\n",
       "\\end{tabular}\n"
      ],
      "text/markdown": [
       "\n",
       "| eruptions | waiting |\n",
       "|---|---|\n",
       "| 3.600 | 79    |\n",
       "| 1.800 | 54    |\n",
       "| 3.333 | 74    |\n",
       "| 2.283 | 62    |\n",
       "| 4.533 | 85    |\n",
       "| 2.883 | 55    |\n",
       "| 4.700 | 88    |\n",
       "| 3.600 | 85    |\n",
       "| 1.950 | 51    |\n",
       "| 4.350 | 85    |\n",
       "| 1.833 | 54    |\n",
       "| 3.917 | 84    |\n",
       "| 4.200 | 78    |\n",
       "| 1.750 | 47    |\n",
       "| 4.700 | 83    |\n",
       "| 2.167 | 52    |\n",
       "| 1.750 | 62    |\n",
       "| 4.800 | 84    |\n",
       "| 1.600 | 52    |\n",
       "| 4.250 | 79    |\n",
       "| 1.800 | 51    |\n",
       "| 1.750 | 47    |\n",
       "| 3.450 | 78    |\n",
       "| 3.067 | 69    |\n",
       "| 4.533 | 74    |\n",
       "| 3.600 | 83    |\n",
       "| 1.967 | 55    |\n",
       "| 4.083 | 76    |\n",
       "| 3.850 | 78    |\n",
       "| 4.433 | 79    |\n",
       "| ... | ... |\n",
       "| 4.933 | 86    |\n",
       "| 2.900 | 63    |\n",
       "| 4.583 | 85    |\n",
       "| 3.833 | 82    |\n",
       "| 2.083 | 57    |\n",
       "| 4.367 | 82    |\n",
       "| 2.133 | 67    |\n",
       "| 4.350 | 74    |\n",
       "| 2.200 | 54    |\n",
       "| 4.450 | 83    |\n",
       "| 3.567 | 73    |\n",
       "| 4.500 | 73    |\n",
       "| 4.150 | 88    |\n",
       "| 3.817 | 80    |\n",
       "| 3.917 | 71    |\n",
       "| 4.450 | 83    |\n",
       "| 2.000 | 56    |\n",
       "| 4.283 | 79    |\n",
       "| 4.767 | 78    |\n",
       "| 4.533 | 84    |\n",
       "| 1.850 | 58    |\n",
       "| 4.250 | 83    |\n",
       "| 1.983 | 43    |\n",
       "| 2.250 | 60    |\n",
       "| 4.750 | 75    |\n",
       "| 4.117 | 81    |\n",
       "| 2.150 | 46    |\n",
       "| 4.417 | 90    |\n",
       "| 1.817 | 46    |\n",
       "| 4.467 | 74    |\n",
       "\n"
      ],
      "text/plain": [
       "    eruptions waiting\n",
       "1   3.600     79     \n",
       "2   1.800     54     \n",
       "3   3.333     74     \n",
       "4   2.283     62     \n",
       "5   4.533     85     \n",
       "6   2.883     55     \n",
       "7   4.700     88     \n",
       "8   3.600     85     \n",
       "9   1.950     51     \n",
       "10  4.350     85     \n",
       "11  1.833     54     \n",
       "12  3.917     84     \n",
       "13  4.200     78     \n",
       "14  1.750     47     \n",
       "15  4.700     83     \n",
       "16  2.167     52     \n",
       "17  1.750     62     \n",
       "18  4.800     84     \n",
       "19  1.600     52     \n",
       "20  4.250     79     \n",
       "21  1.800     51     \n",
       "22  1.750     47     \n",
       "23  3.450     78     \n",
       "24  3.067     69     \n",
       "25  4.533     74     \n",
       "26  3.600     83     \n",
       "27  1.967     55     \n",
       "28  4.083     76     \n",
       "29  3.850     78     \n",
       "30  4.433     79     \n",
       "... ...       ...    \n",
       "243 4.933     86     \n",
       "244 2.900     63     \n",
       "245 4.583     85     \n",
       "246 3.833     82     \n",
       "247 2.083     57     \n",
       "248 4.367     82     \n",
       "249 2.133     67     \n",
       "250 4.350     74     \n",
       "251 2.200     54     \n",
       "252 4.450     83     \n",
       "253 3.567     73     \n",
       "254 4.500     73     \n",
       "255 4.150     88     \n",
       "256 3.817     80     \n",
       "257 3.917     71     \n",
       "258 4.450     83     \n",
       "259 2.000     56     \n",
       "260 4.283     79     \n",
       "261 4.767     78     \n",
       "262 4.533     84     \n",
       "263 1.850     58     \n",
       "264 4.250     83     \n",
       "265 1.983     43     \n",
       "266 2.250     60     \n",
       "267 4.750     75     \n",
       "268 4.117     81     \n",
       "269 2.150     46     \n",
       "270 4.417     90     \n",
       "271 1.817     46     \n",
       "272 4.467     74     "
      ]
     },
     "metadata": {},
     "output_type": "display_data"
    }
   ],
   "source": [
    "faithful # display the whole data frame and scoll to the bottom"
   ]
  },
  {
   "cell_type": "markdown",
   "metadata": {},
   "source": [
    "The last recorded eruption was 4.467 minutes long."
   ]
  },
  {
   "cell_type": "code",
   "execution_count": 21,
   "metadata": {},
   "outputs": [
    {
     "data": {
      "text/html": [
       "<ol class=list-inline>\n",
       "\t<li>272</li>\n",
       "\t<li>2</li>\n",
       "</ol>\n"
      ],
      "text/latex": [
       "\\begin{enumerate*}\n",
       "\\item 272\n",
       "\\item 2\n",
       "\\end{enumerate*}\n"
      ],
      "text/markdown": [
       "1. 272\n",
       "2. 2\n",
       "\n",
       "\n"
      ],
      "text/plain": [
       "[1] 272   2"
      ]
     },
     "metadata": {},
     "output_type": "display_data"
    }
   ],
   "source": [
    "dim(faithful)"
   ]
  },
  {
   "cell_type": "code",
   "execution_count": 16,
   "metadata": {},
   "outputs": [
    {
     "data": {
      "text/html": [
       "4.467"
      ],
      "text/latex": [
       "4.467"
      ],
      "text/markdown": [
       "4.467"
      ],
      "text/plain": [
       "[1] 4.467"
      ]
     },
     "metadata": {},
     "output_type": "display_data"
    }
   ],
   "source": [
    "faithful[272,1] # row, column"
   ]
  },
  {
   "cell_type": "markdown",
   "metadata": {},
   "source": [
    "### Exercise 6 - Change the units\n",
    "\n",
    "The faithful data set gives the duration of the erruptions in minutes and fractions of a minute. It would be easer to understad the data if we converted the decimals to seconds. Demonstrate that this could be done by finding the duration of the 13th recorded eruption in therms of minuts and seconds. "
   ]
  },
  {
   "cell_type": "code",
   "execution_count": null,
   "metadata": {},
   "outputs": [],
   "source": []
  },
  {
   "cell_type": "code",
   "execution_count": 1,
   "metadata": {
    "scrolled": true
   },
   "outputs": [
    {
     "data": {
      "text/html": [
       "4.2"
      ],
      "text/latex": [
       "4.2"
      ],
      "text/markdown": [
       "4.2"
      ],
      "text/plain": [
       "[1] 4.2"
      ]
     },
     "metadata": {},
     "output_type": "display_data"
    }
   ],
   "source": [
    "faithful[13,1] # 13th row first column"
   ]
  },
  {
   "cell_type": "code",
   "execution_count": 2,
   "metadata": {},
   "outputs": [
    {
     "data": {
      "text/html": [
       "12"
      ],
      "text/latex": [
       "12"
      ],
      "text/markdown": [
       "12"
      ],
      "text/plain": [
       "[1] 12"
      ]
     },
     "metadata": {},
     "output_type": "display_data"
    }
   ],
   "source": [
    "# We see that the duration is 4.2 minutes. We need to convert 0.2 minutes into seconds\n",
    "0.2*60"
   ]
  },
  {
   "cell_type": "markdown",
   "metadata": {},
   "source": [
    "The duration is 4 minutes and 12 seconds."
   ]
  },
  {
   "cell_type": "markdown",
   "metadata": {},
   "source": [
    "## Part 3: UC Berkeley"
   ]
  },
  {
   "cell_type": "markdown",
   "metadata": {},
   "source": [
    "### Exercise 7 - Load Berkeley addmissions data\n",
    "\n",
    "Execute the command in the code cell below to load the Berkeley admisions data. Then varify that it loaded correctly by excuting a command that displays all or part of the data. "
   ]
  },
  {
   "cell_type": "code",
   "execution_count": 5,
   "metadata": {
    "scrolled": true
   },
   "outputs": [],
   "source": [
    "berkeley <- read.csv('~/shared/data/berkeley73.csv')"
   ]
  },
  {
   "cell_type": "code",
   "execution_count": 6,
   "metadata": {
    "scrolled": true
   },
   "outputs": [
    {
     "data": {
      "text/html": [
       "<table>\n",
       "<thead><tr><th scope=col>Department</th><th scope=col>Men_Applicants</th><th scope=col>Men_Admitted</th><th scope=col>Women_Applicants</th><th scope=col>Women_Admitted</th></tr></thead>\n",
       "<tbody>\n",
       "\t<tr><td>A  </td><td>825</td><td>512</td><td>108</td><td> 89</td></tr>\n",
       "\t<tr><td>B  </td><td>560</td><td>353</td><td> 25</td><td> 17</td></tr>\n",
       "\t<tr><td>C  </td><td>325</td><td>120</td><td>593</td><td>202</td></tr>\n",
       "\t<tr><td>D  </td><td>417</td><td>138</td><td>375</td><td>131</td></tr>\n",
       "\t<tr><td>E  </td><td>191</td><td> 53</td><td>393</td><td> 94</td></tr>\n",
       "\t<tr><td>F  </td><td>373</td><td> 22</td><td>341</td><td> 24</td></tr>\n",
       "</tbody>\n",
       "</table>\n"
      ],
      "text/latex": [
       "\\begin{tabular}{r|lllll}\n",
       " Department & Men\\_Applicants & Men\\_Admitted & Women\\_Applicants & Women\\_Admitted\\\\\n",
       "\\hline\n",
       "\t A   & 825 & 512 & 108 &  89\\\\\n",
       "\t B   & 560 & 353 &  25 &  17\\\\\n",
       "\t C   & 325 & 120 & 593 & 202\\\\\n",
       "\t D   & 417 & 138 & 375 & 131\\\\\n",
       "\t E   & 191 &  53 & 393 &  94\\\\\n",
       "\t F   & 373 &  22 & 341 &  24\\\\\n",
       "\\end{tabular}\n"
      ],
      "text/markdown": [
       "\n",
       "| Department | Men_Applicants | Men_Admitted | Women_Applicants | Women_Admitted |\n",
       "|---|---|---|---|---|\n",
       "| A   | 825 | 512 | 108 |  89 |\n",
       "| B   | 560 | 353 |  25 |  17 |\n",
       "| C   | 325 | 120 | 593 | 202 |\n",
       "| D   | 417 | 138 | 375 | 131 |\n",
       "| E   | 191 |  53 | 393 |  94 |\n",
       "| F   | 373 |  22 | 341 |  24 |\n",
       "\n"
      ],
      "text/plain": [
       "  Department Men_Applicants Men_Admitted Women_Applicants Women_Admitted\n",
       "1 A          825            512          108               89           \n",
       "2 B          560            353           25               17           \n",
       "3 C          325            120          593              202           \n",
       "4 D          417            138          375              131           \n",
       "5 E          191             53          393               94           \n",
       "6 F          373             22          341               24           "
      ]
     },
     "metadata": {},
     "output_type": "display_data"
    }
   ],
   "source": [
    "berkeley <- read.csv('~/shared/data/berkeley73.csv')\n",
    "berkeley"
   ]
  },
  {
   "cell_type": "code",
   "execution_count": 14,
   "metadata": {},
   "outputs": [
    {
     "data": {
      "text/html": [
       "<table>\n",
       "<thead><tr><th scope=col>Department</th><th scope=col>Men_Applicants</th><th scope=col>Men_Admitted</th><th scope=col>Women_Applicants</th><th scope=col>Women_Admitted</th></tr></thead>\n",
       "<tbody>\n",
       "\t<tr><td>A  </td><td>825</td><td>512</td><td>108</td><td> 89</td></tr>\n",
       "\t<tr><td>B  </td><td>560</td><td>353</td><td> 25</td><td> 17</td></tr>\n",
       "\t<tr><td>C  </td><td>325</td><td>120</td><td>593</td><td>202</td></tr>\n",
       "\t<tr><td>D  </td><td>417</td><td>138</td><td>375</td><td>131</td></tr>\n",
       "\t<tr><td>E  </td><td>191</td><td> 53</td><td>393</td><td> 94</td></tr>\n",
       "\t<tr><td>F  </td><td>373</td><td> 22</td><td>341</td><td> 24</td></tr>\n",
       "</tbody>\n",
       "</table>\n"
      ],
      "text/latex": [
       "\\begin{tabular}{r|lllll}\n",
       " Department & Men\\_Applicants & Men\\_Admitted & Women\\_Applicants & Women\\_Admitted\\\\\n",
       "\\hline\n",
       "\t A   & 825 & 512 & 108 &  89\\\\\n",
       "\t B   & 560 & 353 &  25 &  17\\\\\n",
       "\t C   & 325 & 120 & 593 & 202\\\\\n",
       "\t D   & 417 & 138 & 375 & 131\\\\\n",
       "\t E   & 191 &  53 & 393 &  94\\\\\n",
       "\t F   & 373 &  22 & 341 &  24\\\\\n",
       "\\end{tabular}\n"
      ],
      "text/markdown": [
       "\n",
       "| Department | Men_Applicants | Men_Admitted | Women_Applicants | Women_Admitted |\n",
       "|---|---|---|---|---|\n",
       "| A   | 825 | 512 | 108 |  89 |\n",
       "| B   | 560 | 353 |  25 |  17 |\n",
       "| C   | 325 | 120 | 593 | 202 |\n",
       "| D   | 417 | 138 | 375 | 131 |\n",
       "| E   | 191 |  53 | 393 |  94 |\n",
       "| F   | 373 |  22 | 341 |  24 |\n",
       "\n"
      ],
      "text/plain": [
       "  Department Men_Applicants Men_Admitted Women_Applicants Women_Admitted\n",
       "1 A          825            512          108               89           \n",
       "2 B          560            353           25               17           \n",
       "3 C          325            120          593              202           \n",
       "4 D          417            138          375              131           \n",
       "5 E          191             53          393               94           \n",
       "6 F          373             22          341               24           "
      ]
     },
     "metadata": {},
     "output_type": "display_data"
    }
   ],
   "source": [
    "# Strategy 1\n",
    "berkeley"
   ]
  },
  {
   "cell_type": "code",
   "execution_count": 13,
   "metadata": {},
   "outputs": [
    {
     "data": {
      "text/html": [
       "<table>\n",
       "<thead><tr><th scope=col>Department</th><th scope=col>Men_Applicants</th><th scope=col>Men_Admitted</th><th scope=col>Women_Applicants</th><th scope=col>Women_Admitted</th></tr></thead>\n",
       "<tbody>\n",
       "\t<tr><td>A  </td><td>825</td><td>512</td><td>108</td><td>89 </td></tr>\n",
       "\t<tr><td>B  </td><td>560</td><td>353</td><td> 25</td><td>17 </td></tr>\n",
       "</tbody>\n",
       "</table>\n"
      ],
      "text/latex": [
       "\\begin{tabular}{r|lllll}\n",
       " Department & Men\\_Applicants & Men\\_Admitted & Women\\_Applicants & Women\\_Admitted\\\\\n",
       "\\hline\n",
       "\t A   & 825 & 512 & 108 & 89 \\\\\n",
       "\t B   & 560 & 353 &  25 & 17 \\\\\n",
       "\\end{tabular}\n"
      ],
      "text/markdown": [
       "\n",
       "| Department | Men_Applicants | Men_Admitted | Women_Applicants | Women_Admitted |\n",
       "|---|---|---|---|---|\n",
       "| A   | 825 | 512 | 108 | 89  |\n",
       "| B   | 560 | 353 |  25 | 17  |\n",
       "\n"
      ],
      "text/plain": [
       "  Department Men_Applicants Men_Admitted Women_Applicants Women_Admitted\n",
       "1 A          825            512          108              89            \n",
       "2 B          560            353           25              17            "
      ]
     },
     "metadata": {},
     "output_type": "display_data"
    }
   ],
   "source": [
    "# Strategy 2\n",
    "head(berkeley,2)"
   ]
  },
  {
   "cell_type": "markdown",
   "metadata": {},
   "source": [
    "### Exercise 8 - Admissons rates\n",
    "\n",
    "Add two new columns to the berkeley data frame. One that contains the percentage of men who were admitted by each department and a second that contains the percentage of women that were admitted by each department. "
   ]
  },
  {
   "cell_type": "code",
   "execution_count": 18,
   "metadata": {
    "scrolled": false
   },
   "outputs": [
    {
     "data": {
      "text/html": [
       "<table>\n",
       "<thead><tr><th scope=col>Department</th><th scope=col>Men_Applicants</th><th scope=col>Men_Admitted</th><th scope=col>Women_Applicants</th><th scope=col>Women_Admitted</th><th scope=col>Per_Men_Admitted</th><th scope=col>Per_Women_Admitted</th></tr></thead>\n",
       "<tbody>\n",
       "\t<tr><td>A        </td><td>825      </td><td>512      </td><td>108      </td><td> 89      </td><td>62.060606</td><td>82.407407</td></tr>\n",
       "\t<tr><td>B        </td><td>560      </td><td>353      </td><td> 25      </td><td> 17      </td><td>63.035714</td><td>68.000000</td></tr>\n",
       "\t<tr><td>C        </td><td>325      </td><td>120      </td><td>593      </td><td>202      </td><td>36.923077</td><td>34.064081</td></tr>\n",
       "\t<tr><td>D        </td><td>417      </td><td>138      </td><td>375      </td><td>131      </td><td>33.093525</td><td>34.933333</td></tr>\n",
       "\t<tr><td>E        </td><td>191      </td><td> 53      </td><td>393      </td><td> 94      </td><td>27.748691</td><td>23.918575</td></tr>\n",
       "\t<tr><td>F        </td><td>373      </td><td> 22      </td><td>341      </td><td> 24      </td><td> 5.898123</td><td> 7.038123</td></tr>\n",
       "</tbody>\n",
       "</table>\n"
      ],
      "text/latex": [
       "\\begin{tabular}{r|lllllll}\n",
       " Department & Men\\_Applicants & Men\\_Admitted & Women\\_Applicants & Women\\_Admitted & Per\\_Men\\_Admitted & Per\\_Women\\_Admitted\\\\\n",
       "\\hline\n",
       "\t A         & 825       & 512       & 108       &  89       & 62.060606 & 82.407407\\\\\n",
       "\t B         & 560       & 353       &  25       &  17       & 63.035714 & 68.000000\\\\\n",
       "\t C         & 325       & 120       & 593       & 202       & 36.923077 & 34.064081\\\\\n",
       "\t D         & 417       & 138       & 375       & 131       & 33.093525 & 34.933333\\\\\n",
       "\t E         & 191       &  53       & 393       &  94       & 27.748691 & 23.918575\\\\\n",
       "\t F         & 373       &  22       & 341       &  24       &  5.898123 &  7.038123\\\\\n",
       "\\end{tabular}\n"
      ],
      "text/markdown": [
       "\n",
       "| Department | Men_Applicants | Men_Admitted | Women_Applicants | Women_Admitted | Per_Men_Admitted | Per_Women_Admitted |\n",
       "|---|---|---|---|---|---|---|\n",
       "| A         | 825       | 512       | 108       |  89       | 62.060606 | 82.407407 |\n",
       "| B         | 560       | 353       |  25       |  17       | 63.035714 | 68.000000 |\n",
       "| C         | 325       | 120       | 593       | 202       | 36.923077 | 34.064081 |\n",
       "| D         | 417       | 138       | 375       | 131       | 33.093525 | 34.933333 |\n",
       "| E         | 191       |  53       | 393       |  94       | 27.748691 | 23.918575 |\n",
       "| F         | 373       |  22       | 341       |  24       |  5.898123 |  7.038123 |\n",
       "\n"
      ],
      "text/plain": [
       "  Department Men_Applicants Men_Admitted Women_Applicants Women_Admitted\n",
       "1 A          825            512          108               89           \n",
       "2 B          560            353           25               17           \n",
       "3 C          325            120          593              202           \n",
       "4 D          417            138          375              131           \n",
       "5 E          191             53          393               94           \n",
       "6 F          373             22          341               24           \n",
       "  Per_Men_Admitted Per_Women_Admitted\n",
       "1 62.060606        82.407407         \n",
       "2 63.035714        68.000000         \n",
       "3 36.923077        34.064081         \n",
       "4 33.093525        34.933333         \n",
       "5 27.748691        23.918575         \n",
       "6  5.898123         7.038123         "
      ]
     },
     "metadata": {},
     "output_type": "display_data"
    }
   ],
   "source": [
    "# percent admitted = total admiteed/ total applied * 100\n",
    "berkeley$Per_Men_Admitted <- berkeley$Men_Admitted/berkeley$Men_Applicants*100\n",
    "berkeley$Per_Women_Admitted <- berkeley$Women_Admitted/berkeley$Women_Applicants*100\n",
    "berkeley"
   ]
  },
  {
   "cell_type": "markdown",
   "metadata": {},
   "source": [
    "## Examples"
   ]
  },
  {
   "cell_type": "code",
   "execution_count": 1,
   "metadata": {},
   "outputs": [
    {
     "data": {
      "text/html": [
       "6.5"
      ],
      "text/latex": [
       "6.5"
      ],
      "text/markdown": [
       "6.5"
      ],
      "text/plain": [
       "[1] 6.5"
      ]
     },
     "metadata": {},
     "output_type": "display_data"
    }
   ],
   "source": [
    "mean(3:10)"
   ]
  },
  {
   "cell_type": "markdown",
   "metadata": {},
   "source": [
    "### Example 1 - Variables and list fucntions"
   ]
  },
  {
   "cell_type": "code",
   "execution_count": 33,
   "metadata": {
    "scrolled": false
   },
   "outputs": [
    {
     "data": {
      "text/html": [
       "4.217"
      ],
      "text/latex": [
       "4.217"
      ],
      "text/markdown": [
       "4.217"
      ],
      "text/plain": [
       "[1] 4.217"
      ]
     },
     "metadata": {},
     "output_type": "display_data"
    }
   ],
   "source": [
    "numbers <- c(5.8, 3.52, 7.81, 0.4, 4.79, 3.04, 4.89, 5.23, 2.37, 4.32) # generated using a random number generator\n",
    "mean(numbers)"
   ]
  },
  {
   "cell_type": "code",
   "execution_count": 35,
   "metadata": {},
   "outputs": [
    {
     "data": {
      "text/html": [
       "7.81"
      ],
      "text/latex": [
       "7.81"
      ],
      "text/markdown": [
       "7.81"
      ],
      "text/plain": [
       "[1] 7.81"
      ]
     },
     "metadata": {},
     "output_type": "display_data"
    }
   ],
   "source": [
    "max(numbers)"
   ]
  },
  {
   "cell_type": "markdown",
   "metadata": {},
   "source": [
    "### Example 2 - Airquality"
   ]
  },
  {
   "cell_type": "code",
   "execution_count": 8,
   "metadata": {},
   "outputs": [],
   "source": [
    "library(help = \"datasets\")"
   ]
  },
  {
   "cell_type": "code",
   "execution_count": 17,
   "metadata": {},
   "outputs": [],
   "source": [
    "?airquality # gives the documentation for this BUILT-IN dataset"
   ]
  },
  {
   "cell_type": "code",
   "execution_count": 13,
   "metadata": {},
   "outputs": [
    {
     "data": {
      "text/html": [
       "<table>\n",
       "<thead><tr><th scope=col>Ozone</th><th scope=col>Solar.R</th><th scope=col>Wind</th><th scope=col>Temp</th><th scope=col>Month</th><th scope=col>Day</th></tr></thead>\n",
       "<tbody>\n",
       "\t<tr><td>41  </td><td>190 </td><td> 7.4</td><td>67  </td><td>5   </td><td>1   </td></tr>\n",
       "\t<tr><td>36  </td><td>118 </td><td> 8.0</td><td>72  </td><td>5   </td><td>2   </td></tr>\n",
       "\t<tr><td>12  </td><td>149 </td><td>12.6</td><td>74  </td><td>5   </td><td>3   </td></tr>\n",
       "</tbody>\n",
       "</table>\n"
      ],
      "text/latex": [
       "\\begin{tabular}{r|llllll}\n",
       " Ozone & Solar.R & Wind & Temp & Month & Day\\\\\n",
       "\\hline\n",
       "\t 41   & 190  &  7.4 & 67   & 5    & 1   \\\\\n",
       "\t 36   & 118  &  8.0 & 72   & 5    & 2   \\\\\n",
       "\t 12   & 149  & 12.6 & 74   & 5    & 3   \\\\\n",
       "\\end{tabular}\n"
      ],
      "text/markdown": [
       "\n",
       "| Ozone | Solar.R | Wind | Temp | Month | Day |\n",
       "|---|---|---|---|---|---|\n",
       "| 41   | 190  |  7.4 | 67   | 5    | 1    |\n",
       "| 36   | 118  |  8.0 | 72   | 5    | 2    |\n",
       "| 12   | 149  | 12.6 | 74   | 5    | 3    |\n",
       "\n"
      ],
      "text/plain": [
       "  Ozone Solar.R Wind Temp Month Day\n",
       "1 41    190      7.4 67   5     1  \n",
       "2 36    118      8.0 72   5     2  \n",
       "3 12    149     12.6 74   5     3  "
      ]
     },
     "metadata": {},
     "output_type": "display_data"
    }
   ],
   "source": [
    "head(airquality,3)"
   ]
  },
  {
   "cell_type": "code",
   "execution_count": 3,
   "metadata": {},
   "outputs": [
    {
     "name": "stdout",
     "output_type": "stream",
     "text": [
      "'data.frame':\t153 obs. of  6 variables:\n",
      " $ Ozone  : int  41 36 12 18 NA 28 23 19 8 NA ...\n",
      " $ Solar.R: int  190 118 149 313 NA NA 299 99 19 194 ...\n",
      " $ Wind   : num  7.4 8 12.6 11.5 14.3 14.9 8.6 13.8 20.1 8.6 ...\n",
      " $ Temp   : int  67 72 74 62 56 66 65 59 61 69 ...\n",
      " $ Month  : int  5 5 5 5 5 5 5 5 5 5 ...\n",
      " $ Day    : int  1 2 3 4 5 6 7 8 9 10 ...\n"
     ]
    }
   ],
   "source": [
    "str(airquality) # structure function"
   ]
  },
  {
   "cell_type": "code",
   "execution_count": 14,
   "metadata": {},
   "outputs": [
    {
     "name": "stderr",
     "output_type": "stream",
     "text": [
      "Warning message in mean.default(airquality$temp):\n",
      "“argument is not numeric or logical: returning NA”"
     ]
    },
    {
     "data": {
      "text/html": [
       "&lt;NA&gt;"
      ],
      "text/latex": [
       "<NA>"
      ],
      "text/markdown": [
       "&lt;NA&gt;"
      ],
      "text/plain": [
       "[1] NA"
      ]
     },
     "metadata": {},
     "output_type": "display_data"
    }
   ],
   "source": [
    "mean(airquality$temp) # Note that R is sensitice to campialization"
   ]
  },
  {
   "cell_type": "code",
   "execution_count": 15,
   "metadata": {},
   "outputs": [
    {
     "data": {
      "text/html": [
       "77.8823529411765"
      ],
      "text/latex": [
       "77.8823529411765"
      ],
      "text/markdown": [
       "77.8823529411765"
      ],
      "text/plain": [
       "[1] 77.88235"
      ]
     },
     "metadata": {},
     "output_type": "display_data"
    }
   ],
   "source": [
    "mean(airquality$Temp)"
   ]
  },
  {
   "cell_type": "markdown",
   "metadata": {},
   "source": [
    "The average high temperature in NYC from May to Septemerin 1973 was $77.9^\\circ$ F."
   ]
  },
  {
   "cell_type": "code",
   "execution_count": 18,
   "metadata": {},
   "outputs": [
    {
     "data": {
      "text/html": [
       "97"
      ],
      "text/latex": [
       "97"
      ],
      "text/markdown": [
       "97"
      ],
      "text/plain": [
       "[1] 97"
      ]
     },
     "metadata": {},
     "output_type": "display_data"
    }
   ],
   "source": [
    "max(airquality$Temp)"
   ]
  },
  {
   "cell_type": "markdown",
   "metadata": {},
   "source": [
    "The hottest day was $97^\\circ$ F."
   ]
  },
  {
   "cell_type": "markdown",
   "metadata": {},
   "source": [
    "### Example 3 - Change the units\n",
    "\n",
    "We can use the formula below to convert a temperature $f$ in degrees Fahrenheit to the equivalent temperature $c$ in degrees Celcius\n",
    "$$(f − 32) \\cdot \\frac{5}{9} = c$$"
   ]
  },
  {
   "cell_type": "code",
   "execution_count": 19,
   "metadata": {},
   "outputs": [
    {
     "data": {
      "text/html": [
       "36.1111111111111"
      ],
      "text/latex": [
       "36.1111111111111"
      ],
      "text/markdown": [
       "36.1111111111111"
      ],
      "text/plain": [
       "[1] 36.11111"
      ]
     },
     "metadata": {},
     "output_type": "display_data"
    }
   ],
   "source": [
    "f <- 97\n",
    "(f-32)*5/9"
   ]
  },
  {
   "cell_type": "markdown",
   "metadata": {},
   "source": [
    "The hottest day was $36.1^\\circ$ C."
   ]
  },
  {
   "cell_type": "code",
   "execution_count": 23,
   "metadata": {},
   "outputs": [
    {
     "data": {
      "text/html": [
       "<table>\n",
       "<thead><tr><th scope=col>Ozone</th><th scope=col>Solar.R</th><th scope=col>Wind</th><th scope=col>Temp</th><th scope=col>Month</th><th scope=col>Day</th><th scope=col>Celcius</th></tr></thead>\n",
       "<tbody>\n",
       "\t<tr><td>41      </td><td>190     </td><td> 7.4    </td><td>67      </td><td>5       </td><td>1       </td><td>19.44444</td></tr>\n",
       "\t<tr><td>36      </td><td>118     </td><td> 8.0    </td><td>72      </td><td>5       </td><td>2       </td><td>22.22222</td></tr>\n",
       "\t<tr><td>12      </td><td>149     </td><td>12.6    </td><td>74      </td><td>5       </td><td>3       </td><td>23.33333</td></tr>\n",
       "\t<tr><td>18      </td><td>313     </td><td>11.5    </td><td>62      </td><td>5       </td><td>4       </td><td>16.66667</td></tr>\n",
       "\t<tr><td>NA      </td><td> NA     </td><td>14.3    </td><td>56      </td><td>5       </td><td>5       </td><td>13.33333</td></tr>\n",
       "\t<tr><td>28      </td><td> NA     </td><td>14.9    </td><td>66      </td><td>5       </td><td>6       </td><td>18.88889</td></tr>\n",
       "</tbody>\n",
       "</table>\n"
      ],
      "text/latex": [
       "\\begin{tabular}{r|lllllll}\n",
       " Ozone & Solar.R & Wind & Temp & Month & Day & Celcius\\\\\n",
       "\\hline\n",
       "\t 41       & 190      &  7.4     & 67       & 5        & 1        & 19.44444\\\\\n",
       "\t 36       & 118      &  8.0     & 72       & 5        & 2        & 22.22222\\\\\n",
       "\t 12       & 149      & 12.6     & 74       & 5        & 3        & 23.33333\\\\\n",
       "\t 18       & 313      & 11.5     & 62       & 5        & 4        & 16.66667\\\\\n",
       "\t NA       &  NA      & 14.3     & 56       & 5        & 5        & 13.33333\\\\\n",
       "\t 28       &  NA      & 14.9     & 66       & 5        & 6        & 18.88889\\\\\n",
       "\\end{tabular}\n"
      ],
      "text/markdown": [
       "\n",
       "| Ozone | Solar.R | Wind | Temp | Month | Day | Celcius |\n",
       "|---|---|---|---|---|---|---|\n",
       "| 41       | 190      |  7.4     | 67       | 5        | 1        | 19.44444 |\n",
       "| 36       | 118      |  8.0     | 72       | 5        | 2        | 22.22222 |\n",
       "| 12       | 149      | 12.6     | 74       | 5        | 3        | 23.33333 |\n",
       "| 18       | 313      | 11.5     | 62       | 5        | 4        | 16.66667 |\n",
       "| NA       |  NA      | 14.3     | 56       | 5        | 5        | 13.33333 |\n",
       "| 28       |  NA      | 14.9     | 66       | 5        | 6        | 18.88889 |\n",
       "\n"
      ],
      "text/plain": [
       "  Ozone Solar.R Wind Temp Month Day Celcius \n",
       "1 41    190      7.4 67   5     1   19.44444\n",
       "2 36    118      8.0 72   5     2   22.22222\n",
       "3 12    149     12.6 74   5     3   23.33333\n",
       "4 18    313     11.5 62   5     4   16.66667\n",
       "5 NA     NA     14.3 56   5     5   13.33333\n",
       "6 28     NA     14.9 66   5     6   18.88889"
      ]
     },
     "metadata": {},
     "output_type": "display_data"
    }
   ],
   "source": [
    "airquality$Celcius <- (airquality$Temp - 32)*5/9\n",
    "head(airquality)"
   ]
  },
  {
   "cell_type": "code",
   "execution_count": null,
   "metadata": {},
   "outputs": [],
   "source": []
  }
 ],
 "metadata": {
  "kernelspec": {
   "display_name": "R",
   "language": "R",
   "name": "ir"
  },
  "language_info": {
   "codemirror_mode": "r",
   "file_extension": ".r",
   "mimetype": "text/x-r-source",
   "name": "R",
   "pygments_lexer": "r",
   "version": "3.6.3"
  }
 },
 "nbformat": 4,
 "nbformat_minor": 4
}
