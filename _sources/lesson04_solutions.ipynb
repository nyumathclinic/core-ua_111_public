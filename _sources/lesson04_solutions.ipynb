{
 "cells": [
  {
   "cell_type": "markdown",
   "metadata": {},
   "source": [
    "# Lesson 4 Solutions\n",
    "\n",
    "These exercises are to help you check your understanding during class. They will not be collected."
   ]
  },
  {
   "cell_type": "markdown",
   "metadata": {},
   "source": [
    "## Part 1: Dataframes"
   ]
  },
  {
   "cell_type": "markdown",
   "metadata": {},
   "source": [
    "### Exercise 1 - `floor()` function\n",
    "The `floor()` function takes a decimal and returns the whole number to the left of the decimal place **without** rounding.\n",
    "$$\\texttt{floor}(2.98) = 2 $$\n",
    "\n",
    "Last class, we found the duration of the 13th recorded eruption in terms of minuts and seconds. Using the code in the cells below. \n",
    "\n",
    "- Use the foor function to create an expression that will output the number of whole minutes the 17th erruption lasted."
   ]
  },
  {
   "cell_type": "code",
   "execution_count": 20,
   "metadata": {},
   "outputs": [
    {
     "data": {
      "text/html": [
       "4.2"
      ],
      "text/latex": [
       "4.2"
      ],
      "text/markdown": [
       "4.2"
      ],
      "text/plain": [
       "[1] 4.2"
      ]
     },
     "metadata": {},
     "output_type": "display_data"
    }
   ],
   "source": [
    "faithful$eruptions[13]"
   ]
  },
  {
   "cell_type": "code",
   "execution_count": 21,
   "metadata": {},
   "outputs": [
    {
     "data": {
      "text/html": [
       "12"
      ],
      "text/latex": [
       "12"
      ],
      "text/markdown": [
       "12"
      ],
      "text/plain": [
       "[1] 12"
      ]
     },
     "metadata": {},
     "output_type": "display_data"
    }
   ],
   "source": [
    "0.2 * 60"
   ]
  },
  {
   "cell_type": "markdown",
   "metadata": {
    "scrolled": true
   },
   "source": [
    "The 13th eruption lasted 4 minutes and 12 seconds."
   ]
  },
  {
   "cell_type": "code",
   "execution_count": 22,
   "metadata": {},
   "outputs": [
    {
     "data": {
      "text/html": [
       "1"
      ],
      "text/latex": [
       "1"
      ],
      "text/markdown": [
       "1"
      ],
      "text/plain": [
       "[1] 1"
      ]
     },
     "metadata": {},
     "output_type": "display_data"
    }
   ],
   "source": [
    "floor(faithful$eruptions[17])"
   ]
  },
  {
   "cell_type": "markdown",
   "metadata": {},
   "source": [
    "The 17th eruption lasted for 1 whole minute and some number of seconds."
   ]
  },
  {
   "cell_type": "markdown",
   "metadata": {
    "slideshow": {
     "slide_type": "slide"
    }
   },
   "source": [
    "### Exercise 2 - Whole minutes\n",
    "The faithful data set gives the duration of the erruptions in minutes and fractions of a minute. It would be easer to understad the data if we converted the decimals to seconds. \n",
    "\n",
    "The `floor()` function is vectorized. This means that if you input a vector of decimal numbers, it will return a vector of floor of each entry. \n",
    "$$\\texttt{floor}(\\texttt{c}(1.2, 3.6, 4.01) ) = \\texttt{c}(1, 3, 4)$$\n",
    "\n",
    "- Add a column called `minutes` to the `faithful` data set that contains the number of whole minutes (ignoring the decimal) that the erruption lasted. "
   ]
  },
  {
   "cell_type": "code",
   "execution_count": 29,
   "metadata": {},
   "outputs": [
    {
     "data": {
      "text/html": [
       "<table>\n",
       "<caption>A data.frame: 3 × 3</caption>\n",
       "<thead>\n",
       "\t<tr><th></th><th scope=col>eruptions</th><th scope=col>waiting</th><th scope=col>minutes</th></tr>\n",
       "\t<tr><th></th><th scope=col>&lt;dbl&gt;</th><th scope=col>&lt;dbl&gt;</th><th scope=col>&lt;dbl&gt;</th></tr>\n",
       "</thead>\n",
       "<tbody>\n",
       "\t<tr><th scope=row>1</th><td>3.600</td><td>79</td><td>3</td></tr>\n",
       "\t<tr><th scope=row>2</th><td>1.800</td><td>54</td><td>1</td></tr>\n",
       "\t<tr><th scope=row>3</th><td>3.333</td><td>74</td><td>3</td></tr>\n",
       "</tbody>\n",
       "</table>\n"
      ],
      "text/latex": [
       "A data.frame: 3 × 3\n",
       "\\begin{tabular}{r|lll}\n",
       "  & eruptions & waiting & minutes\\\\\n",
       "  & <dbl> & <dbl> & <dbl>\\\\\n",
       "\\hline\n",
       "\t1 & 3.600 & 79 & 3\\\\\n",
       "\t2 & 1.800 & 54 & 1\\\\\n",
       "\t3 & 3.333 & 74 & 3\\\\\n",
       "\\end{tabular}\n"
      ],
      "text/markdown": [
       "\n",
       "A data.frame: 3 × 3\n",
       "\n",
       "| <!--/--> | eruptions &lt;dbl&gt; | waiting &lt;dbl&gt; | minutes &lt;dbl&gt; |\n",
       "|---|---|---|---|\n",
       "| 1 | 3.600 | 79 | 3 |\n",
       "| 2 | 1.800 | 54 | 1 |\n",
       "| 3 | 3.333 | 74 | 3 |\n",
       "\n"
      ],
      "text/plain": [
       "  eruptions waiting minutes\n",
       "1 3.600     79      3      \n",
       "2 1.800     54      1      \n",
       "3 3.333     74      3      "
      ]
     },
     "metadata": {},
     "output_type": "display_data"
    }
   ],
   "source": [
    "faithful$minutes <- floor(faithful$eruption)\n",
    "head(faithful, 3)"
   ]
  },
  {
   "cell_type": "markdown",
   "metadata": {},
   "source": [
    "### Exercises 3- Seconds\n",
    "- Add a column called `seconds` to the `faithful` data set that contains the number of seconds that correspond to the decimal portion of the erruption duration. "
   ]
  },
  {
   "cell_type": "code",
   "execution_count": 30,
   "metadata": {
    "scrolled": true
   },
   "outputs": [
    {
     "data": {
      "text/html": [
       "<table>\n",
       "<caption>A data.frame: 3 × 4</caption>\n",
       "<thead>\n",
       "\t<tr><th></th><th scope=col>eruptions</th><th scope=col>waiting</th><th scope=col>minutes</th><th scope=col>seconds</th></tr>\n",
       "\t<tr><th></th><th scope=col>&lt;dbl&gt;</th><th scope=col>&lt;dbl&gt;</th><th scope=col>&lt;dbl&gt;</th><th scope=col>&lt;dbl&gt;</th></tr>\n",
       "</thead>\n",
       "<tbody>\n",
       "\t<tr><th scope=row>1</th><td>3.600</td><td>79</td><td>3</td><td>36.00</td></tr>\n",
       "\t<tr><th scope=row>2</th><td>1.800</td><td>54</td><td>1</td><td>48.00</td></tr>\n",
       "\t<tr><th scope=row>3</th><td>3.333</td><td>74</td><td>3</td><td>19.98</td></tr>\n",
       "</tbody>\n",
       "</table>\n"
      ],
      "text/latex": [
       "A data.frame: 3 × 4\n",
       "\\begin{tabular}{r|llll}\n",
       "  & eruptions & waiting & minutes & seconds\\\\\n",
       "  & <dbl> & <dbl> & <dbl> & <dbl>\\\\\n",
       "\\hline\n",
       "\t1 & 3.600 & 79 & 3 & 36.00\\\\\n",
       "\t2 & 1.800 & 54 & 1 & 48.00\\\\\n",
       "\t3 & 3.333 & 74 & 3 & 19.98\\\\\n",
       "\\end{tabular}\n"
      ],
      "text/markdown": [
       "\n",
       "A data.frame: 3 × 4\n",
       "\n",
       "| <!--/--> | eruptions &lt;dbl&gt; | waiting &lt;dbl&gt; | minutes &lt;dbl&gt; | seconds &lt;dbl&gt; |\n",
       "|---|---|---|---|---|\n",
       "| 1 | 3.600 | 79 | 3 | 36.00 |\n",
       "| 2 | 1.800 | 54 | 1 | 48.00 |\n",
       "| 3 | 3.333 | 74 | 3 | 19.98 |\n",
       "\n"
      ],
      "text/plain": [
       "  eruptions waiting minutes seconds\n",
       "1 3.600     79      3       36.00  \n",
       "2 1.800     54      1       48.00  \n",
       "3 3.333     74      3       19.98  "
      ]
     },
     "metadata": {},
     "output_type": "display_data"
    }
   ],
   "source": [
    "faithful$seconds <- (faithful$eruption - faithful$minutes)*60\n",
    "head(faithful, 3)"
   ]
  },
  {
   "cell_type": "markdown",
   "metadata": {},
   "source": [
    "## Part 2: dplyr"
   ]
  },
  {
   "cell_type": "markdown",
   "metadata": {},
   "source": [
    "### Exercise 4 - Clean slate\n",
    "The `rm()` function removes the values stored in a variable. \n",
    "\n",
    "- Execute the code in the cell below to recet the faithful dataset to the built in version. \n",
    "- Use `head()` to look at the first three rows of the faithful dataset and verify that the minutes and seconds columns are no longer there. "
   ]
  },
  {
   "cell_type": "code",
   "execution_count": 1,
   "metadata": {},
   "outputs": [
    {
     "name": "stderr",
     "output_type": "stream",
     "text": [
      "Warning message in rm(faithful):\n",
      "“object 'faithful' not found”"
     ]
    }
   ],
   "source": [
    "rm(faithful)"
   ]
  },
  {
   "cell_type": "code",
   "execution_count": 2,
   "metadata": {},
   "outputs": [
    {
     "data": {
      "text/html": [
       "<table>\n",
       "<thead><tr><th scope=col>eruptions</th><th scope=col>waiting</th></tr></thead>\n",
       "<tbody>\n",
       "\t<tr><td>3.600</td><td>79   </td></tr>\n",
       "\t<tr><td>1.800</td><td>54   </td></tr>\n",
       "\t<tr><td>3.333</td><td>74   </td></tr>\n",
       "</tbody>\n",
       "</table>\n"
      ],
      "text/latex": [
       "\\begin{tabular}{r|ll}\n",
       " eruptions & waiting\\\\\n",
       "\\hline\n",
       "\t 3.600 & 79   \\\\\n",
       "\t 1.800 & 54   \\\\\n",
       "\t 3.333 & 74   \\\\\n",
       "\\end{tabular}\n"
      ],
      "text/markdown": [
       "\n",
       "| eruptions | waiting |\n",
       "|---|---|\n",
       "| 3.600 | 79    |\n",
       "| 1.800 | 54    |\n",
       "| 3.333 | 74    |\n",
       "\n"
      ],
      "text/plain": [
       "  eruptions waiting\n",
       "1 3.600     79     \n",
       "2 1.800     54     \n",
       "3 3.333     74     "
      ]
     },
     "metadata": {},
     "output_type": "display_data"
    }
   ],
   "source": [
    "head(faithful,3)"
   ]
  },
  {
   "cell_type": "markdown",
   "metadata": {},
   "source": [
    "### Exercise 5 - Minutes again\n",
    "- Execute the code in the cell below to load the `dplyr` library.\n",
    "- Use the `mutate()` function to add a column called minutes to the faithful data set that contains the number of whole minutes (ignoring the decimal) that the erruption lasted"
   ]
  },
  {
   "cell_type": "code",
   "execution_count": 39,
   "metadata": {},
   "outputs": [],
   "source": [
    "library('dplyr')"
   ]
  },
  {
   "cell_type": "code",
   "execution_count": 41,
   "metadata": {},
   "outputs": [
    {
     "data": {
      "text/html": [
       "<table>\n",
       "<caption>A data.frame: 3 × 3</caption>\n",
       "<thead>\n",
       "\t<tr><th></th><th scope=col>eruptions</th><th scope=col>waiting</th><th scope=col>minutes</th></tr>\n",
       "\t<tr><th></th><th scope=col>&lt;dbl&gt;</th><th scope=col>&lt;dbl&gt;</th><th scope=col>&lt;dbl&gt;</th></tr>\n",
       "</thead>\n",
       "<tbody>\n",
       "\t<tr><th scope=row>1</th><td>3.600</td><td>79</td><td>3</td></tr>\n",
       "\t<tr><th scope=row>2</th><td>1.800</td><td>54</td><td>1</td></tr>\n",
       "\t<tr><th scope=row>3</th><td>3.333</td><td>74</td><td>3</td></tr>\n",
       "</tbody>\n",
       "</table>\n"
      ],
      "text/latex": [
       "A data.frame: 3 × 3\n",
       "\\begin{tabular}{r|lll}\n",
       "  & eruptions & waiting & minutes\\\\\n",
       "  & <dbl> & <dbl> & <dbl>\\\\\n",
       "\\hline\n",
       "\t1 & 3.600 & 79 & 3\\\\\n",
       "\t2 & 1.800 & 54 & 1\\\\\n",
       "\t3 & 3.333 & 74 & 3\\\\\n",
       "\\end{tabular}\n"
      ],
      "text/markdown": [
       "\n",
       "A data.frame: 3 × 3\n",
       "\n",
       "| <!--/--> | eruptions &lt;dbl&gt; | waiting &lt;dbl&gt; | minutes &lt;dbl&gt; |\n",
       "|---|---|---|---|\n",
       "| 1 | 3.600 | 79 | 3 |\n",
       "| 2 | 1.800 | 54 | 1 |\n",
       "| 3 | 3.333 | 74 | 3 |\n",
       "\n"
      ],
      "text/plain": [
       "  eruptions waiting minutes\n",
       "1 3.600     79      3      \n",
       "2 1.800     54      1      \n",
       "3 3.333     74      3      "
      ]
     },
     "metadata": {},
     "output_type": "display_data"
    }
   ],
   "source": [
    "faithful <- mutate(faithful, minutes = floor(eruptions))\n",
    "head(faithful,3)"
   ]
  },
  {
   "cell_type": "markdown",
   "metadata": {},
   "source": [
    "### Exercise 6 - Seconds again\n",
    "- Use the `mutate()` function to add a column called `seconds` to the `faithful` data set that contains the number of seconds that correspond to the decimal portion of the erruption duration. "
   ]
  },
  {
   "cell_type": "code",
   "execution_count": 43,
   "metadata": {},
   "outputs": [
    {
     "data": {
      "text/html": [
       "<table>\n",
       "<caption>A data.frame: 3 × 4</caption>\n",
       "<thead>\n",
       "\t<tr><th></th><th scope=col>eruptions</th><th scope=col>waiting</th><th scope=col>minutes</th><th scope=col>seconds</th></tr>\n",
       "\t<tr><th></th><th scope=col>&lt;dbl&gt;</th><th scope=col>&lt;dbl&gt;</th><th scope=col>&lt;dbl&gt;</th><th scope=col>&lt;dbl&gt;</th></tr>\n",
       "</thead>\n",
       "<tbody>\n",
       "\t<tr><th scope=row>1</th><td>3.600</td><td>79</td><td>3</td><td>36.00</td></tr>\n",
       "\t<tr><th scope=row>2</th><td>1.800</td><td>54</td><td>1</td><td>48.00</td></tr>\n",
       "\t<tr><th scope=row>3</th><td>3.333</td><td>74</td><td>3</td><td>19.98</td></tr>\n",
       "</tbody>\n",
       "</table>\n"
      ],
      "text/latex": [
       "A data.frame: 3 × 4\n",
       "\\begin{tabular}{r|llll}\n",
       "  & eruptions & waiting & minutes & seconds\\\\\n",
       "  & <dbl> & <dbl> & <dbl> & <dbl>\\\\\n",
       "\\hline\n",
       "\t1 & 3.600 & 79 & 3 & 36.00\\\\\n",
       "\t2 & 1.800 & 54 & 1 & 48.00\\\\\n",
       "\t3 & 3.333 & 74 & 3 & 19.98\\\\\n",
       "\\end{tabular}\n"
      ],
      "text/markdown": [
       "\n",
       "A data.frame: 3 × 4\n",
       "\n",
       "| <!--/--> | eruptions &lt;dbl&gt; | waiting &lt;dbl&gt; | minutes &lt;dbl&gt; | seconds &lt;dbl&gt; |\n",
       "|---|---|---|---|---|\n",
       "| 1 | 3.600 | 79 | 3 | 36.00 |\n",
       "| 2 | 1.800 | 54 | 1 | 48.00 |\n",
       "| 3 | 3.333 | 74 | 3 | 19.98 |\n",
       "\n"
      ],
      "text/plain": [
       "  eruptions waiting minutes seconds\n",
       "1 3.600     79      3       36.00  \n",
       "2 1.800     54      1       48.00  \n",
       "3 3.333     74      3       19.98  "
      ]
     },
     "metadata": {},
     "output_type": "display_data"
    }
   ],
   "source": [
    "faithful <- mutate(faithful, seconds = (eruptions - minutes)*60)\n",
    "head(faithful,3)"
   ]
  },
  {
   "cell_type": "markdown",
   "metadata": {},
   "source": [
    "## Part 3: Sorting"
   ]
  },
  {
   "cell_type": "markdown",
   "metadata": {},
   "source": [
    "### Exercise 7 - Longest eruption\n",
    "- Use the `arrange()` function to find the duration of the longest eruption in the faithful dataset. "
   ]
  },
  {
   "cell_type": "code",
   "execution_count": 58,
   "metadata": {},
   "outputs": [
    {
     "data": {
      "text/html": [
       "<table>\n",
       "<caption>A data.frame: 1 × 4</caption>\n",
       "<thead>\n",
       "\t<tr><th></th><th scope=col>eruptions</th><th scope=col>waiting</th><th scope=col>minutes</th><th scope=col>seconds</th></tr>\n",
       "\t<tr><th></th><th scope=col>&lt;dbl&gt;</th><th scope=col>&lt;dbl&gt;</th><th scope=col>&lt;dbl&gt;</th><th scope=col>&lt;dbl&gt;</th></tr>\n",
       "</thead>\n",
       "<tbody>\n",
       "\t<tr><th scope=row>1</th><td>5.1</td><td>96</td><td>5</td><td>6</td></tr>\n",
       "</tbody>\n",
       "</table>\n"
      ],
      "text/latex": [
       "A data.frame: 1 × 4\n",
       "\\begin{tabular}{r|llll}\n",
       "  & eruptions & waiting & minutes & seconds\\\\\n",
       "  & <dbl> & <dbl> & <dbl> & <dbl>\\\\\n",
       "\\hline\n",
       "\t1 & 5.1 & 96 & 5 & 6\\\\\n",
       "\\end{tabular}\n"
      ],
      "text/markdown": [
       "\n",
       "A data.frame: 1 × 4\n",
       "\n",
       "| <!--/--> | eruptions &lt;dbl&gt; | waiting &lt;dbl&gt; | minutes &lt;dbl&gt; | seconds &lt;dbl&gt; |\n",
       "|---|---|---|---|---|\n",
       "| 1 | 5.1 | 96 | 5 | 6 |\n",
       "\n"
      ],
      "text/plain": [
       "  eruptions waiting minutes seconds\n",
       "1 5.1       96      5       6      "
      ]
     },
     "metadata": {},
     "output_type": "display_data"
    }
   ],
   "source": [
    "arrange(faithful, desc(eruptions))[1,]"
   ]
  },
  {
   "cell_type": "markdown",
   "metadata": {},
   "source": [
    "The longest erruption lasted 5 minutes and 6 seconds."
   ]
  },
  {
   "cell_type": "markdown",
   "metadata": {},
   "source": [
    "### Exercise 8 - Shortest eruption\n",
    "- Use the minutes and seconds columns that you added to the faithful dataset to find the duration of the shortest eruption."
   ]
  },
  {
   "cell_type": "code",
   "execution_count": 59,
   "metadata": {},
   "outputs": [
    {
     "data": {
      "text/html": [
       "<table>\n",
       "<caption>A data.frame: 1 × 4</caption>\n",
       "<thead>\n",
       "\t<tr><th></th><th scope=col>eruptions</th><th scope=col>waiting</th><th scope=col>minutes</th><th scope=col>seconds</th></tr>\n",
       "\t<tr><th></th><th scope=col>&lt;dbl&gt;</th><th scope=col>&lt;dbl&gt;</th><th scope=col>&lt;dbl&gt;</th><th scope=col>&lt;dbl&gt;</th></tr>\n",
       "</thead>\n",
       "<tbody>\n",
       "\t<tr><th scope=row>1</th><td>1.6</td><td>52</td><td>1</td><td>36</td></tr>\n",
       "</tbody>\n",
       "</table>\n"
      ],
      "text/latex": [
       "A data.frame: 1 × 4\n",
       "\\begin{tabular}{r|llll}\n",
       "  & eruptions & waiting & minutes & seconds\\\\\n",
       "  & <dbl> & <dbl> & <dbl> & <dbl>\\\\\n",
       "\\hline\n",
       "\t1 & 1.6 & 52 & 1 & 36\\\\\n",
       "\\end{tabular}\n"
      ],
      "text/markdown": [
       "\n",
       "A data.frame: 1 × 4\n",
       "\n",
       "| <!--/--> | eruptions &lt;dbl&gt; | waiting &lt;dbl&gt; | minutes &lt;dbl&gt; | seconds &lt;dbl&gt; |\n",
       "|---|---|---|---|---|\n",
       "| 1 | 1.6 | 52 | 1 | 36 |\n",
       "\n"
      ],
      "text/plain": [
       "  eruptions waiting minutes seconds\n",
       "1 1.6       52      1       36     "
      ]
     },
     "metadata": {},
     "output_type": "display_data"
    }
   ],
   "source": [
    "arrange(faithful, minutes, seconds)[1,]"
   ]
  },
  {
   "cell_type": "markdown",
   "metadata": {},
   "source": [
    "The shortest erruption lasted 1 minute and 36 seconds."
   ]
  },
  {
   "cell_type": "markdown",
   "metadata": {},
   "source": [
    "## Examples"
   ]
  },
  {
   "cell_type": "markdown",
   "metadata": {},
   "source": [
    "### Example 1 - Add a column (base R)"
   ]
  },
  {
   "cell_type": "code",
   "execution_count": 51,
   "metadata": {},
   "outputs": [
    {
     "data": {
      "text/html": [
       "<table>\n",
       "<caption>A data.frame: 3 × 3</caption>\n",
       "<thead>\n",
       "\t<tr><th scope=col>Runner</th><th scope=col>Minutes</th><th scope=col>Seconds</th></tr>\n",
       "\t<tr><th scope=col>&lt;fct&gt;</th><th scope=col>&lt;dbl&gt;</th><th scope=col>&lt;dbl&gt;</th></tr>\n",
       "</thead>\n",
       "<tbody>\n",
       "\t<tr><td>Alice</td><td>5</td><td> 6</td></tr>\n",
       "\t<tr><td>Bob  </td><td>4</td><td>10</td></tr>\n",
       "\t<tr><td>Carol</td><td>4</td><td>30</td></tr>\n",
       "</tbody>\n",
       "</table>\n"
      ],
      "text/latex": [
       "A data.frame: 3 × 3\n",
       "\\begin{tabular}{lll}\n",
       " Runner & Minutes & Seconds\\\\\n",
       " <fct> & <dbl> & <dbl>\\\\\n",
       "\\hline\n",
       "\t Alice & 5 &  6\\\\\n",
       "\t Bob   & 4 & 10\\\\\n",
       "\t Carol & 4 & 30\\\\\n",
       "\\end{tabular}\n"
      ],
      "text/markdown": [
       "\n",
       "A data.frame: 3 × 3\n",
       "\n",
       "| Runner &lt;fct&gt; | Minutes &lt;dbl&gt; | Seconds &lt;dbl&gt; |\n",
       "|---|---|---|\n",
       "| Alice | 5 |  6 |\n",
       "| Bob   | 4 | 10 |\n",
       "| Carol | 4 | 30 |\n",
       "\n"
      ],
      "text/plain": [
       "  Runner Minutes Seconds\n",
       "1 Alice  5        6     \n",
       "2 Bob    4       10     \n",
       "3 Carol  4       30     "
      ]
     },
     "metadata": {},
     "output_type": "display_data"
    }
   ],
   "source": [
    "# manually create the data frame\n",
    "my_data <- data.frame('Runner' = c('Alice', 'Bob', 'Carol'),\n",
    "                      'Minutes' = c(5,4,4),\n",
    "                      'Seconds' = c(6,10,30)\n",
    "                     )\n",
    "my_data"
   ]
  },
  {
   "cell_type": "code",
   "execution_count": 6,
   "metadata": {},
   "outputs": [
    {
     "data": {
      "text/html": [
       "<table>\n",
       "<caption>A data.frame: 3 × 4</caption>\n",
       "<thead>\n",
       "\t<tr><th scope=col>Runner</th><th scope=col>Minutes</th><th scope=col>Seconds</th><th scope=col>Total</th></tr>\n",
       "\t<tr><th scope=col>&lt;fct&gt;</th><th scope=col>&lt;dbl&gt;</th><th scope=col>&lt;dbl&gt;</th><th scope=col>&lt;dbl&gt;</th></tr>\n",
       "</thead>\n",
       "<tbody>\n",
       "\t<tr><td>Alice</td><td>5</td><td> 6</td><td>5.100000</td></tr>\n",
       "\t<tr><td>Bob  </td><td>6</td><td>10</td><td>6.166667</td></tr>\n",
       "\t<tr><td>Carol</td><td>4</td><td>30</td><td>4.500000</td></tr>\n",
       "</tbody>\n",
       "</table>\n"
      ],
      "text/latex": [
       "A data.frame: 3 × 4\n",
       "\\begin{tabular}{llll}\n",
       " Runner & Minutes & Seconds & Total\\\\\n",
       " <fct> & <dbl> & <dbl> & <dbl>\\\\\n",
       "\\hline\n",
       "\t Alice & 5 &  6 & 5.100000\\\\\n",
       "\t Bob   & 6 & 10 & 6.166667\\\\\n",
       "\t Carol & 4 & 30 & 4.500000\\\\\n",
       "\\end{tabular}\n"
      ],
      "text/markdown": [
       "\n",
       "A data.frame: 3 × 4\n",
       "\n",
       "| Runner &lt;fct&gt; | Minutes &lt;dbl&gt; | Seconds &lt;dbl&gt; | Total &lt;dbl&gt; |\n",
       "|---|---|---|---|\n",
       "| Alice | 5 |  6 | 5.100000 |\n",
       "| Bob   | 6 | 10 | 6.166667 |\n",
       "| Carol | 4 | 30 | 4.500000 |\n",
       "\n"
      ],
      "text/plain": [
       "  Runner Minutes Seconds Total   \n",
       "1 Alice  5        6      5.100000\n",
       "2 Bob    6       10      6.166667\n",
       "3 Carol  4       30      4.500000"
      ]
     },
     "metadata": {},
     "output_type": "display_data"
    }
   ],
   "source": [
    "# add the Total column to the data frame\n",
    "my_data$Total <- my_data$Minutes + my_data$Seconds/60\n",
    "my_data"
   ]
  },
  {
   "cell_type": "markdown",
   "metadata": {},
   "source": [
    "### Example 2 - Add column dplyr"
   ]
  },
  {
   "cell_type": "code",
   "execution_count": 11,
   "metadata": {},
   "outputs": [],
   "source": [
    "library('dplyr')"
   ]
  },
  {
   "cell_type": "code",
   "execution_count": 53,
   "metadata": {
    "scrolled": true
   },
   "outputs": [
    {
     "data": {
      "text/html": [
       "<table>\n",
       "<caption>A data.frame: 3 × 4</caption>\n",
       "<thead>\n",
       "\t<tr><th scope=col>Runner</th><th scope=col>Minutes</th><th scope=col>Seconds</th><th scope=col>Total</th></tr>\n",
       "\t<tr><th scope=col>&lt;fct&gt;</th><th scope=col>&lt;dbl&gt;</th><th scope=col>&lt;dbl&gt;</th><th scope=col>&lt;dbl&gt;</th></tr>\n",
       "</thead>\n",
       "<tbody>\n",
       "\t<tr><td>Alice</td><td>5</td><td> 6</td><td>5.100000</td></tr>\n",
       "\t<tr><td>Bob  </td><td>4</td><td>10</td><td>4.166667</td></tr>\n",
       "\t<tr><td>Carol</td><td>4</td><td>30</td><td>4.500000</td></tr>\n",
       "</tbody>\n",
       "</table>\n"
      ],
      "text/latex": [
       "A data.frame: 3 × 4\n",
       "\\begin{tabular}{llll}\n",
       " Runner & Minutes & Seconds & Total\\\\\n",
       " <fct> & <dbl> & <dbl> & <dbl>\\\\\n",
       "\\hline\n",
       "\t Alice & 5 &  6 & 5.100000\\\\\n",
       "\t Bob   & 4 & 10 & 4.166667\\\\\n",
       "\t Carol & 4 & 30 & 4.500000\\\\\n",
       "\\end{tabular}\n"
      ],
      "text/markdown": [
       "\n",
       "A data.frame: 3 × 4\n",
       "\n",
       "| Runner &lt;fct&gt; | Minutes &lt;dbl&gt; | Seconds &lt;dbl&gt; | Total &lt;dbl&gt; |\n",
       "|---|---|---|---|\n",
       "| Alice | 5 |  6 | 5.100000 |\n",
       "| Bob   | 4 | 10 | 4.166667 |\n",
       "| Carol | 4 | 30 | 4.500000 |\n",
       "\n"
      ],
      "text/plain": [
       "  Runner Minutes Seconds Total   \n",
       "1 Alice  5        6      5.100000\n",
       "2 Bob    4       10      4.166667\n",
       "3 Carol  4       30      4.500000"
      ]
     },
     "metadata": {},
     "output_type": "display_data"
    }
   ],
   "source": [
    "my_data <- mutate(my_data, Total = Minutes + Seconds/60)\n",
    "my_data"
   ]
  },
  {
   "cell_type": "markdown",
   "metadata": {},
   "source": [
    "### Example 3 - Sorting"
   ]
  },
  {
   "cell_type": "code",
   "execution_count": 55,
   "metadata": {},
   "outputs": [
    {
     "data": {
      "text/html": [
       "<table>\n",
       "<caption>A data.frame: 3 × 4</caption>\n",
       "<thead>\n",
       "\t<tr><th scope=col>Runner</th><th scope=col>Minutes</th><th scope=col>Seconds</th><th scope=col>Total</th></tr>\n",
       "\t<tr><th scope=col>&lt;fct&gt;</th><th scope=col>&lt;dbl&gt;</th><th scope=col>&lt;dbl&gt;</th><th scope=col>&lt;dbl&gt;</th></tr>\n",
       "</thead>\n",
       "<tbody>\n",
       "\t<tr><td>Bob  </td><td>4</td><td>10</td><td>4.166667</td></tr>\n",
       "\t<tr><td>Carol</td><td>4</td><td>30</td><td>4.500000</td></tr>\n",
       "\t<tr><td>Alice</td><td>5</td><td> 6</td><td>5.100000</td></tr>\n",
       "</tbody>\n",
       "</table>\n"
      ],
      "text/latex": [
       "A data.frame: 3 × 4\n",
       "\\begin{tabular}{llll}\n",
       " Runner & Minutes & Seconds & Total\\\\\n",
       " <fct> & <dbl> & <dbl> & <dbl>\\\\\n",
       "\\hline\n",
       "\t Bob   & 4 & 10 & 4.166667\\\\\n",
       "\t Carol & 4 & 30 & 4.500000\\\\\n",
       "\t Alice & 5 &  6 & 5.100000\\\\\n",
       "\\end{tabular}\n"
      ],
      "text/markdown": [
       "\n",
       "A data.frame: 3 × 4\n",
       "\n",
       "| Runner &lt;fct&gt; | Minutes &lt;dbl&gt; | Seconds &lt;dbl&gt; | Total &lt;dbl&gt; |\n",
       "|---|---|---|---|\n",
       "| Bob   | 4 | 10 | 4.166667 |\n",
       "| Carol | 4 | 30 | 4.500000 |\n",
       "| Alice | 5 |  6 | 5.100000 |\n",
       "\n"
      ],
      "text/plain": [
       "  Runner Minutes Seconds Total   \n",
       "1 Bob    4       10      4.166667\n",
       "2 Carol  4       30      4.500000\n",
       "3 Alice  5        6      5.100000"
      ]
     },
     "metadata": {},
     "output_type": "display_data"
    }
   ],
   "source": [
    "# only output sorted data; don't save it\n",
    "arrange(my_data, Total)"
   ]
  },
  {
   "cell_type": "code",
   "execution_count": 56,
   "metadata": {},
   "outputs": [
    {
     "data": {
      "text/html": [
       "<table>\n",
       "<caption>A data.frame: 3 × 4</caption>\n",
       "<thead>\n",
       "\t<tr><th scope=col>Runner</th><th scope=col>Minutes</th><th scope=col>Seconds</th><th scope=col>Total</th></tr>\n",
       "\t<tr><th scope=col>&lt;fct&gt;</th><th scope=col>&lt;dbl&gt;</th><th scope=col>&lt;dbl&gt;</th><th scope=col>&lt;dbl&gt;</th></tr>\n",
       "</thead>\n",
       "<tbody>\n",
       "\t<tr><td>Alice</td><td>5</td><td> 6</td><td>5.100000</td></tr>\n",
       "\t<tr><td>Bob  </td><td>4</td><td>10</td><td>4.166667</td></tr>\n",
       "\t<tr><td>Carol</td><td>4</td><td>30</td><td>4.500000</td></tr>\n",
       "</tbody>\n",
       "</table>\n"
      ],
      "text/latex": [
       "A data.frame: 3 × 4\n",
       "\\begin{tabular}{llll}\n",
       " Runner & Minutes & Seconds & Total\\\\\n",
       " <fct> & <dbl> & <dbl> & <dbl>\\\\\n",
       "\\hline\n",
       "\t Alice & 5 &  6 & 5.100000\\\\\n",
       "\t Bob   & 4 & 10 & 4.166667\\\\\n",
       "\t Carol & 4 & 30 & 4.500000\\\\\n",
       "\\end{tabular}\n"
      ],
      "text/markdown": [
       "\n",
       "A data.frame: 3 × 4\n",
       "\n",
       "| Runner &lt;fct&gt; | Minutes &lt;dbl&gt; | Seconds &lt;dbl&gt; | Total &lt;dbl&gt; |\n",
       "|---|---|---|---|\n",
       "| Alice | 5 |  6 | 5.100000 |\n",
       "| Bob   | 4 | 10 | 4.166667 |\n",
       "| Carol | 4 | 30 | 4.500000 |\n",
       "\n"
      ],
      "text/plain": [
       "  Runner Minutes Seconds Total   \n",
       "1 Alice  5        6      5.100000\n",
       "2 Bob    4       10      4.166667\n",
       "3 Carol  4       30      4.500000"
      ]
     },
     "metadata": {},
     "output_type": "display_data"
    }
   ],
   "source": [
    "# dataframe is unchaged\n",
    "my_data"
   ]
  },
  {
   "cell_type": "code",
   "execution_count": 57,
   "metadata": {},
   "outputs": [
    {
     "data": {
      "text/html": [
       "<table>\n",
       "<caption>A data.frame: 3 × 4</caption>\n",
       "<thead>\n",
       "\t<tr><th scope=col>Runner</th><th scope=col>Minutes</th><th scope=col>Seconds</th><th scope=col>Total</th></tr>\n",
       "\t<tr><th scope=col>&lt;fct&gt;</th><th scope=col>&lt;dbl&gt;</th><th scope=col>&lt;dbl&gt;</th><th scope=col>&lt;dbl&gt;</th></tr>\n",
       "</thead>\n",
       "<tbody>\n",
       "\t<tr><td>Alice</td><td>5</td><td> 6</td><td>5.100000</td></tr>\n",
       "\t<tr><td>Carol</td><td>4</td><td>30</td><td>4.500000</td></tr>\n",
       "\t<tr><td>Bob  </td><td>4</td><td>10</td><td>4.166667</td></tr>\n",
       "</tbody>\n",
       "</table>\n"
      ],
      "text/latex": [
       "A data.frame: 3 × 4\n",
       "\\begin{tabular}{llll}\n",
       " Runner & Minutes & Seconds & Total\\\\\n",
       " <fct> & <dbl> & <dbl> & <dbl>\\\\\n",
       "\\hline\n",
       "\t Alice & 5 &  6 & 5.100000\\\\\n",
       "\t Carol & 4 & 30 & 4.500000\\\\\n",
       "\t Bob   & 4 & 10 & 4.166667\\\\\n",
       "\\end{tabular}\n"
      ],
      "text/markdown": [
       "\n",
       "A data.frame: 3 × 4\n",
       "\n",
       "| Runner &lt;fct&gt; | Minutes &lt;dbl&gt; | Seconds &lt;dbl&gt; | Total &lt;dbl&gt; |\n",
       "|---|---|---|---|\n",
       "| Alice | 5 |  6 | 5.100000 |\n",
       "| Carol | 4 | 30 | 4.500000 |\n",
       "| Bob   | 4 | 10 | 4.166667 |\n",
       "\n"
      ],
      "text/plain": [
       "  Runner Minutes Seconds Total   \n",
       "1 Alice  5        6      5.100000\n",
       "2 Carol  4       30      4.500000\n",
       "3 Bob    4       10      4.166667"
      ]
     },
     "metadata": {},
     "output_type": "display_data"
    }
   ],
   "source": [
    "# sort multiple columns\n",
    "arrange(my_data, desc(Minutes), desc(Seconds))"
   ]
  },
  {
   "cell_type": "code",
   "execution_count": null,
   "metadata": {},
   "outputs": [],
   "source": []
  }
 ],
 "metadata": {
  "kernelspec": {
   "display_name": "R",
   "language": "R",
   "name": "ir"
  },
  "language_info": {
   "codemirror_mode": "r",
   "file_extension": ".r",
   "mimetype": "text/x-r-source",
   "name": "R",
   "pygments_lexer": "r",
   "version": "3.6.3"
  }
 },
 "nbformat": 4,
 "nbformat_minor": 4
}
